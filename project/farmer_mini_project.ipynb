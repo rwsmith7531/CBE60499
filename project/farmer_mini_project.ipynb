{
 "cells": [
  {
   "cell_type": "code",
   "execution_count": 60,
   "id": "natural-might",
   "metadata": {},
   "outputs": [],
   "source": [
    "import pandas as pd\n",
    "import pyomo.environ as pyo\n",
    "import numpy as np\n",
    "import matplotlib.pyplot as plt\n",
    "import scipy.stats as stats\n",
    "import random"
   ]
  },
  {
   "cell_type": "code",
   "execution_count": 20,
   "id": "employed-final",
   "metadata": {},
   "outputs": [
    {
     "ename": "AttributeError",
     "evalue": "type object 'numpy.ndarray' has no attribute 'name'",
     "output_type": "error",
     "traceback": [
      "\u001b[0;31m---------------------------------------------------------------------------\u001b[0m",
      "\u001b[0;31mAttributeError\u001b[0m                            Traceback (most recent call last)",
      "\u001b[0;32m<ipython-input-20-5cbd9edd1fb1>\u001b[0m in \u001b[0;36m<module>\u001b[0;34m\u001b[0m\n\u001b[1;32m     14\u001b[0m \u001b[0mJarr\u001b[0m\u001b[0;34m\u001b[0m\u001b[0;34m\u001b[0m\u001b[0m\n\u001b[1;32m     15\u001b[0m \u001b[0;34m\u001b[0m\u001b[0m\n\u001b[0;32m---> 16\u001b[0;31m \u001b[0mtype\u001b[0m\u001b[0;34m(\u001b[0m\u001b[0mnp\u001b[0m\u001b[0;34m.\u001b[0m\u001b[0marray\u001b[0m\u001b[0;34m(\u001b[0m\u001b[0;34m[\u001b[0m\u001b[0;36m0.0\u001b[0m\u001b[0;34m]\u001b[0m\u001b[0;34m)\u001b[0m\u001b[0;34m)\u001b[0m\u001b[0;34m.\u001b[0m\u001b[0mname\u001b[0m\u001b[0;34m\u001b[0m\u001b[0;34m\u001b[0m\u001b[0m\n\u001b[0m",
      "\u001b[0;31mAttributeError\u001b[0m: type object 'numpy.ndarray' has no attribute 'name'"
     ]
    }
   ],
   "source": [
    "m = pyo.ConcreteModel()\n",
    "\n",
    "m.exset1 = pyo.RangeSet(1,3)\n",
    "m.exset2 = pyo.RangeSet(2,6,2)\n",
    "#m.expar2 = pyo.Param(m.exset1, initialize=m.exset2)\n",
    "#pyo.value(m.expar2[1])\n",
    "exdict = {pyo.value(i)+1: pyo.value(i) for i in m.exset2}\n",
    "m.N = pyo.Param(initialize=5, mutable=True)\n",
    "m.J = pyo.RangeSet(1,m.N*2+3)\n",
    "m.N = 4\n",
    "Jdict = {i: i for i in m.J}\n",
    "Jdict\n",
    "Jarr = [i for i in m.J]\n",
    "Jarr\n",
    "\n",
    "type(np.array([0.0])).name"
   ]
  },
  {
   "cell_type": "code",
   "execution_count": 62,
   "id": "great-posting",
   "metadata": {},
   "outputs": [],
   "source": [
    "def build_model(sbounds=1, N=1):\n",
    "    '''\n",
    "    Builds farmland allocation model\n",
    "    \n",
    "    Inputs:\n",
    "    sbounds: crop yield scenario bounds as fractions of average yield\n",
    "    N: number of scenarios\n",
    "    '''\n",
    "    # Declare model\n",
    "    m = pyo.ConcreteModel()\n",
    "    \n",
    "    if 'int' in str(type(sbounds)) or 'float' in str(type(sbounds)):\n",
    "        sbounds = (sbounds,sbounds)\n",
    "    \n",
    "    if len(sbounds) == 1:\n",
    "        sbounds = (sbounds[0],sbounds[0])\n",
    "    # Verify that input arguments are valid\n",
    "    assert sbounds[0] > 0, \"Scenario bounds cannot be negative.\"\n",
    "    if len(sbounds) > 2:\n",
    "        N = len(sbounds)\n",
    "        m.N = pyo.Param(initialize=N)\n",
    "        m.J = pyo.RangeSet(1,m.N)\n",
    "        m.Sfrac = pyo.Param(m.J,initialize={i+1:sbounds[i] for i in range(N)})\n",
    "    else:\n",
    "        assert N%1 == 0 and N > 0, \"Number of scenarios N must be a positive integer.\"\n",
    "        if sbounds[0] == sbounds[1]:\n",
    "            assert N==1, \"N must be 1 if scenario bounds are not specified.\"\n",
    "        else:\n",
    "            assert N > 1, \"N must be greater than 1 if two different scenario bounds are specified.\"\n",
    "            assert sbounds[0] < sbounds[1], \"Second scenario bound must be greater than first scenario bound.\"\n",
    "        m.N = pyo.Param(initialize=N)\n",
    "        m.J = pyo.RangeSet(1,m.N)\n",
    "        m.sbounds = pyo.Param([0,1], initialize={0:sbounds[0], 1:sbounds[1]})\n",
    "        if N > 1:\n",
    "            m.Sfracset = pyo.RangeSet(m.sbounds[0], m.sbounds[1]+(m.sbounds[1]-m.sbounds[0])/(m.N-1)*0.5, (m.sbounds[1]-m.sbounds[0])/(m.N-1))\n",
    "        else:\n",
    "            m.Sfracset = pyo.Set(initialize=[pyo.value(m.sbounds[0])])\n",
    "        m.Sfrac = pyo.Param(m.J,initialize={i:pyo.value(m.Sfracset[i]) for i in m.J})\n",
    "    \n",
    "    m.xind = pyo.RangeSet(1,3)\n",
    "    m.yind = pyo.RangeSet(1,2)\n",
    "    m.wind = pyo.RangeSet(1,4)\n",
    "    \n",
    "    # Define additional parameters\n",
    "    m.Px = pyo.Param(m.xind, initialize={1:150, 2:230, 3:260})\n",
    "    m.Py = pyo.Param(m.yind, initialize={1:238, 2:210})\n",
    "    m.Pw = pyo.Param(m.wind, initialize={1:170, 2:150, 3:36, 4:10})\n",
    "    m.totalarea = pyo.Param(initialize=500)\n",
    "    m.quota = pyo.Param(initialize=6000)\n",
    "    m.baseyield = pyo.Param(m.xind,initialize={1:2.5, 2:3.0, 3:20.0})\n",
    "    m.Feed = pyo.Param(m.yind, initialize={1:200,2:240})\n",
    "    m.weight = pyo.Param(initialize=1.0/m.N)\n",
    "    \n",
    "    # Define variables\n",
    "    m.x = pyo.Var(m.xind, within=pyo.NonNegativeReals)\n",
    "    m.y = pyo.Var(m.yind, m.J, within=pyo.NonNegativeReals)\n",
    "    m.w = pyo.Var(m.wind, m.J, within=pyo.NonNegativeReals)\n",
    "    \n",
    "    # Define objective\n",
    "    @m.Objective()\n",
    "    def costobj(m):\n",
    "        return sum(m.Px[i]*m.x[i] for i in m.xind) + m.weight*sum(sum(m.Py[i]*m.y[i,j] for i in m.yind)-sum(m.Pw[i]*m.w[i,j] for i in m.wind) for j in m.J)\n",
    "    \n",
    "    # Define constraints\n",
    "    # mass balance on wheat and corn\n",
    "    @m.Constraint(m.yind, m.J)\n",
    "    def feedconsumption(m, i, j):\n",
    "        return m.Feed[i] == m.baseyield[i]*m.Sfrac[j]*m.x[i] + m.y[i,j] - m.w[i,j]\n",
    "    \n",
    "    # mass balance on beets\n",
    "    @m.Constraint(m.J)\n",
    "    def beetmb(m, j):\n",
    "        return m.baseyield[3]*m.Sfrac[j]*m.x[3] == m.w[3,j] + m.w[4,j]\n",
    "    \n",
    "    # beet quota constraint\n",
    "    @m.Constraint(m.J)\n",
    "    def quotaconstraint(m, j):\n",
    "        return m.w[3,j] <= m.quota\n",
    "    \n",
    "    # farmland availability\n",
    "    @m.Constraint()\n",
    "    def farmlandconstraint(m):\n",
    "        return sum(m.x[i] for i in m.xind) <= m.totalarea\n",
    "    \n",
    "    return m\n",
    "    \n",
    "    \n",
    "    "
   ]
  },
  {
   "cell_type": "code",
   "execution_count": 48,
   "id": "desperate-invention",
   "metadata": {},
   "outputs": [],
   "source": [
    "def get_results(m, detailed_WS=False):\n",
    "    '''\n",
    "    '''\n",
    "    x_df = pd.DataFrame()\n",
    "    cropdict = {1: \"Wheat\", 2:\"Corn\", 3:\"Sugar Beets\"}\n",
    "    N = pyo.value(m.N)\n",
    "    \n",
    "    solver = pyo.SolverFactory('glpk')\n",
    "    \n",
    "    results1 = solver.solve(m)\n",
    "    \n",
    "    x_RP = pd.Series({cropdict[i]:pyo.value(m.x[i]) for i in m.xind})\n",
    "    x_df[\"RP\"] = x_RP\n",
    "    profit_RP = -pyo.value(m.costobj)\n",
    "    \n",
    "    EV = np.mean(np.array([pyo.value(m.Sfrac[j]) for j in m.J]))\n",
    "    m_EV = build_model(EV)\n",
    "    results_EV = solver.solve(m_EV)\n",
    "    x_EV = pd.Series({cropdict[i]:pyo.value(m_EV.x[i]) for i in m_EV.xind})\n",
    "    x_df[\"EV\"] = x_EV\n",
    "    for i in m.xind:\n",
    "        m.x[i].fix(pyo.value(m_EV.x[i]))\n",
    "    results_EEV = solver.solve(m)\n",
    "    profit_EEV = -pyo.value(m.costobj)\n",
    "    VSS = profit_RP - profit_EEV\n",
    "    \n",
    "    plant_PI_df = pd.DataFrame()\n",
    "    profit_PI = np.zeros(N)\n",
    "    for j in m.J:\n",
    "        sreal = pyo.value(m.Sfrac[j])\n",
    "        m_PI = build_model(sreal)\n",
    "        results_PI = solver.solve(m_PI)\n",
    "        profit_PI[j-1] = -pyo.value(m_PI.costobj)\n",
    "        if detailed_WS:\n",
    "            x_WS = pd.Series({cropdict[i]:pyo.value(m_PI.x[i]) for i in m_PI.xind})\n",
    "            x_df[\"{:+.0f}%\".format((sreal-1)*100.0)] = x_WS\n",
    "    WS_mean = np.mean(profit_PI)\n",
    "    EVPI = WS_mean - profit_RP\n",
    "    \n",
    "    profits = pd.Series({\"RP profit\": profit_RP, \"EEV profit\": profit_EEV, \"WS mean profit\": WS_mean, \"VSS\": VSS, \"EVPI\": EVPI})\n",
    "    if detailed_WS:\n",
    "        for j in m.J:\n",
    "            sreal = pyo.value(m.Sfrac[j])\n",
    "            profits[\"{:+.0f}%\".format((sreal-1)*100.0)] = profit_PI[j-1]\n",
    "    \n",
    "    \n",
    "    \n",
    "    return profits, x_df"
   ]
  },
  {
   "cell_type": "code",
   "execution_count": 49,
   "id": "selected-reduction",
   "metadata": {},
   "outputs": [],
   "source": [
    "model_N3 = build_model([0.8, 1.2], 3)\n",
    "profits_N3, x_N3 = get_results(model_N3, True)\n"
   ]
  },
  {
   "cell_type": "code",
   "execution_count": 50,
   "id": "social-female",
   "metadata": {},
   "outputs": [
    {
     "data": {
      "text/plain": [
       "RP profit         108390.000000\n",
       "EEV profit        107240.000000\n",
       "WS mean profit    115405.555556\n",
       "VSS                 1150.000000\n",
       "EVPI                7015.555556\n",
       "-20%               59950.000000\n",
       "+0%               118600.000000\n",
       "+20%              167666.666667\n",
       "dtype: float64"
      ]
     },
     "execution_count": 50,
     "metadata": {},
     "output_type": "execute_result"
    }
   ],
   "source": [
    "profits_N3"
   ]
  },
  {
   "cell_type": "code",
   "execution_count": 51,
   "id": "cultural-wallpaper",
   "metadata": {},
   "outputs": [
    {
     "data": {
      "text/html": [
       "<div>\n",
       "<style scoped>\n",
       "    .dataframe tbody tr th:only-of-type {\n",
       "        vertical-align: middle;\n",
       "    }\n",
       "\n",
       "    .dataframe tbody tr th {\n",
       "        vertical-align: top;\n",
       "    }\n",
       "\n",
       "    .dataframe thead th {\n",
       "        text-align: right;\n",
       "    }\n",
       "</style>\n",
       "<table border=\"1\" class=\"dataframe\">\n",
       "  <thead>\n",
       "    <tr style=\"text-align: right;\">\n",
       "      <th></th>\n",
       "      <th>RP</th>\n",
       "      <th>EV</th>\n",
       "      <th>-20%</th>\n",
       "      <th>+0%</th>\n",
       "      <th>+20%</th>\n",
       "    </tr>\n",
       "  </thead>\n",
       "  <tbody>\n",
       "    <tr>\n",
       "      <th>Wheat</th>\n",
       "      <td>170.0</td>\n",
       "      <td>120.0</td>\n",
       "      <td>100.0</td>\n",
       "      <td>120.0</td>\n",
       "      <td>183.333333</td>\n",
       "    </tr>\n",
       "    <tr>\n",
       "      <th>Corn</th>\n",
       "      <td>80.0</td>\n",
       "      <td>80.0</td>\n",
       "      <td>25.0</td>\n",
       "      <td>80.0</td>\n",
       "      <td>66.666667</td>\n",
       "    </tr>\n",
       "    <tr>\n",
       "      <th>Sugar Beets</th>\n",
       "      <td>250.0</td>\n",
       "      <td>300.0</td>\n",
       "      <td>375.0</td>\n",
       "      <td>300.0</td>\n",
       "      <td>250.000000</td>\n",
       "    </tr>\n",
       "  </tbody>\n",
       "</table>\n",
       "</div>"
      ],
      "text/plain": [
       "                RP     EV   -20%    +0%        +20%\n",
       "Wheat        170.0  120.0  100.0  120.0  183.333333\n",
       "Corn          80.0   80.0   25.0   80.0   66.666667\n",
       "Sugar Beets  250.0  300.0  375.0  300.0  250.000000"
      ]
     },
     "execution_count": 51,
     "metadata": {},
     "output_type": "execute_result"
    }
   ],
   "source": [
    "x_N3"
   ]
  },
  {
   "cell_type": "code",
   "execution_count": 55,
   "id": "sorted-requirement",
   "metadata": {},
   "outputs": [],
   "source": [
    "model_N5 = build_model([0.5, 1.5], 5)\n",
    "profits_N5, x_N5 = get_results(model_N5, True)"
   ]
  },
  {
   "cell_type": "code",
   "execution_count": 56,
   "id": "vertical-average",
   "metadata": {},
   "outputs": [
    {
     "data": {
      "text/plain": [
       "RP profit          99100.000000\n",
       "EEV profit         92360.000000\n",
       "WS mean profit    107904.333333\n",
       "VSS                 6740.000000\n",
       "EVPI                8804.333333\n",
       "-50%              -40400.000000\n",
       "-25%               43733.333333\n",
       "+0%               118600.000000\n",
       "+25%              179605.000000\n",
       "+50%              237983.333333\n",
       "dtype: float64"
      ]
     },
     "execution_count": 56,
     "metadata": {},
     "output_type": "execute_result"
    }
   ],
   "source": [
    "profits_N5"
   ]
  },
  {
   "cell_type": "code",
   "execution_count": 57,
   "id": "incorporated-international",
   "metadata": {},
   "outputs": [
    {
     "data": {
      "text/html": [
       "<div>\n",
       "<style scoped>\n",
       "    .dataframe tbody tr th:only-of-type {\n",
       "        vertical-align: middle;\n",
       "    }\n",
       "\n",
       "    .dataframe tbody tr th {\n",
       "        vertical-align: top;\n",
       "    }\n",
       "\n",
       "    .dataframe thead th {\n",
       "        text-align: right;\n",
       "    }\n",
       "</style>\n",
       "<table border=\"1\" class=\"dataframe\">\n",
       "  <thead>\n",
       "    <tr style=\"text-align: right;\">\n",
       "      <th></th>\n",
       "      <th>RP</th>\n",
       "      <th>EV</th>\n",
       "      <th>-50%</th>\n",
       "      <th>-25%</th>\n",
       "      <th>+0%</th>\n",
       "      <th>+25%</th>\n",
       "      <th>+50%</th>\n",
       "    </tr>\n",
       "  </thead>\n",
       "  <tbody>\n",
       "    <tr>\n",
       "      <th>Wheat</th>\n",
       "      <td>180.0</td>\n",
       "      <td>120.0</td>\n",
       "      <td>160.0</td>\n",
       "      <td>106.666667</td>\n",
       "      <td>120.0</td>\n",
       "      <td>196.0</td>\n",
       "      <td>246.666667</td>\n",
       "    </tr>\n",
       "    <tr>\n",
       "      <th>Corn</th>\n",
       "      <td>80.0</td>\n",
       "      <td>80.0</td>\n",
       "      <td>0.0</td>\n",
       "      <td>0.000000</td>\n",
       "      <td>80.0</td>\n",
       "      <td>64.0</td>\n",
       "      <td>53.333333</td>\n",
       "    </tr>\n",
       "    <tr>\n",
       "      <th>Sugar Beets</th>\n",
       "      <td>240.0</td>\n",
       "      <td>300.0</td>\n",
       "      <td>340.0</td>\n",
       "      <td>393.333333</td>\n",
       "      <td>300.0</td>\n",
       "      <td>240.0</td>\n",
       "      <td>200.000000</td>\n",
       "    </tr>\n",
       "  </tbody>\n",
       "</table>\n",
       "</div>"
      ],
      "text/plain": [
       "                RP     EV   -50%        -25%    +0%   +25%        +50%\n",
       "Wheat        180.0  120.0  160.0  106.666667  120.0  196.0  246.666667\n",
       "Corn          80.0   80.0    0.0    0.000000   80.0   64.0   53.333333\n",
       "Sugar Beets  240.0  300.0  340.0  393.333333  300.0  240.0  200.000000"
      ]
     },
     "execution_count": 57,
     "metadata": {},
     "output_type": "execute_result"
    }
   ],
   "source": [
    "x_N5"
   ]
  },
  {
   "cell_type": "code",
   "execution_count": 68,
   "id": "pending-portfolio",
   "metadata": {},
   "outputs": [],
   "source": [
    "def mci(df, c=0.95):\n",
    "    outdict = {}\n",
    "    for col in df:\n",
    "        data = df[col]\n",
    "        a = 1.0*np.asarray(data)\n",
    "        n = len(a)\n",
    "        m, se = np.mean(a), stats.sem(a)\n",
    "        h = se*stats.t.ppf((1+c)/2.0, n-1)\n",
    "        c_interval = pd.Series({\"Average\": m, \"Lower confidence bound\": m-h, \"Upper confidence bound\": m+h})\n",
    "        outdict[col] = c_interval\n",
    "    outdf = pd.DataFrame(outdict).T\n",
    "    return outdf"
   ]
  },
  {
   "cell_type": "code",
   "execution_count": 69,
   "id": "relevant-bermuda",
   "metadata": {},
   "outputs": [],
   "source": [
    "N = 10\n",
    "nsamples = 10\n",
    "profitdict = {}\n",
    "xdict = {}\n",
    "for i in range(nsamples):\n",
    "    slist = [random.uniform(0.5,1.5) for j in range(N)]\n",
    "    model = build_model(slist)\n",
    "    profits, x_df = get_results(model)\n",
    "    profitdict[i] = profits\n",
    "    xdict[i] = x_df['RP']\n",
    "\n",
    "x_samples = pd.DataFrame(xdict).T\n",
    "profit_samples = pd.DataFrame(profitdict).T\n",
    "x_interval = mci(x_samples)\n",
    "profit_interval = mci(profit_samples)\n",
    "    \n"
   ]
  },
  {
   "cell_type": "code",
   "execution_count": 70,
   "id": "headed-hollow",
   "metadata": {},
   "outputs": [
    {
     "data": {
      "text/html": [
       "<div>\n",
       "<style scoped>\n",
       "    .dataframe tbody tr th:only-of-type {\n",
       "        vertical-align: middle;\n",
       "    }\n",
       "\n",
       "    .dataframe tbody tr th {\n",
       "        vertical-align: top;\n",
       "    }\n",
       "\n",
       "    .dataframe thead th {\n",
       "        text-align: right;\n",
       "    }\n",
       "</style>\n",
       "<table border=\"1\" class=\"dataframe\">\n",
       "  <thead>\n",
       "    <tr style=\"text-align: right;\">\n",
       "      <th></th>\n",
       "      <th>Wheat</th>\n",
       "      <th>Corn</th>\n",
       "      <th>Sugar Beets</th>\n",
       "    </tr>\n",
       "  </thead>\n",
       "  <tbody>\n",
       "    <tr>\n",
       "      <th>0</th>\n",
       "      <td>108.538733</td>\n",
       "      <td>84.536797</td>\n",
       "      <td>306.924470</td>\n",
       "    </tr>\n",
       "    <tr>\n",
       "      <th>1</th>\n",
       "      <td>151.362662</td>\n",
       "      <td>78.227642</td>\n",
       "      <td>270.409696</td>\n",
       "    </tr>\n",
       "    <tr>\n",
       "      <th>2</th>\n",
       "      <td>172.072594</td>\n",
       "      <td>78.762193</td>\n",
       "      <td>249.165213</td>\n",
       "    </tr>\n",
       "    <tr>\n",
       "      <th>3</th>\n",
       "      <td>187.339139</td>\n",
       "      <td>74.349352</td>\n",
       "      <td>238.311510</td>\n",
       "    </tr>\n",
       "    <tr>\n",
       "      <th>4</th>\n",
       "      <td>196.379131</td>\n",
       "      <td>77.642782</td>\n",
       "      <td>225.978087</td>\n",
       "    </tr>\n",
       "    <tr>\n",
       "      <th>5</th>\n",
       "      <td>202.300326</td>\n",
       "      <td>80.621330</td>\n",
       "      <td>217.078344</td>\n",
       "    </tr>\n",
       "    <tr>\n",
       "      <th>6</th>\n",
       "      <td>150.190623</td>\n",
       "      <td>94.235120</td>\n",
       "      <td>255.574257</td>\n",
       "    </tr>\n",
       "    <tr>\n",
       "      <th>7</th>\n",
       "      <td>137.113820</td>\n",
       "      <td>78.613050</td>\n",
       "      <td>284.273131</td>\n",
       "    </tr>\n",
       "    <tr>\n",
       "      <th>8</th>\n",
       "      <td>158.316028</td>\n",
       "      <td>104.356810</td>\n",
       "      <td>237.327162</td>\n",
       "    </tr>\n",
       "    <tr>\n",
       "      <th>9</th>\n",
       "      <td>145.313469</td>\n",
       "      <td>105.307391</td>\n",
       "      <td>249.379141</td>\n",
       "    </tr>\n",
       "  </tbody>\n",
       "</table>\n",
       "</div>"
      ],
      "text/plain": [
       "        Wheat        Corn  Sugar Beets\n",
       "0  108.538733   84.536797   306.924470\n",
       "1  151.362662   78.227642   270.409696\n",
       "2  172.072594   78.762193   249.165213\n",
       "3  187.339139   74.349352   238.311510\n",
       "4  196.379131   77.642782   225.978087\n",
       "5  202.300326   80.621330   217.078344\n",
       "6  150.190623   94.235120   255.574257\n",
       "7  137.113820   78.613050   284.273131\n",
       "8  158.316028  104.356810   237.327162\n",
       "9  145.313469  105.307391   249.379141"
      ]
     },
     "execution_count": 70,
     "metadata": {},
     "output_type": "execute_result"
    }
   ],
   "source": [
    "x_samples"
   ]
  },
  {
   "cell_type": "code",
   "execution_count": 71,
   "id": "formal-argentina",
   "metadata": {},
   "outputs": [
    {
     "data": {
      "text/html": [
       "<div>\n",
       "<style scoped>\n",
       "    .dataframe tbody tr th:only-of-type {\n",
       "        vertical-align: middle;\n",
       "    }\n",
       "\n",
       "    .dataframe tbody tr th {\n",
       "        vertical-align: top;\n",
       "    }\n",
       "\n",
       "    .dataframe thead th {\n",
       "        text-align: right;\n",
       "    }\n",
       "</style>\n",
       "<table border=\"1\" class=\"dataframe\">\n",
       "  <thead>\n",
       "    <tr style=\"text-align: right;\">\n",
       "      <th></th>\n",
       "      <th>RP profit</th>\n",
       "      <th>EEV profit</th>\n",
       "      <th>WS mean profit</th>\n",
       "      <th>VSS</th>\n",
       "      <th>EVPI</th>\n",
       "    </tr>\n",
       "  </thead>\n",
       "  <tbody>\n",
       "    <tr>\n",
       "      <th>0</th>\n",
       "      <td>79046.829987</td>\n",
       "      <td>74596.187585</td>\n",
       "      <td>84170.742019</td>\n",
       "      <td>4450.642402</td>\n",
       "      <td>5123.912032</td>\n",
       "    </tr>\n",
       "    <tr>\n",
       "      <th>1</th>\n",
       "      <td>122286.931700</td>\n",
       "      <td>121256.716229</td>\n",
       "      <td>129913.173804</td>\n",
       "      <td>1030.215472</td>\n",
       "      <td>7626.242104</td>\n",
       "    </tr>\n",
       "    <tr>\n",
       "      <th>2</th>\n",
       "      <td>102850.739568</td>\n",
       "      <td>98134.960408</td>\n",
       "      <td>109575.357653</td>\n",
       "      <td>4715.779160</td>\n",
       "      <td>6724.618085</td>\n",
       "    </tr>\n",
       "    <tr>\n",
       "      <th>3</th>\n",
       "      <td>103593.200986</td>\n",
       "      <td>94405.183951</td>\n",
       "      <td>109759.101569</td>\n",
       "      <td>9188.017035</td>\n",
       "      <td>6165.900583</td>\n",
       "    </tr>\n",
       "    <tr>\n",
       "      <th>4</th>\n",
       "      <td>115228.531034</td>\n",
       "      <td>110963.839553</td>\n",
       "      <td>122879.709349</td>\n",
       "      <td>4264.691481</td>\n",
       "      <td>7651.178315</td>\n",
       "    </tr>\n",
       "    <tr>\n",
       "      <th>5</th>\n",
       "      <td>107554.017142</td>\n",
       "      <td>105383.956773</td>\n",
       "      <td>118118.812774</td>\n",
       "      <td>2170.060369</td>\n",
       "      <td>10564.795632</td>\n",
       "    </tr>\n",
       "    <tr>\n",
       "      <th>6</th>\n",
       "      <td>87833.456965</td>\n",
       "      <td>77189.865665</td>\n",
       "      <td>92035.799942</td>\n",
       "      <td>10643.591300</td>\n",
       "      <td>4202.342977</td>\n",
       "    </tr>\n",
       "    <tr>\n",
       "      <th>7</th>\n",
       "      <td>51826.384066</td>\n",
       "      <td>41566.523074</td>\n",
       "      <td>57187.311407</td>\n",
       "      <td>10259.860992</td>\n",
       "      <td>5360.927341</td>\n",
       "    </tr>\n",
       "    <tr>\n",
       "      <th>8</th>\n",
       "      <td>68065.817988</td>\n",
       "      <td>60174.318422</td>\n",
       "      <td>76200.420649</td>\n",
       "      <td>7891.499565</td>\n",
       "      <td>8134.602662</td>\n",
       "    </tr>\n",
       "    <tr>\n",
       "      <th>9</th>\n",
       "      <td>61557.046197</td>\n",
       "      <td>57168.625391</td>\n",
       "      <td>70035.596290</td>\n",
       "      <td>4388.420806</td>\n",
       "      <td>8478.550093</td>\n",
       "    </tr>\n",
       "  </tbody>\n",
       "</table>\n",
       "</div>"
      ],
      "text/plain": [
       "       RP profit     EEV profit  WS mean profit           VSS          EVPI\n",
       "0   79046.829987   74596.187585    84170.742019   4450.642402   5123.912032\n",
       "1  122286.931700  121256.716229   129913.173804   1030.215472   7626.242104\n",
       "2  102850.739568   98134.960408   109575.357653   4715.779160   6724.618085\n",
       "3  103593.200986   94405.183951   109759.101569   9188.017035   6165.900583\n",
       "4  115228.531034  110963.839553   122879.709349   4264.691481   7651.178315\n",
       "5  107554.017142  105383.956773   118118.812774   2170.060369  10564.795632\n",
       "6   87833.456965   77189.865665    92035.799942  10643.591300   4202.342977\n",
       "7   51826.384066   41566.523074    57187.311407  10259.860992   5360.927341\n",
       "8   68065.817988   60174.318422    76200.420649   7891.499565   8134.602662\n",
       "9   61557.046197   57168.625391    70035.596290   4388.420806   8478.550093"
      ]
     },
     "execution_count": 71,
     "metadata": {},
     "output_type": "execute_result"
    }
   ],
   "source": [
    "profit_samples"
   ]
  },
  {
   "cell_type": "code",
   "execution_count": 72,
   "id": "adolescent-second",
   "metadata": {},
   "outputs": [
    {
     "data": {
      "text/html": [
       "<div>\n",
       "<style scoped>\n",
       "    .dataframe tbody tr th:only-of-type {\n",
       "        vertical-align: middle;\n",
       "    }\n",
       "\n",
       "    .dataframe tbody tr th {\n",
       "        vertical-align: top;\n",
       "    }\n",
       "\n",
       "    .dataframe thead th {\n",
       "        text-align: right;\n",
       "    }\n",
       "</style>\n",
       "<table border=\"1\" class=\"dataframe\">\n",
       "  <thead>\n",
       "    <tr style=\"text-align: right;\">\n",
       "      <th></th>\n",
       "      <th>Average</th>\n",
       "      <th>Lower confidence bound</th>\n",
       "      <th>Upper confidence bound</th>\n",
       "    </tr>\n",
       "  </thead>\n",
       "  <tbody>\n",
       "    <tr>\n",
       "      <th>Wheat</th>\n",
       "      <td>160.892652</td>\n",
       "      <td>140.160513</td>\n",
       "      <td>181.624792</td>\n",
       "    </tr>\n",
       "    <tr>\n",
       "      <th>Corn</th>\n",
       "      <td>85.665247</td>\n",
       "      <td>77.472549</td>\n",
       "      <td>93.857944</td>\n",
       "    </tr>\n",
       "    <tr>\n",
       "      <th>Sugar Beets</th>\n",
       "      <td>253.442101</td>\n",
       "      <td>233.919013</td>\n",
       "      <td>272.965189</td>\n",
       "    </tr>\n",
       "  </tbody>\n",
       "</table>\n",
       "</div>"
      ],
      "text/plain": [
       "                Average  Lower confidence bound  Upper confidence bound\n",
       "Wheat        160.892652              140.160513              181.624792\n",
       "Corn          85.665247               77.472549               93.857944\n",
       "Sugar Beets  253.442101              233.919013              272.965189"
      ]
     },
     "execution_count": 72,
     "metadata": {},
     "output_type": "execute_result"
    }
   ],
   "source": [
    "x_interval"
   ]
  },
  {
   "cell_type": "code",
   "execution_count": 73,
   "id": "civil-broadcasting",
   "metadata": {},
   "outputs": [
    {
     "data": {
      "text/html": [
       "<div>\n",
       "<style scoped>\n",
       "    .dataframe tbody tr th:only-of-type {\n",
       "        vertical-align: middle;\n",
       "    }\n",
       "\n",
       "    .dataframe tbody tr th {\n",
       "        vertical-align: top;\n",
       "    }\n",
       "\n",
       "    .dataframe thead th {\n",
       "        text-align: right;\n",
       "    }\n",
       "</style>\n",
       "<table border=\"1\" class=\"dataframe\">\n",
       "  <thead>\n",
       "    <tr style=\"text-align: right;\">\n",
       "      <th></th>\n",
       "      <th>Average</th>\n",
       "      <th>Lower confidence bound</th>\n",
       "      <th>Upper confidence bound</th>\n",
       "    </tr>\n",
       "  </thead>\n",
       "  <tbody>\n",
       "    <tr>\n",
       "      <th>RP profit</th>\n",
       "      <td>89984.295563</td>\n",
       "      <td>72774.409451</td>\n",
       "      <td>107194.181675</td>\n",
       "    </tr>\n",
       "    <tr>\n",
       "      <th>EEV profit</th>\n",
       "      <td>84084.017705</td>\n",
       "      <td>65455.146417</td>\n",
       "      <td>102712.888993</td>\n",
       "    </tr>\n",
       "    <tr>\n",
       "      <th>WS mean profit</th>\n",
       "      <td>96987.602546</td>\n",
       "      <td>79377.680871</td>\n",
       "      <td>114597.524220</td>\n",
       "    </tr>\n",
       "    <tr>\n",
       "      <th>VSS</th>\n",
       "      <td>5900.277858</td>\n",
       "      <td>3487.586581</td>\n",
       "      <td>8312.969136</td>\n",
       "    </tr>\n",
       "    <tr>\n",
       "      <th>EVPI</th>\n",
       "      <td>7003.306982</td>\n",
       "      <td>5658.596423</td>\n",
       "      <td>8348.017542</td>\n",
       "    </tr>\n",
       "  </tbody>\n",
       "</table>\n",
       "</div>"
      ],
      "text/plain": [
       "                     Average  Lower confidence bound  Upper confidence bound\n",
       "RP profit       89984.295563            72774.409451           107194.181675\n",
       "EEV profit      84084.017705            65455.146417           102712.888993\n",
       "WS mean profit  96987.602546            79377.680871           114597.524220\n",
       "VSS              5900.277858             3487.586581             8312.969136\n",
       "EVPI             7003.306982             5658.596423             8348.017542"
      ]
     },
     "execution_count": 73,
     "metadata": {},
     "output_type": "execute_result"
    }
   ],
   "source": [
    "profit_interval"
   ]
  },
  {
   "cell_type": "code",
   "execution_count": 100,
   "id": "lucky-region",
   "metadata": {},
   "outputs": [],
   "source": [
    "def saa(N, nsamples=10):\n",
    "    profitdict = {}\n",
    "    xdict = {}\n",
    "    for i in range(nsamples):\n",
    "        slist = [random.uniform(0.5,1.5) for j in range(N)]\n",
    "        model = build_model(slist)\n",
    "        profits, x_df = get_results(model)\n",
    "        profitdict[i] = profits\n",
    "        xdict[i] = x_df['RP']\n",
    "\n",
    "    x_samples = pd.DataFrame(xdict).T\n",
    "    profit_samples = pd.DataFrame(profitdict).T\n",
    "    x_interval = mci(x_samples)\n",
    "    profit_interval = mci(profit_samples)\n",
    "    return x_interval, profit_interval\n",
    "    \n"
   ]
  },
  {
   "cell_type": "code",
   "execution_count": 101,
   "id": "frozen-missouri",
   "metadata": {},
   "outputs": [],
   "source": [
    "x_interval, profit_interval = saa(100)"
   ]
  },
  {
   "cell_type": "code",
   "execution_count": null,
   "id": "analyzed-moment",
   "metadata": {},
   "outputs": [],
   "source": []
  },
  {
   "cell_type": "code",
   "execution_count": null,
   "id": "stylish-chester",
   "metadata": {},
   "outputs": [],
   "source": []
  },
  {
   "cell_type": "code",
   "execution_count": 102,
   "id": "national-announcement",
   "metadata": {},
   "outputs": [
    {
     "data": {
      "text/html": [
       "<div>\n",
       "<style scoped>\n",
       "    .dataframe tbody tr th:only-of-type {\n",
       "        vertical-align: middle;\n",
       "    }\n",
       "\n",
       "    .dataframe tbody tr th {\n",
       "        vertical-align: top;\n",
       "    }\n",
       "\n",
       "    .dataframe thead th {\n",
       "        text-align: right;\n",
       "    }\n",
       "</style>\n",
       "<table border=\"1\" class=\"dataframe\">\n",
       "  <thead>\n",
       "    <tr style=\"text-align: right;\">\n",
       "      <th></th>\n",
       "      <th>Average</th>\n",
       "      <th>Lower confidence bound</th>\n",
       "      <th>Upper confidence bound</th>\n",
       "    </tr>\n",
       "  </thead>\n",
       "  <tbody>\n",
       "    <tr>\n",
       "      <th>Wheat</th>\n",
       "      <td>168.649329</td>\n",
       "      <td>163.638065</td>\n",
       "      <td>173.660592</td>\n",
       "    </tr>\n",
       "    <tr>\n",
       "      <th>Corn</th>\n",
       "      <td>86.600233</td>\n",
       "      <td>84.630967</td>\n",
       "      <td>88.569499</td>\n",
       "    </tr>\n",
       "    <tr>\n",
       "      <th>Sugar Beets</th>\n",
       "      <td>244.750438</td>\n",
       "      <td>239.913419</td>\n",
       "      <td>249.587457</td>\n",
       "    </tr>\n",
       "  </tbody>\n",
       "</table>\n",
       "</div>"
      ],
      "text/plain": [
       "                Average  Lower confidence bound  Upper confidence bound\n",
       "Wheat        168.649329              163.638065              173.660592\n",
       "Corn          86.600233               84.630967               88.569499\n",
       "Sugar Beets  244.750438              239.913419              249.587457"
      ]
     },
     "execution_count": 102,
     "metadata": {},
     "output_type": "execute_result"
    }
   ],
   "source": [
    "x_interval"
   ]
  },
  {
   "cell_type": "code",
   "execution_count": 103,
   "id": "quality-female",
   "metadata": {},
   "outputs": [
    {
     "data": {
      "text/html": [
       "<div>\n",
       "<style scoped>\n",
       "    .dataframe tbody tr th:only-of-type {\n",
       "        vertical-align: middle;\n",
       "    }\n",
       "\n",
       "    .dataframe tbody tr th {\n",
       "        vertical-align: top;\n",
       "    }\n",
       "\n",
       "    .dataframe thead th {\n",
       "        text-align: right;\n",
       "    }\n",
       "</style>\n",
       "<table border=\"1\" class=\"dataframe\">\n",
       "  <thead>\n",
       "    <tr style=\"text-align: right;\">\n",
       "      <th></th>\n",
       "      <th>Average</th>\n",
       "      <th>Lower confidence bound</th>\n",
       "      <th>Upper confidence bound</th>\n",
       "    </tr>\n",
       "  </thead>\n",
       "  <tbody>\n",
       "    <tr>\n",
       "      <th>RP profit</th>\n",
       "      <td>102210.290087</td>\n",
       "      <td>96367.306669</td>\n",
       "      <td>108053.273505</td>\n",
       "    </tr>\n",
       "    <tr>\n",
       "      <th>EEV profit</th>\n",
       "      <td>97320.616231</td>\n",
       "      <td>91126.937901</td>\n",
       "      <td>103514.294560</td>\n",
       "    </tr>\n",
       "    <tr>\n",
       "      <th>WS mean profit</th>\n",
       "      <td>110903.219171</td>\n",
       "      <td>105067.998416</td>\n",
       "      <td>116738.439927</td>\n",
       "    </tr>\n",
       "    <tr>\n",
       "      <th>VSS</th>\n",
       "      <td>4889.673857</td>\n",
       "      <td>4097.624522</td>\n",
       "      <td>5681.723191</td>\n",
       "    </tr>\n",
       "    <tr>\n",
       "      <th>EVPI</th>\n",
       "      <td>8692.929084</td>\n",
       "      <td>8350.431766</td>\n",
       "      <td>9035.426402</td>\n",
       "    </tr>\n",
       "  </tbody>\n",
       "</table>\n",
       "</div>"
      ],
      "text/plain": [
       "                      Average  Lower confidence bound  Upper confidence bound\n",
       "RP profit       102210.290087            96367.306669           108053.273505\n",
       "EEV profit       97320.616231            91126.937901           103514.294560\n",
       "WS mean profit  110903.219171           105067.998416           116738.439927\n",
       "VSS               4889.673857             4097.624522             5681.723191\n",
       "EVPI              8692.929084             8350.431766             9035.426402"
      ]
     },
     "execution_count": 103,
     "metadata": {},
     "output_type": "execute_result"
    }
   ],
   "source": [
    "profit_interval"
   ]
  },
  {
   "cell_type": "code",
   "execution_count": 79,
   "id": "angry-madrid",
   "metadata": {},
   "outputs": [
    {
     "data": {
      "text/html": [
       "<div>\n",
       "<style scoped>\n",
       "    .dataframe tbody tr th:only-of-type {\n",
       "        vertical-align: middle;\n",
       "    }\n",
       "\n",
       "    .dataframe tbody tr th {\n",
       "        vertical-align: top;\n",
       "    }\n",
       "\n",
       "    .dataframe thead th {\n",
       "        text-align: right;\n",
       "    }\n",
       "</style>\n",
       "<table border=\"1\" class=\"dataframe\">\n",
       "  <thead>\n",
       "    <tr style=\"text-align: right;\">\n",
       "      <th></th>\n",
       "      <th>Average</th>\n",
       "      <th>Lower confidence bound</th>\n",
       "      <th>Upper confidence bound</th>\n",
       "    </tr>\n",
       "  </thead>\n",
       "  <tbody>\n",
       "    <tr>\n",
       "      <th>RP profit</th>\n",
       "      <td>102835.028864</td>\n",
       "      <td>96460.508019</td>\n",
       "      <td>109209.549710</td>\n",
       "    </tr>\n",
       "    <tr>\n",
       "      <th>EEV profit</th>\n",
       "      <td>97990.921806</td>\n",
       "      <td>91151.178171</td>\n",
       "      <td>104830.665442</td>\n",
       "    </tr>\n",
       "    <tr>\n",
       "      <th>WS mean profit</th>\n",
       "      <td>111573.981502</td>\n",
       "      <td>105047.515931</td>\n",
       "      <td>118100.447072</td>\n",
       "    </tr>\n",
       "    <tr>\n",
       "      <th>VSS</th>\n",
       "      <td>4844.107058</td>\n",
       "      <td>4233.515994</td>\n",
       "      <td>5454.698122</td>\n",
       "    </tr>\n",
       "    <tr>\n",
       "      <th>EVPI</th>\n",
       "      <td>8738.952637</td>\n",
       "      <td>8448.570157</td>\n",
       "      <td>9029.335118</td>\n",
       "    </tr>\n",
       "  </tbody>\n",
       "</table>\n",
       "</div>"
      ],
      "text/plain": [
       "                      Average  Lower confidence bound  Upper confidence bound\n",
       "RP profit       102835.028864            96460.508019           109209.549710\n",
       "EEV profit       97990.921806            91151.178171           104830.665442\n",
       "WS mean profit  111573.981502           105047.515931           118100.447072\n",
       "VSS               4844.107058             4233.515994             5454.698122\n",
       "EVPI              8738.952637             8448.570157             9029.335118"
      ]
     },
     "execution_count": 79,
     "metadata": {},
     "output_type": "execute_result"
    }
   ],
   "source": [
    "x_interval\n",
    "profit_interval"
   ]
  },
  {
   "cell_type": "code",
   "execution_count": 80,
   "id": "grand-scotland",
   "metadata": {},
   "outputs": [
    {
     "name": "stdout",
     "output_type": "stream",
     "text": [
      "                Average  Lower confidence bound  Upper confidence bound\n",
      "Wheat        171.547175              165.196165              177.898185\n",
      "Corn          85.719649               83.141249               88.298049\n",
      "Sugar Beets  242.733177              238.065469              247.400884\n"
     ]
    }
   ],
   "source": [
    "print(x_interval)"
   ]
  },
  {
   "cell_type": "code",
   "execution_count": 105,
   "id": "sustainable-aluminum",
   "metadata": {},
   "outputs": [],
   "source": [
    "profit_dict = {}\n",
    "value_dict = {}\n",
    "x_wheat_dict = {}\n",
    "x_corn_dict = {}\n",
    "x_beets_dict = {}\n",
    "p_RP_saa_dict = {}\n",
    "for N in range(3,102,2):\n",
    "    model = build_model([0.5, 1.5], N)\n",
    "    p_series_N, x_df_N = get_results(model)\n",
    "    x_interval, profit_interval = saa(N)\n",
    "    p_RP_saa_dict[N] = profit_interval.loc['RP profit', 'Average']\n",
    "    x_df_N['SAA'] = x_interval['Average']\n",
    "    profit_dict[N] = p_series_N[:'WS mean profit']\n",
    "    value_dict[N] = p_series_N['VSS':]\n",
    "    x_wheat_dict[N] = x_df_N.loc['Wheat']\n",
    "    x_corn_dict[N] = x_df_N.loc['Corn']\n",
    "    x_beets_dict[N] = x_df_N.loc['Sugar Beets']\n",
    "\n",
    "profit_df = pd.DataFrame(profit_dict).T\n",
    "p_RP_saa = pd.Series(p_RP_saa_dict)\n",
    "profit_df['SAA'] = p_RP_saa\n",
    "value_df = pd.DataFrame(value_dict).T\n",
    "x_wheat_df = pd.DataFrame(x_wheat_dict).T\n",
    "x_corn_df = pd.DataFrame(x_corn_dict).T\n",
    "x_beets_df = pd.DataFrame(x_beets_dict).T\n"
   ]
  },
  {
   "cell_type": "code",
   "execution_count": 106,
   "id": "apparent-recruitment",
   "metadata": {},
   "outputs": [
    {
     "data": {
      "text/plain": [
       "<Figure size 432x288 with 0 Axes>"
      ]
     },
     "metadata": {},
     "output_type": "display_data"
    },
    {
     "data": {
      "image/png": "[encoded data removed]",
      "text/plain": [
       "<Figure size 432x288 with 1 Axes>"
      ]
     },
     "metadata": {
      "needs_background": "light"
     },
     "output_type": "display_data"
    }
   ],
   "source": [
    "plt.figure(1)\n",
    "profit_df.plot()\n",
    "plt.xlabel('Number of scenarios')\n",
    "plt.ylabel('Profit [$]')\n",
    "plt.show()"
   ]
  },
  {
   "cell_type": "code",
   "execution_count": 107,
   "id": "exciting-environment",
   "metadata": {},
   "outputs": [
    {
     "data": {
      "text/plain": [
       "<Figure size 432x288 with 0 Axes>"
      ]
     },
     "metadata": {},
     "output_type": "display_data"
    },
    {
     "data": {
      "image/png": "[encoded data removed]",
      "text/plain": [
       "<Figure size 432x288 with 1 Axes>"
      ]
     },
     "metadata": {
      "needs_background": "light"
     },
     "output_type": "display_data"
    }
   ],
   "source": [
    "plt.figure(2)\n",
    "value_df.plot()\n",
    "plt.xlabel('Number of scenarios')\n",
    "plt.ylabel('Value [$]')\n",
    "plt.show()"
   ]
  },
  {
   "cell_type": "code",
   "execution_count": 108,
   "id": "guided-report",
   "metadata": {},
   "outputs": [
    {
     "data": {
      "text/plain": [
       "<Figure size 432x288 with 0 Axes>"
      ]
     },
     "metadata": {},
     "output_type": "display_data"
    },
    {
     "data": {
      "image/png": "[encoded data removed]",
      "text/plain": [
       "<Figure size 432x288 with 1 Axes>"
      ]
     },
     "metadata": {
      "needs_background": "light"
     },
     "output_type": "display_data"
    }
   ],
   "source": [
    "plt.figure(3)\n",
    "x_wheat_df.plot()\n",
    "plt.xlabel('Number of scenarios')\n",
    "plt.ylabel('Acres devoted to wheat')\n",
    "plt.show()"
   ]
  },
  {
   "cell_type": "code",
   "execution_count": 109,
   "id": "talented-desperate",
   "metadata": {},
   "outputs": [
    {
     "data": {
      "text/plain": [
       "<Figure size 432x288 with 0 Axes>"
      ]
     },
     "metadata": {},
     "output_type": "display_data"
    },
    {
     "data": {
      "image/png": "[encoded data removed]",
      "text/plain": [
       "<Figure size 432x288 with 1 Axes>"
      ]
     },
     "metadata": {
      "needs_background": "light"
     },
     "output_type": "display_data"
    }
   ],
   "source": [
    "plt.figure(4)\n",
    "x_corn_df.plot()\n",
    "plt.xlabel('Number of scenarios')\n",
    "plt.ylabel('Acres devoted to corn')\n",
    "plt.show()"
   ]
  },
  {
   "cell_type": "code",
   "execution_count": 110,
   "id": "basic-sunrise",
   "metadata": {},
   "outputs": [
    {
     "data": {
      "text/plain": [
       "<Figure size 432x288 with 0 Axes>"
      ]
     },
     "metadata": {},
     "output_type": "display_data"
    },
    {
     "data": {
      "image/png": "[encoded data removed]",
      "text/plain": [
       "<Figure size 432x288 with 1 Axes>"
      ]
     },
     "metadata": {
      "needs_background": "light"
     },
     "output_type": "display_data"
    }
   ],
   "source": [
    "plt.figure(5)\n",
    "x_beets_df.plot()\n",
    "plt.xlabel('Number of scenarios')\n",
    "plt.ylabel('Acres devoted to sugar beets')\n",
    "plt.show()"
   ]
  },
  {
   "cell_type": "code",
   "execution_count": 93,
   "id": "extraordinary-antenna",
   "metadata": {},
   "outputs": [
    {
     "data": {
      "text/html": [
       "<div>\n",
       "<style scoped>\n",
       "    .dataframe tbody tr th:only-of-type {\n",
       "        vertical-align: middle;\n",
       "    }\n",
       "\n",
       "    .dataframe tbody tr th {\n",
       "        vertical-align: top;\n",
       "    }\n",
       "\n",
       "    .dataframe thead th {\n",
       "        text-align: right;\n",
       "    }\n",
       "</style>\n",
       "<table border=\"1\" class=\"dataframe\">\n",
       "  <thead>\n",
       "    <tr style=\"text-align: right;\">\n",
       "      <th></th>\n",
       "      <th>RP</th>\n",
       "      <th>EV</th>\n",
       "    </tr>\n",
       "  </thead>\n",
       "  <tbody>\n",
       "    <tr>\n",
       "      <th>3</th>\n",
       "      <td>80.000000</td>\n",
       "      <td>80.0</td>\n",
       "    </tr>\n",
       "    <tr>\n",
       "      <th>5</th>\n",
       "      <td>80.000000</td>\n",
       "      <td>80.0</td>\n",
       "    </tr>\n",
       "    <tr>\n",
       "      <th>7</th>\n",
       "      <td>80.000000</td>\n",
       "      <td>80.0</td>\n",
       "    </tr>\n",
       "    <tr>\n",
       "      <th>9</th>\n",
       "      <td>80.000000</td>\n",
       "      <td>80.0</td>\n",
       "    </tr>\n",
       "    <tr>\n",
       "      <th>11</th>\n",
       "      <td>88.888889</td>\n",
       "      <td>80.0</td>\n",
       "    </tr>\n",
       "  </tbody>\n",
       "</table>\n",
       "</div>"
      ],
      "text/plain": [
       "           RP    EV\n",
       "3   80.000000  80.0\n",
       "5   80.000000  80.0\n",
       "7   80.000000  80.0\n",
       "9   80.000000  80.0\n",
       "11  88.888889  80.0"
      ]
     },
     "execution_count": 93,
     "metadata": {},
     "output_type": "execute_result"
    }
   ],
   "source": [
    "x_corn_df.head()"
   ]
  },
  {
   "cell_type": "code",
   "execution_count": null,
   "id": "located-monster",
   "metadata": {},
   "outputs": [],
   "source": []
  }
 ],
 "metadata": {
  "kernelspec": {
   "display_name": "Python 3",
   "language": "python",
   "name": "python3"
  },
  "language_info": {
   "codemirror_mode": {
    "name": "ipython",
    "version": 3
   },
   "file_extension": ".py",
   "mimetype": "text/x-python",
   "name": "python",
   "nbconvert_exporter": "python",
   "pygments_lexer": "ipython3",
   "version": "3.8.8"
  }
 },
 "nbformat": 4,
 "nbformat_minor": 5
}
