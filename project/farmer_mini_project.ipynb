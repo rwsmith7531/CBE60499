{
 "cells": [
  {
   "cell_type": "code",
   "execution_count": 1,
   "id": "natural-might",
   "metadata": {},
   "outputs": [],
   "source": [
    "import pandas as pd\n",
    "import pyomo.environ as pyo\n",
    "import numpy as np\n",
    "import matplotlib.pyplot as plt"
   ]
  },
  {
   "cell_type": "code",
   "execution_count": null,
   "id": "great-posting",
   "metadata": {},
   "outputs": [],
   "source": [
    "def build_model(N,sbounds=None):\n",
    "    '''\n",
    "    Builds farmland allocation model\n",
    "    \n",
    "    Inputs:\n",
    "    N: number of scenarios\n",
    "    sbounds: crop yield scenario bounds as fractions of average yield\n",
    "    '''\n",
    "    m = pyo.ConcreteModel()\n",
    "    \n",
    "    "
   ]
  }
 ],
 "metadata": {
  "kernelspec": {
   "display_name": "Python 3",
   "language": "python",
   "name": "python3"
  },
  "language_info": {
   "codemirror_mode": {
    "name": "ipython",
    "version": 3
   },
   "file_extension": ".py",
   "mimetype": "text/x-python",
   "name": "python",
   "nbconvert_exporter": "python",
   "pygments_lexer": "ipython3",
   "version": "3.8.8"
  }
 },
 "nbformat": 4,
 "nbformat_minor": 5
}
