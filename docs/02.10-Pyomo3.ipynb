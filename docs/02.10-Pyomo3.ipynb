{
 "cells": [
  {
   "cell_type": "markdown",
   "metadata": {},
   "source": [
    "<!--NOTEBOOK_HEADER-->\n",
    "*This notebook contains material from [CBE60499](https://ndcbe.github.io/CBE60499);\n",
    "content is available [on Github](git@github.com:ndcbe/CBE60499.git).*\n"
   ]
  },
  {
   "cell_type": "markdown",
   "metadata": {},
   "source": [
    "<!--NAVIGATION-->\n",
    "< [2.9 Pyomo Homework 2](https://ndcbe.github.io/CBE60499/02.09-Pyomo2.html) | [Contents](toc.html) | [3.0 Unconstrained Nonlinear Optimization: Theory and Algorithms](https://ndcbe.github.io/CBE60499/03.00-Unconstrained.html) ><p><a href=\"https://colab.research.google.com/github/ndcbe/CBE60499/blob/master/docs/02.10-Pyomo3.ipynb\"> <img align=\"left\" src=\"https://colab.research.google.com/assets/colab-badge.svg\" alt=\"Open in Colab\" title=\"Open in Google Colaboratory\"></a><p><a href=\"https://ndcbe.github.io/CBE60499/02.10-Pyomo3.ipynb\"> <img align=\"left\" src=\"https://img.shields.io/badge/Github-Download-blue.svg\" alt=\"Download\" title=\"Download Notebook\"></a>"
   ]
  },
  {
   "cell_type": "markdown",
   "metadata": {
    "nbpages": {
     "level": 1,
     "link": "[2.10 Pyomo Homework 3](https://ndcbe.github.io/CBE60499/02.10-Pyomo3.html#2.10-Pyomo-Homework-3)",
     "section": "2.10 Pyomo Homework 3"
    }
   },
   "source": [
    "# 2.10 Pyomo Homework 3"
   ]
  },
  {
   "cell_type": "code",
   "execution_count": 1,
   "metadata": {
    "nbpages": {
     "level": 1,
     "link": "[2.10 Pyomo Homework 3](https://ndcbe.github.io/CBE60499/02.10-Pyomo3.html#2.10-Pyomo-Homework-3)",
     "section": "2.10 Pyomo Homework 3"
    }
   },
   "outputs": [],
   "source": [
    "# Import the libraries you need here for the assignment\n",
    "import sys\n",
    "if \"google.colab\" in sys.modules:\n",
    "    !wget \"https://raw.githubusercontent.com/ndcbe/CBE60499/main/notebooks/helper.py\"\n",
    "    import helper\n",
    "    !pip install casadi\n",
    "    helper.install_idaes()\n",
    "    #helper.install_ipopt()\n",
    "from pyomo.environ import *\n",
    "from pyomo.dae import *\n",
    "from pyomo.dae.simulator import Simulator\n",
    "import matplotlib.pyplot as plt\n",
    "import numpy as np"
   ]
  },
  {
   "cell_type": "markdown",
   "metadata": {
    "nbpages": {
     "level": 2,
     "link": "[2.10.1 Pyomo.DAE: Reaction Kinetics](https://ndcbe.github.io/CBE60499/02.10-Pyomo3.html#2.10.1-Pyomo.DAE:-Reaction-Kinetics)",
     "section": "2.10.1 Pyomo.DAE: Reaction Kinetics"
    }
   },
   "source": [
    "## 2.10.1 Pyomo.DAE: Reaction Kinetics"
   ]
  },
  {
   "cell_type": "markdown",
   "metadata": {
    "nbpages": {
     "level": 2,
     "link": "[2.10.1 Pyomo.DAE: Reaction Kinetics](https://ndcbe.github.io/CBE60499/02.10-Pyomo3.html#2.10.1-Pyomo.DAE:-Reaction-Kinetics)",
     "section": "2.10.1 Pyomo.DAE: Reaction Kinetics"
    }
   },
   "source": [
    "Consider the chemical reaction $$A \\Leftrightarrow B \\Leftrightarrow C$$\n",
    "\n",
    "which is modeling with the following differential algebraic equations:\n",
    "\n",
    "$$\\begin{align*}\n",
    "\\frac{dz_A}{dt} &= -p_1 z_A(t) + p_2 z_B(t),\\quad z_A(0)=1 \\\\\n",
    "\\frac{dz_B}{dt} &= p_1 z_A(t) - (p_2 + p_3) z_B(t) + p_4 z_C(t), \\quad z_B(0)=0 \\\\\n",
    "1 &= z_A(t) + z_B(t) + z_C(t)\n",
    "\\end{align*}$$\n",
    "\n",
    "where $p_1=4$, $p_2=2$, $p_3=40$, and $p_4=20$ are parameters with the appropriate units. $z_A(t)$, $z_B(t)$, and $z_C(t)$ are time varying concentrations of species $A$, $B$, and $C$ respectively."
   ]
  },
  {
   "cell_type": "markdown",
   "metadata": {
    "nbpages": {
     "level": 3,
     "link": "[2.10.1.1 Index analysis](https://ndcbe.github.io/CBE60499/02.10-Pyomo3.html#2.10.1.1-Index-analysis)",
     "section": "2.10.1.1 Index analysis"
    }
   },
   "source": [
    "### 2.10.1.1 Index analysis"
   ]
  },
  {
   "cell_type": "markdown",
   "metadata": {
    "nbpages": {
     "level": 3,
     "link": "[2.10.1.1 Index analysis](https://ndcbe.github.io/CBE60499/02.10-Pyomo3.html#2.10.1.1-Index-analysis)",
     "section": "2.10.1.1 Index analysis"
    }
   },
   "source": [
    "Determine the index of the above differential algebraic equation (DAE) system above.\n",
    "\n",
    "Tip: do this on paper. On Gradescope, there will be a separate assignment for you to turn in your handwritten work."
   ]
  },
  {
   "cell_type": "markdown",
   "metadata": {
    "nbpages": {
     "level": 3,
     "link": "[2.10.1.2 Model reformulation](https://ndcbe.github.io/CBE60499/02.10-Pyomo3.html#2.10.1.2-Model-reformulation)",
     "section": "2.10.1.2 Model reformulation"
    }
   },
   "source": [
    "### 2.10.1.2 Model reformulation"
   ]
  },
  {
   "cell_type": "markdown",
   "metadata": {
    "nbpages": {
     "level": 3,
     "link": "[2.10.1.2 Model reformulation](https://ndcbe.github.io/CBE60499/02.10-Pyomo3.html#2.10.1.2-Model-reformulation)",
     "section": "2.10.1.2 Model reformulation"
    }
   },
   "source": [
    "Apply the index reduction algorithm from class as needed. Ultimately identify two versions of the model: one that is index 1 and another that is index 0. Find a consistent initial condition $z_C(0)$."
   ]
  },
  {
   "cell_type": "markdown",
   "metadata": {
    "nbpages": {
     "level": 3,
     "link": "[2.10.1.3 Implement index 1 model in Pyomo](https://ndcbe.github.io/CBE60499/02.10-Pyomo3.html#2.10.1.3-Implement-index-1-model-in-Pyomo)",
     "section": "2.10.1.3 Implement index 1 model in Pyomo"
    }
   },
   "source": [
    "### 2.10.1.3 Implement index 1 model in Pyomo"
   ]
  },
  {
   "cell_type": "markdown",
   "metadata": {
    "nbpages": {
     "level": 3,
     "link": "[2.10.1.3 Implement index 1 model in Pyomo](https://ndcbe.github.io/CBE60499/02.10-Pyomo3.html#2.10.1.3-Implement-index-1-model-in-Pyomo)",
     "section": "2.10.1.3 Implement index 1 model in Pyomo"
    }
   },
   "source": [
    "We will be building a library of functions."
   ]
  },
  {
   "cell_type": "markdown",
   "metadata": {
    "nbpages": {
     "level": 4,
     "link": "[2.10.1.3.1 Create model and set initial conditions](https://ndcbe.github.io/CBE60499/02.10-Pyomo3.html#2.10.1.3.1-Create-model-and-set-initial-conditions)",
     "section": "2.10.1.3.1 Create model and set initial conditions"
    }
   },
   "source": [
    "#### 2.10.1.3.1 Create model and set initial conditions"
   ]
  },
  {
   "cell_type": "code",
   "execution_count": 2,
   "metadata": {
    "nbpages": {
     "level": 4,
     "link": "[2.10.1.3.1 Create model and set initial conditions](https://ndcbe.github.io/CBE60499/02.10-Pyomo3.html#2.10.1.3.1-Create-model-and-set-initial-conditions)",
     "section": "2.10.1.3.1 Create model and set initial conditions"
    }
   },
   "outputs": [],
   "source": [
    "def create_model():\n",
    "    ''' Create index 1 model and set initial conditions\n",
    "    \n",
    "    Return:\n",
    "        m: Pyomo model\n",
    "    '''\n",
    "    \n",
    "    # Tip: Set time to go from 0 to 1 when creating the model.\n",
    "    \n",
    "    # Begin Solution\n",
    "    \n",
    "    # Declare model\n",
    "    m = ConcreteModel()\n",
    "    \n",
    "    # Declare time\n",
    "    m.t = ContinuousSet(bounds=(0.0, 1.0))\n",
    "    \n",
    "    # Declare parameters\n",
    "    m.p1 = Param(initialize=4.0)\n",
    "    m.p2 = Param(initialize=2.0)\n",
    "    m.p3 = Param(initialize=40.0)\n",
    "    m.p4 = Param(initialize=20.0)\n",
    "    \n",
    "    # Declare variables indexed over time\n",
    "    m.zA = Var(m.t)\n",
    "    m.zB = Var(m.t)\n",
    "    m.zC = Var(m.t)\n",
    "    \n",
    "    # Declare derivative variables\n",
    "    m.dzA = DerivativeVar(m.zA)\n",
    "    m.dzB = DerivativeVar(m.zB)\n",
    "    m.dzC = DerivativeVar(m.zC)\n",
    "    \n",
    "    # Declare differential equations\n",
    "    @m.Constraint(m.t)\n",
    "    def dzA_eqn(m, t):\n",
    "        return m.dzA[t] == m.p2*m.zB[t] - m.p1*m.zA[t]\n",
    "    @m.Constraint(m.t)\n",
    "    def dzB_eqn(m, t):\n",
    "        return m.dzB[t] == m.p1*m.zA[t] - (m.p2 + m.p3)*m.zB[t] + m.p4*m.zC[t]\n",
    "    \n",
    "    # Declare algebraic equation\n",
    "    @m.Constraint(m.t)\n",
    "    def alg_eqn(m, t):\n",
    "        return m.zA[t] + m.zB[t] + m.zC[t] == 1\n",
    "    \n",
    "    # Specify initial conditions \n",
    "    m.zA[0] = 1\n",
    "    m.zB[0] = 0\n",
    "    \n",
    "    \n",
    "    \n",
    "    # End Solution\n",
    "    \n",
    "    return m"
   ]
  },
  {
   "cell_type": "markdown",
   "metadata": {
    "nbpages": {
     "level": 3,
     "link": "[2.10.1.4 Simulate, discretize, and initialize collocation model](https://ndcbe.github.io/CBE60499/02.10-Pyomo3.html#2.10.1.4-Simulate,-discretize,-and-initialize-collocation-model)",
     "section": "2.10.1.4 Simulate, discretize, and initialize collocation model"
    }
   },
   "source": [
    "### 2.10.1.4 Simulate, discretize, and initialize collocation model"
   ]
  },
  {
   "cell_type": "code",
   "execution_count": 3,
   "metadata": {
    "nbpages": {
     "level": 3,
     "link": "[2.10.1.4 Simulate, discretize, and initialize collocation model](https://ndcbe.github.io/CBE60499/02.10-Pyomo3.html#2.10.1.4-Simulate,-discretize,-and-initialize-collocation-model)",
     "section": "2.10.1.4 Simulate, discretize, and initialize collocation model"
    }
   },
   "outputs": [],
   "source": [
    "def simulate_discretize_model(m,NFE,initialize):\n",
    "    ''' Simulation, discretize, and initialize the Pyomo model\n",
    "    \n",
    "    Arguments:\n",
    "        m: Pyomo model\n",
    "        NFE: number of finite elements to consider (integer)\n",
    "        initialize: if True, initialize the discretized model with the \n",
    "             integrator solution (boolean)\n",
    "    \n",
    "    Returns:\n",
    "        sim: Simulator object from Pyomo.DAE\n",
    "        tsim: Timesteps returned from simulator\n",
    "        profiles: Results returned from simulator\n",
    "    \n",
    "    Overall Steps:\n",
    "    1. Create Pyomo.DAE simulator and integrate with casadi/idas\n",
    "    2. Transform model using 'dae.collocation' strategy. Use 3 collocation points\n",
    "        per finite element\n",
    "    3. If initialize is true, call 'sim.initialize_model()'. This will use the\n",
    "        Simulator solution to initialize the discretized Pyomo model. Really cool!\n",
    "    '''\n",
    "    \n",
    "    # Begin Solution\n",
    "    \n",
    "    # Specify integrator options\n",
    "    int_ops = {'print_stats':True,\"abstol\":1E-8,\"reltol\":1E-6}\n",
    "    \n",
    "    # create simulator\n",
    "    sim = Simulator(m, package='casadi')\n",
    "    tsim, profiles = sim.simulate(numpoints=100, integrator='idas', integrator_options=int_ops)\n",
    "    \n",
    "    # create and apply discretizer\n",
    "    discretizer = TransformationFactory('dae.collocation')\n",
    "    discretizer.apply_to(m,nfe=NFE)\n",
    "    \n",
    "    # initialize if desired\n",
    "    if initialize:\n",
    "        sim.initialize_model()\n",
    "    \n",
    "    \n",
    "    # End Solution\n",
    "    \n",
    "    return sim, tsim, profiles"
   ]
  },
  {
   "cell_type": "markdown",
   "metadata": {
    "nbpages": {
     "level": 3,
     "link": "[2.10.1.5 Plot results](https://ndcbe.github.io/CBE60499/02.10-Pyomo3.html#2.10.1.5-Plot-results)",
     "section": "2.10.1.5 Plot results"
    }
   },
   "source": [
    "### 2.10.1.5 Plot results"
   ]
  },
  {
   "cell_type": "code",
   "execution_count": 4,
   "metadata": {
    "nbpages": {
     "level": 3,
     "link": "[2.10.1.5 Plot results](https://ndcbe.github.io/CBE60499/02.10-Pyomo3.html#2.10.1.5-Plot-results)",
     "section": "2.10.1.5 Plot results"
    }
   },
   "outputs": [],
   "source": [
    "def plot_result(m, sim, tsim, profiles, include_model_values):\n",
    "    \"\"\" Plot the results from the simulator (and optionally Pyomo model)\n",
    "    \n",
    "    Arguments:\n",
    "        m: Pyomo model\n",
    "        sim: Pyomo.DAE simulator\n",
    "        tsim: timesteps from simulator\n",
    "        profiles: results from simulation\n",
    "        include_model_values: if True, also plot the values from the Pyomo model m\n",
    "    \n",
    "    Returns:\n",
    "        nothing\n",
    "        \n",
    "    Actions/Steps/Tips:\n",
    "    1. Plot the results stored in tsim and profiles as solid lines. Recycle code from class.\n",
    "    2. If 'include_model_values' is true, plot za, zb, and zc values stored in Pyomo model 'm'.\n",
    "        Use a solid symbol.\n",
    "    3. Add a legend and axes labels\n",
    "    \"\"\"\n",
    "    \n",
    "    # Start Solution\n",
    "    \n",
    "    plt.figure(1)\n",
    "    varorder = sim.get_variable_order()\n",
    "    algorder = sim.get_variable_order(vartype='algebraic')\n",
    "    \n",
    "    # Create empty dictionary\n",
    "    results = {}\n",
    "    \n",
    "    for idx1, v in enumerate(varorder):\n",
    "        i = idx1\n",
    "        v_ = str(v)\n",
    "        results[v_] = profiles[:, i]\n",
    "        plt.plot(tsim, results[v_], label=v)\n",
    "        \n",
    "    for idx2, v in enumerate(algorder):\n",
    "        i = len(varorder) + idx2\n",
    "        v_ = str(v)\n",
    "        results[v_] = profiles[:, i]\n",
    "        plt.plot(tsim, results[v_], label=v)\n",
    "        \n",
    "    if include_model_values:\n",
    "        zA = []\n",
    "        zB = []\n",
    "        zC = []\n",
    "        time = []\n",
    "        for i in m.t:\n",
    "            time.append(i)\n",
    "            zA.append(value(m.zA[i]))\n",
    "            zB.append(value(m.zB[i]))\n",
    "            zC.append(value(m.zC[i]))\n",
    "        plt.plot(time,zA,'.',label='model zA')\n",
    "        plt.plot(time,zB,'.',label='model zB')\n",
    "        plt.plot(time,zC,'.',label='model zC')\n",
    "        \n",
    "    plt.xlabel('t')\n",
    "    plt.ylabel('z')\n",
    "    plt.legend(loc='best')\n",
    "    plt.show()\n",
    "    \n",
    "    \n",
    "    \n",
    "    \n",
    "    \n",
    "    # End Solution\n",
    "    \n",
    "    # Tip: Do not forget to include `plt.show()` (assuming you imported matplotlib.pyplot as plt)"
   ]
  },
  {
   "cell_type": "code",
   "execution_count": 5,
   "metadata": {
    "nbpages": {
     "level": 3,
     "link": "[2.10.1.5 Plot results](https://ndcbe.github.io/CBE60499/02.10-Pyomo3.html#2.10.1.5-Plot-results)",
     "section": "2.10.1.5 Plot results"
    }
   },
   "outputs": [],
   "source": [
    "def solve_model(m):\n",
    "    \"\"\" Solve discretized model with Ipopt\n",
    "    \n",
    "    Arguments:\n",
    "        m: Pyomo model\n",
    "        \n",
    "    Returns:\n",
    "        nothing\n",
    "    \"\"\"\n",
    "    \n",
    "    # Specify initial conditions\n",
    "    def _init(m):\n",
    "        yield m.zA[0] == 1\n",
    "        yield m.zB[0] == 0\n",
    "    model.initcon = ConstraintList(rule=_init)\n",
    "\n",
    "    # Solve collocation formulation (no objective, we are just simulating)\n",
    "    solver = SolverFactory('ipopt')\n",
    "    solver.solve(model,tee=True)"
   ]
  },
  {
   "cell_type": "markdown",
   "metadata": {
    "nbpages": {
     "level": 3,
     "link": "[2.10.1.6 Simulate and solve Pyomo model with initialization](https://ndcbe.github.io/CBE60499/02.10-Pyomo3.html#2.10.1.6-Simulate-and-solve-Pyomo-model-with-initialization)",
     "section": "2.10.1.6 Simulate and solve Pyomo model with initialization"
    }
   },
   "source": [
    "### 2.10.1.6 Simulate and solve Pyomo model with initialization"
   ]
  },
  {
   "cell_type": "code",
   "execution_count": 6,
   "metadata": {
    "nbpages": {
     "level": 3,
     "link": "[2.10.1.6 Simulate and solve Pyomo model with initialization](https://ndcbe.github.io/CBE60499/02.10-Pyomo3.html#2.10.1.6-Simulate-and-solve-Pyomo-model-with-initialization)",
     "section": "2.10.1.6 Simulate and solve Pyomo model with initialization"
    }
   },
   "outputs": [
    {
     "name": "stdout",
     "output_type": "stream",
     "text": [
      "FORWARD INTEGRATION:\n",
      "Number of steps taken by SUNDIALS: 133\n",
      "Number of calls to the user’s f function: 161\n",
      "Number of calls made to the linear solver setup function: 25\n",
      "Number of error test failures: 0\n",
      "Method order used on the last internal step: 5\n",
      "Method order to be used on the next internal step: 5\n",
      "Actual value of initial step size: 2.16496e-09\n",
      "Step size taken on the last internal step: 0.00594889\n",
      "Step size to be attempted on the next internal step: 0.0118978\n",
      "Current internal time reached: 0.0118978\n",
      "Number of nonlinear iterations performed: 159\n",
      "Number of nonlinear convergence failures: 0\n",
      "\n"
     ]
    },
    {
     "data": {
      "image/png": "[encoded data removed]",
      "text/plain": [
       "<Figure size 432x288 with 1 Axes>"
      ]
     },
     "metadata": {
      "needs_background": "light"
     },
     "output_type": "display_data"
    }
   ],
   "source": [
    "# Create Pyomo model\n",
    "model = create_model()\n",
    "\n",
    "# Initialize discretized model with simulation result?\n",
    "init = True\n",
    "\n",
    "# Number of finite elements\n",
    "NFE = 6\n",
    "\n",
    "# Simulate model\n",
    "sim, tsim, profiles = simulate_discretize_model(model,NFE,init)\n",
    "\n",
    "# Plot simulation results\n",
    "plot_result(model, sim, tsim, profiles,True)"
   ]
  },
  {
   "cell_type": "code",
   "execution_count": 7,
   "metadata": {
    "nbpages": {
     "level": 3,
     "link": "[2.10.1.6 Simulate and solve Pyomo model with initialization](https://ndcbe.github.io/CBE60499/02.10-Pyomo3.html#2.10.1.6-Simulate-and-solve-Pyomo-model-with-initialization)",
     "section": "2.10.1.6 Simulate and solve Pyomo model with initialization"
    }
   },
   "outputs": [
    {
     "name": "stdout",
     "output_type": "stream",
     "text": [
      "Ipopt 3.13.3: \n",
      "\n",
      "******************************************************************************\n",
      "This program contains Ipopt, a library for large-scale nonlinear optimization.\n",
      " Ipopt is released as open source code under the Eclipse Public License (EPL).\n",
      "         For more information visit https://github.com/coin-or/Ipopt\n",
      "******************************************************************************\n",
      "\n",
      "This is Ipopt version 3.13.3, running with linear solver mumps.\n",
      "NOTE: Other linear solvers might be more efficient (see Ipopt documentation).\n",
      "\n",
      "Number of nonzeros in equality constraint Jacobian...:      462\n",
      "Number of nonzeros in inequality constraint Jacobian.:        0\n",
      "Number of nonzeros in Lagrangian Hessian.............:        0\n",
      "\n",
      "Total number of variables............................:      113\n",
      "                     variables with only lower bounds:        0\n",
      "                variables with lower and upper bounds:        0\n",
      "                     variables with only upper bounds:        0\n",
      "Total number of equality constraints.................:      113\n",
      "Total number of inequality constraints...............:        0\n",
      "        inequality constraints with only lower bounds:        0\n",
      "   inequality constraints with lower and upper bounds:        0\n",
      "        inequality constraints with only upper bounds:        0\n",
      "\n",
      "iter    objective    inf_pr   inf_du lg(mu)  ||d||  lg(rg) alpha_du alpha_pr  ls\n",
      "   0  0.0000000e+00 4.00e+00 0.00e+00  -1.0 0.00e+00    -  0.00e+00 0.00e+00   0\n",
      "   1  0.0000000e+00 4.32e-15 0.00e+00  -1.0 4.00e+00    -  1.00e+00 1.00e+00h  1\n",
      "\n",
      "Number of Iterations....: 1\n",
      "\n",
      "                                   (scaled)                 (unscaled)\n",
      "Objective...............:   0.0000000000000000e+00    0.0000000000000000e+00\n",
      "Dual infeasibility......:   0.0000000000000000e+00    0.0000000000000000e+00\n",
      "Constraint violation....:   4.3159920082302961e-15    4.3159920082302961e-15\n",
      "Complementarity.........:   0.0000000000000000e+00    0.0000000000000000e+00\n",
      "Overall NLP error.......:   4.3159920082302961e-15    4.3159920082302961e-15\n",
      "\n",
      "\n",
      "Number of objective function evaluations             = 2\n",
      "Number of objective gradient evaluations             = 2\n",
      "Number of equality constraint evaluations            = 2\n",
      "Number of inequality constraint evaluations          = 0\n",
      "Number of equality constraint Jacobian evaluations   = 2\n",
      "Number of inequality constraint Jacobian evaluations = 0\n",
      "Number of Lagrangian Hessian evaluations             = 1\n",
      "Total CPU secs in IPOPT (w/o function evaluations)   =      0.062\n",
      "Total CPU secs in NLP function evaluations           =      0.000\n",
      "\n",
      "EXIT: Optimal Solution Found.\n"
     ]
    },
    {
     "data": {
      "image/png": "[encoded data removed]",
      "text/plain": [
       "<Figure size 432x288 with 1 Axes>"
      ]
     },
     "metadata": {
      "needs_background": "light"
     },
     "output_type": "display_data"
    }
   ],
   "source": [
    "# Solve collocation formulation with Ipopt\n",
    "solve_model(model)\n",
    "\n",
    "# Plot results\n",
    "plot_result(model, sim, tsim, profiles, True)"
   ]
  },
  {
   "cell_type": "markdown",
   "metadata": {
    "nbpages": {
     "level": 3,
     "link": "[2.10.1.7 Simulate and solve Pyomo model without initialization](https://ndcbe.github.io/CBE60499/02.10-Pyomo3.html#2.10.1.7-Simulate-and-solve-Pyomo-model-without-initialization)",
     "section": "2.10.1.7 Simulate and solve Pyomo model without initialization"
    }
   },
   "source": [
    "### 2.10.1.7 Simulate and solve Pyomo model without initialization"
   ]
  },
  {
   "cell_type": "markdown",
   "metadata": {
    "nbpages": {
     "level": 3,
     "link": "[2.10.1.7 Simulate and solve Pyomo model without initialization](https://ndcbe.github.io/CBE60499/02.10-Pyomo3.html#2.10.1.7-Simulate-and-solve-Pyomo-model-without-initialization)",
     "section": "2.10.1.7 Simulate and solve Pyomo model without initialization"
    }
   },
   "source": [
    "Repeat the analysis from above, but do NOT initialize the discretized model with the simulation result. (Tip: you only need to change two small things.)"
   ]
  },
  {
   "cell_type": "code",
   "execution_count": 8,
   "metadata": {
    "nbpages": {
     "level": 3,
     "link": "[2.10.1.7 Simulate and solve Pyomo model without initialization](https://ndcbe.github.io/CBE60499/02.10-Pyomo3.html#2.10.1.7-Simulate-and-solve-Pyomo-model-without-initialization)",
     "section": "2.10.1.7 Simulate and solve Pyomo model without initialization"
    }
   },
   "outputs": [
    {
     "name": "stdout",
     "output_type": "stream",
     "text": [
      "FORWARD INTEGRATION:\n",
      "Number of steps taken by SUNDIALS: 133\n",
      "Number of calls to the user’s f function: 161\n",
      "Number of calls made to the linear solver setup function: 25\n",
      "Number of error test failures: 0\n",
      "Method order used on the last internal step: 5\n",
      "Method order to be used on the next internal step: 5\n",
      "Actual value of initial step size: 2.16496e-09\n",
      "Step size taken on the last internal step: 0.00594889\n",
      "Step size to be attempted on the next internal step: 0.0118978\n",
      "Current internal time reached: 0.0118978\n",
      "Number of nonlinear iterations performed: 159\n",
      "Number of nonlinear convergence failures: 0\n",
      "\n"
     ]
    },
    {
     "data": {
      "image/png": "[encoded data removed]",
      "text/plain": [
       "<Figure size 432x288 with 1 Axes>"
      ]
     },
     "metadata": {
      "needs_background": "light"
     },
     "output_type": "display_data"
    },
    {
     "name": "stdout",
     "output_type": "stream",
     "text": [
      "Ipopt 3.13.3: \n",
      "\n",
      "******************************************************************************\n",
      "This program contains Ipopt, a library for large-scale nonlinear optimization.\n",
      " Ipopt is released as open source code under the Eclipse Public License (EPL).\n",
      "         For more information visit https://github.com/coin-or/Ipopt\n",
      "******************************************************************************\n",
      "\n",
      "This is Ipopt version 3.13.3, running with linear solver mumps.\n",
      "NOTE: Other linear solvers might be more efficient (see Ipopt documentation).\n",
      "\n",
      "Number of nonzeros in equality constraint Jacobian...:      462\n",
      "Number of nonzeros in inequality constraint Jacobian.:        0\n",
      "Number of nonzeros in Lagrangian Hessian.............:        0\n",
      "\n",
      "Total number of variables............................:      113\n",
      "                     variables with only lower bounds:        0\n",
      "                variables with lower and upper bounds:        0\n",
      "                     variables with only upper bounds:        0\n",
      "Total number of equality constraints.................:      113\n",
      "Total number of inequality constraints...............:        0\n",
      "        inequality constraints with only lower bounds:        0\n",
      "   inequality constraints with lower and upper bounds:        0\n",
      "        inequality constraints with only upper bounds:        0\n",
      "\n",
      "iter    objective    inf_pr   inf_du lg(mu)  ||d||  lg(rg) alpha_du alpha_pr  ls\n",
      "   0  0.0000000e+00 2.48e+01 0.00e+00  -1.0 0.00e+00    -  0.00e+00 0.00e+00   0\n",
      "   1  0.0000000e+00 5.05e-15 0.00e+00  -1.0 4.00e+00    -  1.00e+00 1.00e+00h  1\n",
      "\n",
      "Number of Iterations....: 1\n",
      "\n",
      "                                   (scaled)                 (unscaled)\n",
      "Objective...............:   0.0000000000000000e+00    0.0000000000000000e+00\n",
      "Dual infeasibility......:   0.0000000000000000e+00    0.0000000000000000e+00\n",
      "Constraint violation....:   5.0515147620444623e-15    5.0515147620444623e-15\n",
      "Complementarity.........:   0.0000000000000000e+00    0.0000000000000000e+00\n",
      "Overall NLP error.......:   5.0515147620444623e-15    5.0515147620444623e-15\n",
      "\n",
      "\n",
      "Number of objective function evaluations             = 2\n",
      "Number of objective gradient evaluations             = 2\n",
      "Number of equality constraint evaluations            = 2\n",
      "Number of inequality constraint evaluations          = 0\n",
      "Number of equality constraint Jacobian evaluations   = 2\n",
      "Number of inequality constraint Jacobian evaluations = 0\n",
      "Number of Lagrangian Hessian evaluations             = 1\n",
      "Total CPU secs in IPOPT (w/o function evaluations)   =      0.047\n",
      "Total CPU secs in NLP function evaluations           =      0.000\n",
      "\n",
      "EXIT: Optimal Solution Found.\n"
     ]
    },
    {
     "data": {
      "image/png": "[encoded data removed]",
      "text/plain": [
       "<Figure size 432x288 with 1 Axes>"
      ]
     },
     "metadata": {
      "needs_background": "light"
     },
     "output_type": "display_data"
    }
   ],
   "source": [
    "# YOUR SOLUTION HERE\n",
    "# Create Pyomo model\n",
    "model = create_model()\n",
    "\n",
    "# Initialize discretized model with simulation result?\n",
    "init = False\n",
    "\n",
    "\n",
    "# Simulate model\n",
    "sim, tsim, profiles = simulate_discretize_model(model,NFE,init)\n",
    "\n",
    "# Plot simulation results\n",
    "plot_result(model, sim, tsim, profiles,False)\n",
    "\n",
    "# Solve collocation formulation with Ipopt\n",
    "solve_model(model)\n",
    "\n",
    "# Plot results\n",
    "plot_result(model, sim, tsim, profiles, True)"
   ]
  },
  {
   "cell_type": "markdown",
   "metadata": {
    "nbpages": {
     "level": 3,
     "link": "[2.10.1.8 Discussion: Does initialization matter?](https://ndcbe.github.io/CBE60499/02.10-Pyomo3.html#2.10.1.8-Discussion:-Does-initialization-matter?)",
     "section": "2.10.1.8 Discussion: Does initialization matter?"
    }
   },
   "source": [
    "### 2.10.1.8 Discussion: Does initialization matter?\n",
    "\n",
    "Write 1 to 3 sentences for each of the following questions:\n",
    "\n",
    "*What happens if we disable initialization? Does the number of interactions Ipopt need change?*\n",
    "\n",
    "Not much happens.  Ipopt needs the same number of iterations either way.\n",
    "\n",
    "\n",
    "\n",
    "*Why is this specific problem robust to poor initialization? What about this specific DAE system makes it easy to solve?*\n",
    "\n",
    "This specific problem is robust to poor initialization due to it consisting of first order linear ordinary differential equations."
   ]
  },
  {
   "cell_type": "markdown",
   "metadata": {
    "nbpages": {
     "level": 3,
     "link": "[2.10.1.9 Degree of Freedom Analysis](https://ndcbe.github.io/CBE60499/02.10-Pyomo3.html#2.10.1.9-Degree-of-Freedom-Analysis)",
     "section": "2.10.1.9 Degree of Freedom Analysis"
    }
   },
   "source": [
    "### 2.10.1.9 Degree of Freedom Analysis"
   ]
  },
  {
   "cell_type": "markdown",
   "metadata": {
    "nbpages": {
     "level": 3,
     "link": "[2.10.1.9 Degree of Freedom Analysis](https://ndcbe.github.io/CBE60499/02.10-Pyomo3.html#2.10.1.9-Degree-of-Freedom-Analysis)",
     "section": "2.10.1.9 Degree of Freedom Analysis"
    }
   },
   "source": [
    "Please answer on paper and turn in via Gradescope."
   ]
  },
  {
   "cell_type": "markdown",
   "metadata": {
    "nbpages": {
     "level": 3,
     "link": "[2.10.1.9 Degree of Freedom Analysis](https://ndcbe.github.io/CBE60499/02.10-Pyomo3.html#2.10.1.9-Degree-of-Freedom-Analysis)",
     "section": "2.10.1.9 Degree of Freedom Analysis"
    }
   },
   "source": [
    "Rerun the code above for two different numbers of finite elements. Record the total number of variables and equality constraints."
   ]
  },
  {
   "cell_type": "markdown",
   "metadata": {
    "nbpages": {
     "level": 3,
     "link": "[2.10.1.9 Degree of Freedom Analysis](https://ndcbe.github.io/CBE60499/02.10-Pyomo3.html#2.10.1.9-Degree-of-Freedom-Analysis)",
     "section": "2.10.1.9 Degree of Freedom Analysis"
    }
   },
   "source": [
    "How many degrees of freedom are in the simulation problem? (1 sentence is fine.)"
   ]
  },
  {
   "cell_type": "markdown",
   "metadata": {
    "nbpages": {
     "level": 3,
     "link": "[2.10.1.9 Degree of Freedom Analysis](https://ndcbe.github.io/CBE60499/02.10-Pyomo3.html#2.10.1.9-Degree-of-Freedom-Analysis)",
     "section": "2.10.1.9 Degree of Freedom Analysis"
    }
   },
   "source": [
    "Choose $N=3$ or a simular number of finite elements. Using the collocation equations from class, show that the discretized Pyomo model has the correct number of variables and algebriac equations. This will be a little tedious, but good to practice once on a simple model. You might need to do this when debugging a DAE model for research."
   ]
  },
  {
   "cell_type": "markdown",
   "metadata": {},
   "source": [
    "<!--NAVIGATION-->\n",
    "< [2.9 Pyomo Homework 2](https://ndcbe.github.io/CBE60499/02.09-Pyomo2.html) | [Contents](toc.html) | [3.0 Unconstrained Nonlinear Optimization: Theory and Algorithms](https://ndcbe.github.io/CBE60499/03.00-Unconstrained.html) ><p><a href=\"https://colab.research.google.com/github/ndcbe/CBE60499/blob/master/docs/02.10-Pyomo3.ipynb\"> <img align=\"left\" src=\"https://colab.research.google.com/assets/colab-badge.svg\" alt=\"Open in Colab\" title=\"Open in Google Colaboratory\"></a><p><a href=\"https://ndcbe.github.io/CBE60499/02.10-Pyomo3.ipynb\"> <img align=\"left\" src=\"https://img.shields.io/badge/Github-Download-blue.svg\" alt=\"Download\" title=\"Download Notebook\"></a>"
   ]
  }
 ],
 "metadata": {
  "kernelspec": {
   "display_name": "Python 3",
   "language": "python",
   "name": "python3"
  },
  "language_info": {
   "codemirror_mode": {
    "name": "ipython",
    "version": 3
   },
   "file_extension": ".py",
   "mimetype": "text/x-python",
   "name": "python",
   "nbconvert_exporter": "python",
   "pygments_lexer": "ipython3",
   "version": "3.8.8"
  }
 },
 "nbformat": 4,
 "nbformat_minor": 2
}
