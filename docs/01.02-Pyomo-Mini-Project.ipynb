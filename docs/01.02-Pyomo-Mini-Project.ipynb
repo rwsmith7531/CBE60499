{
 "cells": [
  {
   "cell_type": "markdown",
   "metadata": {},
   "source": [
    "<!--NOTEBOOK_HEADER-->\n",
    "*This notebook contains material from [CBE60499](https://ndcbe.github.io/CBE60499);\n",
    "content is available [on Github](git@github.com:ndcbe/CBE60499.git).*\n"
   ]
  },
  {
   "cell_type": "markdown",
   "metadata": {},
   "source": [
    "<!--NAVIGATION-->\n",
    "< [1.1 60 Minutes to Pyomo: An Energy Storage Model Predictive Control Example](https://ndcbe.github.io/CBE60499/01.01-Pyomo-Nuts-and-Bolts.html) | [Contents](toc.html) | [2.0 Optimization Modeling with Applications](https://ndcbe.github.io/CBE60499/02.00-Optimization-Modeling.html) ><p><a href=\"https://colab.research.google.com/github/ndcbe/CBE60499/blob/master/docs/01.02-Pyomo-Mini-Project.ipynb\"> <img align=\"left\" src=\"https://colab.research.google.com/assets/colab-badge.svg\" alt=\"Open in Colab\" title=\"Open in Google Colaboratory\"></a><p><a href=\"https://ndcbe.github.io/CBE60499/01.02-Pyomo-Mini-Project.ipynb\"> <img align=\"left\" src=\"https://img.shields.io/badge/Github-Download-blue.svg\" alt=\"Download\" title=\"Download Notebook\"></a>"
   ]
  },
  {
   "cell_type": "code",
   "execution_count": 1,
   "metadata": {},
   "outputs": [],
   "source": [
    "# IMPORT DATA FILES USED BY THIS NOTEBOOK\n",
    "import os,  requests\n",
    "\n",
    "file_links = [(\"data/Prices_DAM_ALTA2G_7_B1.csv\", \"https://ndcbe.github.io/CBE60499/data/Prices_DAM_ALTA2G_7_B1.csv\")]\n",
    "\n",
    "# This cell has been added by nbpages. Run this cell to download data files required for this notebook.\n",
    "\n",
    "for filepath, fileurl in file_links:\n",
    "    stem, filename = os.path.split(filepath)\n",
    "    if stem:\n",
    "        if not os.path.exists(stem):\n",
    "            os.mkdir(stem)\n",
    "    if not os.path.isfile(filepath):\n",
    "        with open(filepath, 'wb') as f:\n",
    "            response = requests.get(fileurl)\n",
    "            f.write(response.content)\n"
   ]
  },
  {
   "cell_type": "markdown",
   "metadata": {
    "nbpages": {
     "level": 1,
     "link": "[1.2 Pyomo Mini-Project: Receding Horizon Stochastic Control](https://ndcbe.github.io/CBE60499/01.02-Pyomo-Mini-Project.html#1.2-Pyomo-Mini-Project:-Receding-Horizon-Stochastic-Control)",
     "section": "1.2 Pyomo Mini-Project: Receding Horizon Stochastic Control"
    }
   },
   "source": [
    "# 1.2 Pyomo Mini-Project: Receding Horizon Stochastic Control"
   ]
  },
  {
   "cell_type": "markdown",
   "metadata": {
    "nbpages": {
     "level": 1,
     "link": "[1.2 Pyomo Mini-Project: Receding Horizon Stochastic Control](https://ndcbe.github.io/CBE60499/01.02-Pyomo-Mini-Project.html#1.2-Pyomo-Mini-Project:-Receding-Horizon-Stochastic-Control)",
     "section": "1.2 Pyomo Mini-Project: Receding Horizon Stochastic Control"
    }
   },
   "source": [
    "**Deadline:** Friday, March 5, 2021"
   ]
  },
  {
   "cell_type": "markdown",
   "metadata": {
    "nbpages": {
     "level": 2,
     "link": "[1.2.1 Assignment Goals](https://ndcbe.github.io/CBE60499/01.02-Pyomo-Mini-Project.html#1.2.1-Assignment-Goals)",
     "section": "1.2.1 Assignment Goals"
    }
   },
   "source": [
    "## 1.2.1 Assignment Goals"
   ]
  },
  {
   "cell_type": "markdown",
   "metadata": {
    "nbpages": {
     "level": 2,
     "link": "[1.2.1 Assignment Goals](https://ndcbe.github.io/CBE60499/01.02-Pyomo-Mini-Project.html#1.2.1-Assignment-Goals)",
     "section": "1.2.1 Assignment Goals"
    }
   },
   "source": [
    "The **primary purpose** of this assignment is to give you **hands-on-keyboard experience** with optimization modeling and analysis. In this assignment, I incorporated many of the best practices I share with my Ph.D. students during their first year using Pyomo for research. Specifically:\n",
    "* Planning is the most important (and often most overlooked step) in computer programming. Two best practices are to (1) write pseudocode and (2) write the optimization model on paper and perform degree of freedom analysis before you use the computer. We practiced tip (2) in class. If you cannot do (1) and (2), no amount of Googling Pyomo/Python syntax will save you.\n",
    "* Functions (or classes) allow us to reuse most of our code. Below I gave you function definitions and doc strings to show you a good way to \"modularize\" this analysis. Once the functions defined below work, performing the analysis is easy.\n",
    "* Solving your optimization problem a few times is (often) not a sufficient research result. Who cares? Application-driven research is all about the analysis. Optimization is a tool to better answer analysis questions. By giving you >50% of the code for this assignment, I am intentionally emphasizing the analysis (not just coding).  You will see we can take a really simple optimization model and ask/answer some interesting analysis questions.\n",
    "\n",
    "You should start this assignment early. Almost everyone will make at least one Python/Pyomo syntax mistake. Give yourself plenty of time to ask questions on Slack. Please also be generous with helping your classmates. This assignment (and grades in general in this class) is not a competition. You are welcome (encouraged!) to post screenshots of your code in Slack when asking/answering questions. Please refrain from posting your discussion responses. You are welcome to discuss the analysis questions on Slack; everyone should answer the discussion questions in their own words."
   ]
  },
  {
   "cell_type": "code",
   "execution_count": 2,
   "metadata": {
    "nbpages": {
     "level": 2,
     "link": "[1.2.1 Assignment Goals](https://ndcbe.github.io/CBE60499/01.02-Pyomo-Mini-Project.html#1.2.1-Assignment-Goals)",
     "section": "1.2.1 Assignment Goals"
    }
   },
   "outputs": [],
   "source": [
    "# This code cell installs packages on Colab\n",
    "\n",
    "import sys\n",
    "if \"google.colab\" in sys.modules:\n",
    "    !wget \"https://raw.githubusercontent.com/ndcbe/CBE60499/main/notebooks/helper.py\"\n",
    "    import helper\n",
    "    helper.install_idaes()\n",
    "    helper.install_ipopt()\n",
    "    helper.download_data(['Prices_DAM_ALTA2G_7_B1.csv'])"
   ]
  },
  {
   "cell_type": "code",
   "execution_count": 3,
   "metadata": {
    "nbpages": {
     "level": 2,
     "link": "[1.2.1 Assignment Goals](https://ndcbe.github.io/CBE60499/01.02-Pyomo-Mini-Project.html#1.2.1-Assignment-Goals)",
     "section": "1.2.1 Assignment Goals"
    }
   },
   "outputs": [],
   "source": [
    "import pandas as pd\n",
    "import pyomo.environ as pyo\n",
    "import numpy as np\n",
    "import matplotlib.pyplot as plt"
   ]
  },
  {
   "cell_type": "code",
   "execution_count": 4,
   "metadata": {
    "nbpages": {
     "level": 2,
     "link": "[1.2.1 Assignment Goals](https://ndcbe.github.io/CBE60499/01.02-Pyomo-Mini-Project.html#1.2.1-Assignment-Goals)",
     "section": "1.2.1 Assignment Goals"
    }
   },
   "outputs": [],
   "source": [
    "ca_data = pd.read_csv('./data/Prices_DAM_ALTA2G_7_B1.csv',names=['price'])"
   ]
  },
  {
   "cell_type": "code",
   "execution_count": 5,
   "metadata": {
    "nbpages": {
     "level": 2,
     "link": "[1.2.1 Assignment Goals](https://ndcbe.github.io/CBE60499/01.02-Pyomo-Mini-Project.html#1.2.1-Assignment-Goals)",
     "section": "1.2.1 Assignment Goals"
    }
   },
   "outputs": [],
   "source": [
    "def prepare_data_array(day=2,num_days=8):\n",
    "    ''' Prepare numpy array of prices\n",
    "    \n",
    "    Arguments:\n",
    "        day: day to start (0 = January 1, 2015)\n",
    "        num_days: numbers of days to include in the vector\n",
    "        \n",
    "    Returns:\n",
    "        numpy array of prices\n",
    "    '''\n",
    "\n",
    "    return ca_data[\"price\"][(day)*24:24*(day+num_days)].to_numpy()"
   ]
  },
  {
   "cell_type": "markdown",
   "metadata": {
    "nbpages": {
     "level": 2,
     "link": "[1.2.1 Assignment Goals](https://ndcbe.github.io/CBE60499/01.02-Pyomo-Mini-Project.html#1.2.1-Assignment-Goals)",
     "section": "1.2.1 Assignment Goals"
    }
   },
   "source": [
    "In the previous notebook, we considered model predictive control (MPC) of a battery energy storage system interacting with the electricity market. In essence, we posed an optimization problem:\n",
    "\n",
    "*Given a forecasting for energy prices, what charging and discharging strategy maximizes net market revenue?*\n",
    "\n",
    "In this homework mini-project, you will consider two modifications to make the example more realistic:\n",
    "1. Add a constraint to prevent simultanous charging and discharging.\n",
    "1. Receding horizon control\n",
    "2. Uncertainty\n",
    "\n",
    "The goal is to help you develop Python and Pyomo programming skills."
   ]
  },
  {
   "cell_type": "markdown",
   "metadata": {
    "nbpages": {
     "level": 2,
     "link": "[1.2.2 Model Refinement and Code Reorganization](https://ndcbe.github.io/CBE60499/01.02-Pyomo-Mini-Project.html#1.2.2-Model-Refinement-and-Code-Reorganization)",
     "section": "1.2.2 Model Refinement and Code Reorganization"
    }
   },
   "source": [
    "## 1.2.2 Model Refinement and Code Reorganization"
   ]
  },
  {
   "cell_type": "markdown",
   "metadata": {
    "nbpages": {
     "level": 3,
     "link": "[1.2.2.1 Revised Model](https://ndcbe.github.io/CBE60499/01.02-Pyomo-Mini-Project.html#1.2.2.1-Revised-Model)",
     "section": "1.2.2.1 Revised Model"
    }
   },
   "source": [
    "### 1.2.2.1 Revised Model"
   ]
  },
  {
   "cell_type": "markdown",
   "metadata": {
    "nbpages": {
     "level": 3,
     "link": "[1.2.2.1 Revised Model](https://ndcbe.github.io/CBE60499/01.02-Pyomo-Mini-Project.html#1.2.2.1-Revised-Model)",
     "section": "1.2.2.1 Revised Model"
    }
   },
   "source": [
    "Propose a new mathematical model that includes a constraint to prevent charging and discharging. Hint: using either integer variables or a disjunction will ensure the objective and constraints remaining linear.\n",
    "\n",
    "Below is the model description copied from our in-class example. **Please edit** such that this notebook describes your complete new model."
   ]
  },
  {
   "cell_type": "markdown",
   "metadata": {
    "nbpages": {
     "level": 3,
     "link": "[1.2.2.1 Revised Model](https://ndcbe.github.io/CBE60499/01.02-Pyomo-Mini-Project.html#1.2.2.1-Revised-Model)",
     "section": "1.2.2.1 Revised Model"
    }
   },
   "source": [
    "**Sets**\n",
    "\n",
    "Timesteps: $\\mathcal{T} = \\{0, 1, ..., N\\}$\n",
    "    \n",
    "Timesteps without the initial time: $\\mathcal{T}' = \\{1, ..., N\\}$\n",
    "\n",
    "**Variables**\n",
    "* $E_t$, energy stored in battery at time $t$, units: MWh\n",
    "* $d_t$, battery discharge power (sold to market) during time interval [t-1, t), units: MW\n",
    "* $c_t$, battery charge power (purchased from the market) during time interval [t-1, t), units: MW\n",
    "* $y_t$, binary: 1 if charging is allowed during time interval [t-1, t), 0 if charging is not allowed during this time interval, units: dimensionless\n",
    "\n",
    "**Parameters**\n",
    "* $\\pi_t$: Energy price during time interval [t-1, t), units: \\$/MW\n",
    "* $\\eta$: Round trip efficiency, units: dimensionless\n",
    "* $c_{max}$ Maximum charge power, units: MW\n",
    "* $d_{max}$ Maximum discharge power, units: MW\n",
    "* $E_{max}$ Maximum storage energy, units: MWh\n",
    "* $E_{0}$ Energy in storage at time $t=0$, units: MWh\n",
    "* $\\Delta t = 1$ hour, Timestep for grid decisions and prices (fixed)"
   ]
  },
  {
   "cell_type": "markdown",
   "metadata": {
    "nbpages": {
     "level": 3,
     "link": "[1.2.2.1 Revised Model](https://ndcbe.github.io/CBE60499/01.02-Pyomo-Mini-Project.html#1.2.2.1-Revised-Model)",
     "section": "1.2.2.1 Revised Model"
    }
   },
   "source": [
    "**Optimization Problem**\n",
    "$$\n",
    "\\begin{align*}\n",
    "    \\max_{\\mathbf{E},\\mathbf{d},\\mathbf{c}} \\quad & \\psi := \\sum_{t \\in \\mathcal{T}'} \\pi_{t} \\Delta t (d_{t} - c_{t}) \\\\\n",
    "\\mathrm{s.t.} \\quad & E_{t} = E_{t-1} + \\Delta t \\left( c_{t} \\sqrt{\\eta} - \\frac{d_{t}}{\\sqrt{\\eta}} \\right), ~~ \\forall ~ t \\in \\mathcal{T}' \\\\\n",
    "    & E_{0} = E_{N} \\\\\n",
    "    & 0 \\leq c_{t} \\leq c_{max}y_t, ~~\\forall ~ t \\in \\mathcal{T}' \\\\\n",
    "    & 0 \\leq d_{t} \\leq d_{max}(1-y_t), ~~\\forall ~ t \\in \\mathcal{T}' \\\\\n",
    "    & 0 \\leq E_{t} \\leq E_{max},  ~~\\forall ~ t \\in \\mathcal{T}'\n",
    "\\end{align*}\n",
    "$$"
   ]
  },
  {
   "cell_type": "markdown",
   "metadata": {
    "nbpages": {
     "level": 3,
     "link": "[1.2.2.2 Degree of Freedom Analysis](https://ndcbe.github.io/CBE60499/01.02-Pyomo-Mini-Project.html#1.2.2.2-Degree-of-Freedom-Analysis)",
     "section": "1.2.2.2 Degree of Freedom Analysis"
    }
   },
   "source": [
    "### 1.2.2.2 Degree of Freedom Analysis\n",
    "\n",
    "Perform degree of freedom analysis. Identify:\n",
    "1. Total number of continous variables\n",
    "2. Total number of integer variables (or disjunctions if using)\n",
    "3. Total number of equality constraints\n",
    "4. Total number of inequality constraints\n",
    "5. Degrees of freedom\n",
    "\n",
    "Tip: perform this on paper then typeset below."
   ]
  },
  {
   "cell_type": "markdown",
   "metadata": {
    "nbpages": {
     "level": 3,
     "link": "[1.2.2.2 Degree of Freedom Analysis](https://ndcbe.github.io/CBE60499/01.02-Pyomo-Mini-Project.html#1.2.2.2-Degree-of-Freedom-Analysis)",
     "section": "1.2.2.2 Degree of Freedom Analysis"
    }
   },
   "source": [
    "**Number of continous variables:** 3N+1; these are (N+1) $E_t$, N $d_t$, and N $c_t$\n",
    "\n",
    "**Number of integer variables:** N; these are the N $y_t$\n",
    "\n",
    "**Number of equality constraints:** N+2; these are the 1 periodic boundary condition, 1 fixation of $E_0$ ,and the N energy balance constraints (Note: I know $E_0$ is given as a parameter, not a variable, but in my code below, I will make it a variable that is constrained to be equal to the parameter)\n",
    "\n",
    "**Number of inequality constraints:** 3N; these are N of each of the three inequalities shown\n",
    "    \n",
    "**Degrees of freedom.** The way that the problem is formulated, it has 3N-1 degrees of freedom according to the simple formula given in notebook 1.01 that neglects inequality constraints and bounds, because 4N+1 variables minus N+2 equality constraints equals 3N-1 degrees of freedom.  However, these degrees of freedom are not entirely free or entirely independent of each other, due to their bounds and inequality constraints.  The problem could have been formulated with net charging rate as a variable instead of charging rate and discharging rate, likely reducing the degrees of freedom, but c and d are referrenced later in the project code given so I did not make this simplification.  Such a reduction in degrees of freedom would likely also be seen for this formulation if I were to account for the inequality constraints, but I don't think we have been taught how to do that yet."
   ]
  },
  {
   "cell_type": "markdown",
   "metadata": {
    "nbpages": {
     "level": 3,
     "link": "[1.2.2.3 Python Code](https://ndcbe.github.io/CBE60499/01.02-Pyomo-Mini-Project.html#1.2.2.3-Python-Code)",
     "section": "1.2.2.3 Python Code"
    }
   },
   "source": [
    "### 1.2.2.3 Python Code"
   ]
  },
  {
   "cell_type": "markdown",
   "metadata": {
    "nbpages": {
     "level": 3,
     "link": "[1.2.2.3 Python Code](https://ndcbe.github.io/CBE60499/01.02-Pyomo-Mini-Project.html#1.2.2.3-Python-Code)",
     "section": "1.2.2.3 Python Code"
    }
   },
   "source": [
    "Programmers organize their code into functions, often following the rule \"1 task/action = 1 function\". Here are a few of the reasons you should always do this:\n",
    "1. Functions make your code easier to use\n",
    "2. More specifically, functions force you to abstract/generalize your code\n",
    "3. Writing doc strings (required for this course!) forces you to document your code and think about the structure.\n",
    "4. Functions allow your code to best tested piece by piece"
   ]
  },
  {
   "cell_type": "markdown",
   "metadata": {
    "nbpages": {
     "level": 3,
     "link": "[1.2.2.3 Python Code](https://ndcbe.github.io/CBE60499/01.02-Pyomo-Mini-Project.html#1.2.2.3-Python-Code)",
     "section": "1.2.2.3 Python Code"
    }
   },
   "source": [
    "To show you how to do this, we have provided skeletons for several functions in this assignment. Based on the doc string, complete the functions."
   ]
  },
  {
   "cell_type": "code",
   "execution_count": 6,
   "metadata": {
    "nbpages": {
     "level": 3,
     "link": "[1.2.2.3 Python Code](https://ndcbe.github.io/CBE60499/01.02-Pyomo-Mini-Project.html#1.2.2.3-Python-Code)",
     "section": "1.2.2.3 Python Code"
    }
   },
   "outputs": [],
   "source": [
    "def build_model(price_data, horizon_length, include_pbc=True, include_disjunction=True):\n",
    "    '''\n",
    "    Builds HORIZON pyomo model\n",
    "    \n",
    "    Inputs:\n",
    "    price_data: dictionary of price data\n",
    "    horizon_length: number of timesteps to evaluate\n",
    "    include_pbc: Boolean, include periodic boundary condition constraint\n",
    "    \n",
    "    Returns:\n",
    "    m: HORIZON pyomo model\n",
    "    '''\n",
    "    \n",
    "    m = pyo.ConcreteModel()\n",
    "    \n",
    "    # Begin Solution\n",
    "    \n",
    "    m.N = pyo.Param(initialize=horizon_length)\n",
    "    \n",
    "    # Sets\n",
    "    m.T = pyo.RangeSet(0,m.N) # Timesteps\n",
    "    m.Tprime = pyo.RangeSet(m.N) # Timesteps without zero\n",
    "    \n",
    "    # Parameters\n",
    "    m.pi = pyo.Param(m.Tprime, initialize=price_data, mutable=True)\n",
    "    eta = 0.88\n",
    "    m.sqrteta = pyo.Param(initialize=eta**0.5, mutable=True)\n",
    "    m.cmax = pyo.Param(initialize=1.0, mutable=True)\n",
    "    m.dmax = pyo.Param(initialize=1.0, mutable=True)\n",
    "    m.Emax = pyo.Param(initialize=4.0, mutable=True)\n",
    "    m.E0 = pyo.Param(initialize=0, mutable=True)\n",
    "    m.tstep = pyo.Param(initialize=1.0, mutable=True)\n",
    "    \n",
    "    \n",
    "    \n",
    "    # Variables\n",
    "    m.E = pyo.Var(m.T, within=pyo.NonNegativeReals, bounds=(0,m.Emax))\n",
    "    m.d = pyo.Var(m.Tprime, within=pyo.NonNegativeReals, bounds=(0,m.dmax))\n",
    "    m.c = pyo.Var(m.Tprime, within=pyo.NonNegativeReals, bounds=(0,m.cmax))\n",
    "    m.y = pyo.Var(m.Tprime, within=pyo.Binary)\n",
    "    \n",
    "    # Objective\n",
    "    @m.Objective(sense=pyo.maximize)\n",
    "    def profitobj(m):\n",
    "        return sum(m.pi[t]*m.tstep*(m.d[t]-m.c[t]) for t in m.Tprime)\n",
    "    \n",
    "    # Constraints\n",
    "    @m.Constraint()\n",
    "    def ic_constraint(m):\n",
    "        return m.E[0] == m.E0\n",
    "    \n",
    "    if include_pbc:\n",
    "        @m.Constraint()\n",
    "        def pbc_constraint(m):\n",
    "            return m.E[m.N] == m.E0\n",
    "    \n",
    "    @m.Constraint(m.Tprime)\n",
    "    def ebalance(m, t):\n",
    "        return m.E[t] == m.E[t-1] + m.tstep*(m.c[t]*m.sqrteta - m.d[t]/m.sqrteta)\n",
    "    \n",
    "        \n",
    "    if include_disjunction:\n",
    "        @m.Constraint(m.Tprime)\n",
    "        def chargerate_constraint(m,t):\n",
    "            return m.c[t] <= m.y[t]*m.cmax\n",
    "        @m.Constraint(m.Tprime)\n",
    "        def dischargerate_constraint(m,t):\n",
    "            return m.d[t] <= (1-m.y[t])*m.dmax\n",
    "    \n",
    "    \n",
    "    # End Solution\n",
    "    \n",
    "    return m\n"
   ]
  },
  {
   "cell_type": "code",
   "execution_count": 7,
   "metadata": {
    "nbpages": {
     "level": 3,
     "link": "[1.2.2.3 Python Code](https://ndcbe.github.io/CBE60499/01.02-Pyomo-Mini-Project.html#1.2.2.3-Python-Code)",
     "section": "1.2.2.3 Python Code"
    }
   },
   "outputs": [],
   "source": [
    "def extract_solution(m):\n",
    "    '''\n",
    "    Function to extract the solution from the solved pyomo model\n",
    "    \n",
    "    Inputs:\n",
    "        m: Solved pyomo model\n",
    "    \n",
    "    Outputs:\n",
    "        c_control: numpy array of charging power values, MW\n",
    "        d_control: numpy array of discharging power values, MW\n",
    "        E_control: numpy array of energy stored values, MWh\n",
    "        t: numpy array of time indices from the Pyomo model, hr\n",
    "    '''\n",
    "    \n",
    "    c_control = np.empty(pyo.value(m.N))\n",
    "    d_control = np.empty(pyo.value(m.N))\n",
    "    E_control = np.empty(pyo.value(m.N))\n",
    "    t = np.empty(pyo.value(m.N))\n",
    "\n",
    "    # Tip: We added a negative sign to d to help with plotting in the code discussed during class.\n",
    "    # Begin Solution\n",
    "    for i in range(t.size):\n",
    "        c_control[i] = pyo.value(m.c[i+1])\n",
    "        d_control[i] = pyo.value(m.d[i+1])\n",
    "        E_control[i] = pyo.value(m.E[i+1])\n",
    "        t[i] = i+1\n",
    "    \n",
    "    # End Solution\n",
    "    \n",
    "    return c_control, d_control, E_control, t"
   ]
  },
  {
   "cell_type": "code",
   "execution_count": 8,
   "metadata": {
    "nbpages": {
     "level": 3,
     "link": "[1.2.2.3 Python Code](https://ndcbe.github.io/CBE60499/01.02-Pyomo-Mini-Project.html#1.2.2.3-Python-Code)",
     "section": "1.2.2.3 Python Code"
    }
   },
   "outputs": [],
   "source": [
    "def plot_solution(c, d, E, t=None):\n",
    "    '''\n",
    "    Function to plot the solution of the HORIZON problem\n",
    "    \n",
    "    Inputs:\n",
    "        c_control: numpy array of charging power values, MW\n",
    "        d_control: numpy array of discharging power values, MW\n",
    "        E_control: numpy array of energy stored values, MWh\n",
    "        t: numpy array of time indices from the Pyomo model, hr. (default=None)\n",
    "    \n",
    "    Actions. Creates the following plots: \n",
    "        State of charge (energy) verus time\n",
    "        Power to the grid verus time\n",
    "    '''\n",
    "    \n",
    "    # Plot the state of charge (E)\n",
    "    plt.figure()\n",
    "\n",
    "    N = len(c)\n",
    "    assert N > 0, \"Input t must have length greate than 0\"\n",
    "    assert len(d) == N, \"All inputs should be the same length\"\n",
    "    assert len(E) == N, \"All inputs should be the same length\"\n",
    "    \n",
    "    if t is None:\n",
    "        # add E0\n",
    "        t = np.array(range(1,N+1))\n",
    "        t_ = np.array(range(0,N+1))\n",
    "    else:\n",
    "        t_ = np.concatenate(([0],  t))\n",
    "\n",
    "    # Begin Solution\n",
    "    plt.plot(t,E,'b.-')\n",
    "    plt.xlabel('Time (hr)')\n",
    "    plt.ylabel('Energy in Storage (MWh)')\n",
    "    plt.grid(True)\n",
    "    plt.show()\n",
    "    \n",
    "    # End Solution\n",
    "    \n",
    "    # Plot charging/discharging plot\n",
    "    plt.figure()\n",
    "\n",
    "    # double up first data point to make the step plot\n",
    "    c_control_ = np.concatenate(([c[0]],  c))\n",
    "    d_control_ = np.concatenate(([d[0]],  d))\n",
    "\n",
    "    plt.step(t_,c_control_,'r.-',where='pre')\n",
    "    plt.step(t_,-d_control_,'g.-',where='pre')\n",
    "    plt.xlabel('Time (hr)')\n",
    "    plt.ylabel('Power from Grid (MW)')\n",
    "    plt.grid(True)\n",
    "    plt.show()\n",
    "    \n",
    "    return"
   ]
  },
  {
   "cell_type": "markdown",
   "metadata": {
    "nbpages": {
     "level": 3,
     "link": "[1.2.2.4 Optimal Control Over 3 Day Horizon](https://ndcbe.github.io/CBE60499/01.02-Pyomo-Mini-Project.html#1.2.2.4-Optimal-Control-Over-3-Day-Horizon)",
     "section": "1.2.2.4 Optimal Control Over 3 Day Horizon"
    }
   },
   "source": [
    "### 1.2.2.4 Optimal Control Over 3 Day Horizon\n",
    "\n",
    "Now let's use our functions for some analysis. Calculate the optimal battery operation strategy over 3 days starting on January 4, 2015."
   ]
  },
  {
   "cell_type": "code",
   "execution_count": 9,
   "metadata": {
    "nbpages": {
     "level": 3,
     "link": "[1.2.2.4 Optimal Control Over 3 Day Horizon](https://ndcbe.github.io/CBE60499/01.02-Pyomo-Mini-Project.html#1.2.2.4-Optimal-Control-Over-3-Day-Horizon)",
     "section": "1.2.2.4 Optimal Control Over 3 Day Horizon"
    }
   },
   "outputs": [],
   "source": [
    "three_days = prepare_data_array(4,3)"
   ]
  },
  {
   "cell_type": "markdown",
   "metadata": {
    "nbpages": {
     "level": 4,
     "link": "[1.2.2.4.1 Original Model](https://ndcbe.github.io/CBE60499/01.02-Pyomo-Mini-Project.html#1.2.2.4.1-Original-Model)",
     "section": "1.2.2.4.1 Original Model"
    }
   },
   "source": [
    "#### 1.2.2.4.1 Original Model"
   ]
  },
  {
   "cell_type": "code",
   "execution_count": 10,
   "metadata": {
    "nbpages": {
     "level": 4,
     "link": "[1.2.2.4.1 Original Model](https://ndcbe.github.io/CBE60499/01.02-Pyomo-Mini-Project.html#1.2.2.4.1-Original-Model)",
     "section": "1.2.2.4.1 Original Model"
    }
   },
   "outputs": [
    {
     "name": "stdout",
     "output_type": "stream",
     "text": [
      "Ipopt 3.13.3: \n",
      "\n",
      "******************************************************************************\n",
      "This program contains Ipopt, a library for large-scale nonlinear optimization.\n",
      " Ipopt is released as open source code under the Eclipse Public License (EPL).\n",
      "         For more information visit https://github.com/coin-or/Ipopt\n",
      "******************************************************************************\n",
      "\n",
      "This is Ipopt version 3.13.3, running with linear solver mumps.\n",
      "NOTE: Other linear solvers might be more efficient (see Ipopt documentation).\n",
      "\n",
      "Number of nonzeros in equality constraint Jacobian...:      290\n",
      "Number of nonzeros in inequality constraint Jacobian.:        0\n",
      "Number of nonzeros in Lagrangian Hessian.............:        0\n",
      "\n",
      "Total number of variables............................:      217\n",
      "                     variables with only lower bounds:        0\n",
      "                variables with lower and upper bounds:      217\n",
      "                     variables with only upper bounds:        0\n",
      "Total number of equality constraints.................:       74\n",
      "Total number of inequality constraints...............:        0\n",
      "        inequality constraints with only lower bounds:        0\n",
      "   inequality constraints with lower and upper bounds:        0\n",
      "        inequality constraints with only upper bounds:        0\n",
      "\n",
      "iter    objective    inf_pr   inf_du lg(mu)  ||d||  lg(rg) alpha_du alpha_pr  ls\n",
      "   0  1.3100632e-14 1.00e-02 1.07e+01  -1.0 0.00e+00    -  0.00e+00 0.00e+00   0\n",
      "   1  1.1399641e+01 1.00e-04 9.93e+00  -1.0 2.06e-01    -  8.53e-02 9.90e-01f  1\n",
      "   2 -1.9017744e+01 8.88e-05 3.81e+01  -1.0 2.89e+00    -  8.24e-02 1.12e-01f  1\n",
      "   3 -8.6728528e+01 7.76e-05 1.14e+02  -1.0 6.73e+00    -  5.41e-02 1.26e-01f  1\n",
      "   4 -1.3638128e+02 7.00e-05 1.08e+02  -1.0 7.18e+00    -  9.47e-02 9.88e-02f  1\n",
      "   5 -1.8097779e+02 6.27e-05 1.59e+02  -1.0 5.67e+00    -  6.10e-02 1.04e-01f  1\n",
      "   6 -2.1345193e+02 5.53e-05 1.41e+02  -1.0 3.81e+00    -  1.17e-01 1.18e-01f  1\n",
      "   7 -2.6429336e+02 4.27e-05 3.21e+02  -1.0 3.36e+00    -  1.10e-01 2.28e-01f  1\n",
      "   8 -2.8766288e+02 3.56e-05 2.42e+02  -1.0 2.59e+00    -  1.78e-01 1.66e-01f  1\n",
      "   9 -3.0510563e+02 2.67e-05 2.25e+02  -1.0 1.64e+00    -  2.34e-01 2.50e-01f  1\n",
      "iter    objective    inf_pr   inf_du lg(mu)  ||d||  lg(rg) alpha_du alpha_pr  ls\n",
      "  10 -3.1647894e+02 1.55e-05 3.15e+02  -1.0 1.57e+00    -  3.72e-01 4.21e-01f  1\n",
      "  11 -3.2317945e+02 8.44e-06 1.25e+03  -1.0 1.11e+00    -  2.88e-01 4.54e-01f  1\n",
      "  12 -3.2628136e+02 4.48e-06 1.65e+03  -1.0 1.03e+00    -  6.64e-01 4.69e-01f  1\n",
      "  13 -3.2807184e+02 2.18e-07 1.16e+03  -1.0 4.04e-01    -  1.00e+00 9.51e-01f  1\n",
      "  14 -3.2796552e+02 1.09e-07 2.19e+05  -1.0 2.30e-01    -  1.00e+00 5.00e-01f  2\n",
      "  15 -3.2783814e+02 3.82e-16 1.57e-10  -1.0 8.82e-02    -  1.00e+00 1.00e+00h  1\n",
      "  16 -3.3894100e+02 4.59e-16 9.39e+04  -3.8 3.51e-01    -  6.86e-01 7.61e-01f  1\n",
      "  17 -3.4240279e+02 4.23e-16 9.42e+04  -3.8 2.02e-01    -  6.28e-01 8.25e-01f  1\n",
      "  18 -3.4304759e+02 3.26e-16 2.64e+04  -3.8 1.99e-01    -  7.54e-01 8.16e-01f  1\n",
      "  19 -3.4314975e+02 4.66e-16 2.29e+03  -3.8 6.34e-02    -  9.83e-01 7.01e-01f  1\n",
      "iter    objective    inf_pr   inf_du lg(mu)  ||d||  lg(rg) alpha_du alpha_pr  ls\n",
      "  20 -3.4319168e+02 4.44e-16 1.94e-12  -3.8 6.07e-03    -  1.00e+00 1.00e+00f  1\n",
      "  21 -3.4321561e+02 3.86e-16 7.69e-13  -5.7 1.81e-03    -  1.00e+00 1.00e+00f  1\n",
      "  22 -3.4321590e+02 6.38e-16 6.43e-01  -8.6 1.37e-05    -  1.00e+00 9.97e-01f  1\n",
      "  23 -3.4321590e+02 5.91e-16 4.44e-01  -8.6 4.78e-08    -  8.62e-01 1.00e+00f  1\n",
      "  24 -3.4321590e+02 5.35e-16 1.07e-14  -8.6 1.03e-09    -  1.00e+00 1.00e+00h  1\n",
      "\n",
      "Number of Iterations....: 24\n",
      "\n",
      "                                   (scaled)                 (unscaled)\n",
      "Objective...............:  -3.4321590144491068e+02   -3.4321590144491068e+02\n",
      "Dual infeasibility......:   1.0658141036401503e-14    1.0658141036401503e-14\n",
      "Constraint violation....:   5.3460995994445969e-16    5.3460995994445969e-16\n",
      "Complementarity.........:   2.7929780590520941e-09    2.7929780590520941e-09\n",
      "Overall NLP error.......:   2.7929780590520941e-09    2.7929780590520941e-09\n",
      "\n",
      "\n",
      "Number of objective function evaluations             = 26\n",
      "Number of objective gradient evaluations             = 25\n",
      "Number of equality constraint evaluations            = 26\n",
      "Number of inequality constraint evaluations          = 0\n",
      "Number of equality constraint Jacobian evaluations   = 25\n",
      "Number of inequality constraint Jacobian evaluations = 0\n",
      "Number of Lagrangian Hessian evaluations             = 24\n",
      "Total CPU secs in IPOPT (w/o function evaluations)   =      0.250\n",
      "Total CPU secs in NLP function evaluations           =      0.000\n",
      "\n",
      "EXIT: Optimal Solution Found.\n"
     ]
    },
    {
     "data": {
      "image/png": "[encoded data removed]",
      "text/plain": [
       "<Figure size 432x288 with 1 Axes>"
      ]
     },
     "metadata": {
      "needs_background": "light"
     },
     "output_type": "display_data"
    },
    {
     "data": {
      "image/png": "[encoded data removed]",
      "text/plain": [
       "<Figure size 432x288 with 1 Axes>"
      ]
     },
     "metadata": {
      "needs_background": "light"
     },
     "output_type": "display_data"
    }
   ],
   "source": [
    "# Start solution\n",
    "# Convert three_days to dict\n",
    "price_dict = {(x+1): three_days[x] for x in range(three_days.size)}\n",
    "solver_ipopt = pyo.SolverFactory('ipopt')\n",
    "model_original = build_model(price_data=price_dict, horizon_length=three_days.size,include_disjunction=False)\n",
    "results_original_ipopt = solver_ipopt.solve(model_original, tee=True)\n",
    "c_control_og, d_control_og, E_control_og, t = extract_solution(model_original)\n",
    "plot_solution(c_control_og, d_control_og, E_control_og)\n",
    "\n"
   ]
  },
  {
   "cell_type": "markdown",
   "metadata": {
    "nbpages": {
     "level": 4,
     "link": "[1.2.2.4.2 With Constraint Enforcing No Simultaneous Charging or Discharging](https://ndcbe.github.io/CBE60499/01.02-Pyomo-Mini-Project.html#1.2.2.4.2-With-Constraint-Enforcing-No-Simultaneous-Charging-or-Discharging)",
     "section": "1.2.2.4.2 With Constraint Enforcing No Simultaneous Charging or Discharging"
    }
   },
   "source": [
    "#### 1.2.2.4.2 With Constraint Enforcing No Simultaneous Charging or Discharging"
   ]
  },
  {
   "cell_type": "code",
   "execution_count": 11,
   "metadata": {
    "nbpages": {
     "level": 4,
     "link": "[1.2.2.4.2 With Constraint Enforcing No Simultaneous Charging or Discharging](https://ndcbe.github.io/CBE60499/01.02-Pyomo-Mini-Project.html#1.2.2.4.2-With-Constraint-Enforcing-No-Simultaneous-Charging-or-Discharging)",
     "section": "1.2.2.4.2 With Constraint Enforcing No Simultaneous Charging or Discharging"
    }
   },
   "outputs": [
    {
     "name": "stdout",
     "output_type": "stream",
     "text": [
      "Ipopt 3.13.3: \n",
      "==> Warning: Treating 72 binary and 0 integer variables as continous.\n",
      "\n",
      "\n",
      "******************************************************************************\n",
      "This program contains Ipopt, a library for large-scale nonlinear optimization.\n",
      " Ipopt is released as open source code under the Eclipse Public License (EPL).\n",
      "         For more information visit https://github.com/coin-or/Ipopt\n",
      "******************************************************************************\n",
      "\n",
      "This is Ipopt version 3.13.3, running with linear solver mumps.\n",
      "NOTE: Other linear solvers might be more efficient (see Ipopt documentation).\n",
      "\n",
      "Number of nonzeros in equality constraint Jacobian...:      290\n",
      "Number of nonzeros in inequality constraint Jacobian.:      288\n",
      "Number of nonzeros in Lagrangian Hessian.............:        0\n",
      "\n",
      "Total number of variables............................:      289\n",
      "                     variables with only lower bounds:        0\n",
      "                variables with lower and upper bounds:      289\n",
      "                     variables with only upper bounds:        0\n",
      "Total number of equality constraints.................:       74\n",
      "Total number of inequality constraints...............:      144\n",
      "        inequality constraints with only lower bounds:        0\n",
      "   inequality constraints with lower and upper bounds:        0\n",
      "        inequality constraints with only upper bounds:      144\n",
      "\n",
      "iter    objective    inf_pr   inf_du lg(mu)  ||d||  lg(rg) alpha_du alpha_pr  ls\n",
      "   0  1.3100632e-14 1.00e-02 9.96e+00  -1.0 0.00e+00    -  0.00e+00 0.00e+00   0\n",
      "   1  5.5536629e+00 1.00e-04 9.89e+00  -1.0 2.10e-01    -  8.94e-02 9.90e-01f  1\n",
      "   2 -2.2244060e+01 8.66e-05 4.61e+01  -1.0 2.06e+00    -  9.65e-02 1.34e-01f  1\n",
      "   3 -8.2325157e+01 7.19e-05 1.36e+02  -1.0 4.07e+00    -  8.53e-02 1.70e-01f  1\n",
      "   4 -1.3638503e+02 6.15e-05 1.64e+02  -1.0 5.12e+00    -  1.10e-01 1.45e-01f  1\n",
      "   5 -1.8668287e+02 5.09e-05 1.89e+02  -1.0 3.74e+00    -  1.39e-01 1.72e-01f  1\n",
      "   6 -2.2874698e+02 3.99e-05 3.18e+02  -1.0 2.65e+00    -  1.29e-01 2.15e-01f  1\n",
      "   7 -2.7423330e+02 2.87e-05 5.04e+02  -1.0 2.52e+00    -  1.71e-01 2.81e-01f  1\n",
      "   8 -2.9796936e+02 2.02e-05 5.00e+01  -1.0 1.78e+00    -  3.84e-01 2.97e-01f  1\n",
      "   9 -3.0712435e+02 1.25e-05 2.44e+02  -1.0 1.47e+00    -  4.37e-01 3.81e-01f  1\n",
      "iter    objective    inf_pr   inf_du lg(mu)  ||d||  lg(rg) alpha_du alpha_pr  ls\n",
      "  10 -3.1529083e+02 4.65e-06 1.59e+03  -1.0 9.29e-01    -  4.18e-01 6.28e-01f  1\n",
      "  11 -3.1875182e+02 9.66e-07 2.19e+03  -1.0 5.33e-01    -  9.10e-01 7.92e-01f  1\n",
      "  12 -3.1905557e+02 4.83e-07 5.22e+04  -1.0 2.21e-01    -  1.00e+00 5.00e-01f  2\n",
      "  13 -3.1929594e+02 4.44e-16 1.00e-06  -1.0 7.41e-02    -  1.00e+00 1.00e+00h  1\n",
      "  14 -3.3094825e+02 5.55e-16 3.69e+04  -3.8 4.93e-01    -  6.33e-01 5.16e-01f  1\n",
      "  15 -3.3726500e+02 4.44e-16 3.46e+03  -3.8 5.27e-01    -  4.68e-01 5.74e-01f  1\n",
      "  16 -3.4056220e+02 4.86e-16 1.30e+04  -3.8 3.90e-01    -  3.76e-01 6.09e-01f  1\n",
      "  17 -3.4274939e+02 4.35e-16 1.01e+04  -3.8 1.83e-01    -  6.62e-01 8.89e-01f  1\n",
      "  18 -3.4314838e+02 4.51e-16 3.60e+03  -3.8 1.71e-01    -  7.15e-01 9.66e-01f  1\n",
      "  19 -3.4317290e+02 4.35e-16 1.50e-09  -3.8 3.60e-02    -  1.00e+00 1.00e+00f  1\n",
      "iter    objective    inf_pr   inf_du lg(mu)  ||d||  lg(rg) alpha_du alpha_pr  ls\n",
      "  20 -3.4321537e+02 4.34e-16 1.84e-11  -5.7 4.67e-03    -  1.00e+00 1.00e+00f  1\n",
      "  21 -3.4321589e+02 8.62e-16 5.17e+00  -8.6 1.00e-04    -  1.00e+00 9.72e-01f  1\n",
      "In iteration 21, 1 Slack too small, adjusting variable bound\n",
      "  22 -3.4321590e+02 7.53e-16 5.74e+00  -8.6 4.21e-02    -  9.07e-01 5.23e-01f  1\n",
      "In iteration 22, 1 Slack too small, adjusting variable bound\n",
      "  23 -3.4321590e+02 8.79e-16 2.88e+00  -8.6 1.89e-02    -  9.68e-01 5.78e-01f  1\n",
      "In iteration 23, 1 Slack too small, adjusting variable bound\n",
      "  24 -3.4321590e+02 6.40e-16 7.55e-01  -8.6 7.87e-03    -  1.00e+00 7.68e-01f  1\n",
      "  25 -3.4321590e+02 6.32e-16 2.51e-14  -8.6 1.82e-03    -  1.00e+00 1.00e+00f  1\n",
      "\n",
      "Number of Iterations....: 25\n",
      "\n",
      "                                   (scaled)                 (unscaled)\n",
      "Objective...............:  -3.4321590140207371e+02   -3.4321590140207371e+02\n",
      "Dual infeasibility......:   2.5091040356528538e-14    2.5091040356528538e-14\n",
      "Constraint violation....:   6.3206141816342216e-16    6.3206141816342216e-16\n",
      "Complementarity.........:   3.4430227306828797e-09    3.4430227306828797e-09\n",
      "Overall NLP error.......:   3.4430227306828797e-09    3.4430227306828797e-09\n",
      "\n",
      "\n",
      "Number of objective function evaluations             = 27\n",
      "Number of objective gradient evaluations             = 26\n",
      "Number of equality constraint evaluations            = 27\n",
      "Number of inequality constraint evaluations          = 27\n",
      "Number of equality constraint Jacobian evaluations   = 26\n",
      "Number of inequality constraint Jacobian evaluations = 26\n",
      "Number of Lagrangian Hessian evaluations             = 25\n",
      "Total CPU secs in IPOPT (w/o function evaluations)   =      0.469\n",
      "Total CPU secs in NLP function evaluations           =      0.000\n",
      "\n",
      "EXIT: Optimal Solution Found.\n"
     ]
    },
    {
     "data": {
      "image/png": "[encoded data removed]",
      "text/plain": [
       "<Figure size 432x288 with 1 Axes>"
      ]
     },
     "metadata": {
      "needs_background": "light"
     },
     "output_type": "display_data"
    },
    {
     "data": {
      "image/png": "[encoded data removed]",
      "text/plain": [
       "<Figure size 432x288 with 1 Axes>"
      ]
     },
     "metadata": {
      "needs_background": "light"
     },
     "output_type": "display_data"
    }
   ],
   "source": [
    "# Start solution\n",
    "# Convert three_days to dict\n",
    "price_dict = {(x+1): three_days[x] for x in range(three_days.size)}\n",
    "solver_ipopt = pyo.SolverFactory('ipopt')\n",
    "model_disj = build_model(price_data=price_dict, horizon_length=three_days.size)\n",
    "results_disj_ipopt = solver_ipopt.solve(model_disj, tee=True)\n",
    "c_control_disj, d_control_disj, E_control_disj, t = extract_solution(model_disj)\n",
    "plot_solution(c_control_disj, d_control_disj, E_control_disj)"
   ]
  },
  {
   "cell_type": "markdown",
   "metadata": {
    "nbpages": {
     "level": 4,
     "link": "[1.2.2.4.3 Comparison](https://ndcbe.github.io/CBE60499/01.02-Pyomo-Mini-Project.html#1.2.2.4.3-Comparison)",
     "section": "1.2.2.4.3 Comparison"
    }
   },
   "source": [
    "#### 1.2.2.4.3 Comparison\n",
    "\n",
    "Write Python code below to compare the solutions. Print out any timesteps where the charge, discharge, and energy profiles are different by more than 10$^{-4}$ MW (or MWh)."
   ]
  },
  {
   "cell_type": "code",
   "execution_count": 12,
   "metadata": {
    "nbpages": {
     "level": 4,
     "link": "[1.2.2.4.3 Comparison](https://ndcbe.github.io/CBE60499/01.02-Pyomo-Mini-Project.html#1.2.2.4.3-Comparison)",
     "section": "1.2.2.4.3 Comparison"
    }
   },
   "outputs": [],
   "source": [
    "def compare_solutions(solution1,solution2):\n",
    "    '''\n",
    "    Function to compare outputs between the original model and model with disjuncutions\n",
    "    \n",
    "    Inputs:\n",
    "    original: list of original charging/discharging data\n",
    "    disjunction: list of disjunction model results charging/discharging data\n",
    "    t: list of timesteps\n",
    "    \n",
    "    Action:\n",
    "    prints same/different + timestep\n",
    "    '''\n",
    "    \n",
    "    assert len(solution1) == len(solution2), \"solution 1 and solution2 must be the same length\"\n",
    "    \n",
    "    n = len(solution1)\n",
    "    \n",
    "    # Begin Solution\n",
    "    \n",
    "    for i in range(n):\n",
    "        if abs(solution1[i] - solution2[i]) > 1e-4:\n",
    "            print(i+1, solution1[i], solution2[i], solution2[i] - solution1[i])\n",
    "    print('')\n",
    "    print('Total', sum(solution1), sum(solution2), sum(solution2) - sum(solution1))\n",
    "    # End Solution\n",
    "      \n",
    "    \n",
    "    print(\"Done.\")"
   ]
  },
  {
   "cell_type": "code",
   "execution_count": 13,
   "metadata": {
    "nbpages": {
     "level": 4,
     "link": "[1.2.2.4.3 Comparison](https://ndcbe.github.io/CBE60499/01.02-Pyomo-Mini-Project.html#1.2.2.4.3-Comparison)",
     "section": "1.2.2.4.3 Comparison"
    }
   },
   "outputs": [
    {
     "name": "stdout",
     "output_type": "stream",
     "text": [
      "\n",
      "Total 25.05605716166524 25.05605717395981 1.2294570694848517e-08\n",
      "Done.\n"
     ]
    }
   ],
   "source": [
    "# Charge\n",
    "compare_solutions(c_control_og, c_control_disj)"
   ]
  },
  {
   "cell_type": "code",
   "execution_count": 14,
   "metadata": {
    "nbpages": {
     "level": 4,
     "link": "[1.2.2.4.3 Comparison](https://ndcbe.github.io/CBE60499/01.02-Pyomo-Mini-Project.html#1.2.2.4.3-Comparison)",
     "section": "1.2.2.4.3 Comparison"
    }
   },
   "outputs": [
    {
     "name": "stdout",
     "output_type": "stream",
     "text": [
      "\n",
      "Total 22.04933039078816 22.049330393070154 2.281993261021853e-09\n",
      "Done.\n"
     ]
    }
   ],
   "source": [
    "# Discharge\n",
    "compare_solutions(d_control_og, d_control_disj)"
   ]
  },
  {
   "cell_type": "code",
   "execution_count": 15,
   "metadata": {
    "nbpages": {
     "level": 4,
     "link": "[1.2.2.4.3 Comparison](https://ndcbe.github.io/CBE60499/01.02-Pyomo-Mini-Project.html#1.2.2.4.3-Comparison)",
     "section": "1.2.2.4.3 Comparison"
    }
   },
   "outputs": [
    {
     "name": "stdout",
     "output_type": "stream",
     "text": [
      "\n",
      "Total 135.2079575628461 135.20795769161919 1.2877308108727448e-07\n",
      "Done.\n"
     ]
    }
   ],
   "source": [
    "# Energy\n",
    "compare_solutions(E_control_og, E_control_disj)"
   ]
  },
  {
   "cell_type": "markdown",
   "metadata": {
    "nbpages": {
     "level": 2,
     "link": "[1.2.3 Receding Horizon Control](https://ndcbe.github.io/CBE60499/01.02-Pyomo-Mini-Project.html#1.2.3-Receding-Horizon-Control)",
     "section": "1.2.3 Receding Horizon Control"
    }
   },
   "source": [
    "## 1.2.3 Receding Horizon Control\n",
    "\n",
    "We now have functions to build, solve, and analyze the battery problem for a single problem. Now we can consider receeding horizon control.\n",
    "\n",
    "*Please ask questions during class. You do not need to turn anything in for this section.*\n",
    "\n",
    "Nomenclature: Let $u^*_{i}$ represent the optimal control action from time $t=i$ to $t=i+1$. For the battery system, $u_{i} = [c_i, d_i]^{T}$ (charging and discharging).\n",
    "\n",
    "Algorithm:\n",
    "1. Consider time $t=m$. \n",
    "2. Compute the optimal control actions $u^*=[u^*_m, u^*_{m+1}, ..., u^*_{m+N-1}]^T$ from time $t=m$ until $t=N+m$ where $N$ is the length of the planning horizon. In our battery example, we considered $N = 24$.\n",
    "3. Simulate the system for one timestep using control action $u^*_{m}$.\n",
    "4. (Optional). Update the system model or forecasts using new observations.\n",
    "5. Step $t=m+1$ and goto Step 2."
   ]
  },
  {
   "cell_type": "markdown",
   "metadata": {
    "nbpages": {
     "level": 3,
     "link": "[1.2.3.1 Write Pseudocode](https://ndcbe.github.io/CBE60499/01.02-Pyomo-Mini-Project.html#1.2.3.1-Write-Pseudocode)",
     "section": "1.2.3.1 Write Pseudocode"
    }
   },
   "source": [
    "### 1.2.3.1 Write Pseudocode\n",
    "\n",
    "Pseudocode is an important planning tool for complex computer programs. The idea is to write out the code on paper or a whiteboard using generic programming syntax. As an example, consider calculating the 3rd through 10th elements of the Fibonacci sequence:\n",
    "\n",
    "```\n",
    "# Governing equation where f[i] is the ith element of the sequence\n",
    "# f[i] = f[i-1] + f[i-2]\n",
    "\n",
    "# Algorithm:\n",
    "\n",
    "# Previous previous number in the sequence, f[i-2]\n",
    "n_2prev = 1\n",
    "\n",
    "# Previous number in the sequence, f[i-1]\n",
    "n_1prev = 1\n",
    "\n",
    "# Set counter\n",
    "j = 3\n",
    "\n",
    "while j <= 10 do:\n",
    "    # Apply Fib. formula\n",
    "    n = n1_prev + n2_prev\n",
    "    \n",
    "    # Print to screen\n",
    "    print(n)\n",
    "    \n",
    "    # Shift history.\n",
    "    # Previous number becomes previous previous number\n",
    "    n2prev = n1prev\n",
    "    \n",
    "    # Current number becomes previous number\n",
    "    n1prev = n\n",
    "    \n",
    "    # Increment counter\n",
    "    j = j + 1\n",
    "```\n",
    "\n",
    "Here we sketched out the main algorithm (with comments!) in generic syntax. We did not worry about the correct way to write a while loop in Python. Once we figure out the algorithm we can worry about those details.\n",
    "\n",
    "Write pseudocode for the receding horizon control example on paper or a whiteboard. Your algorithm should include the following main steps:\n",
    "1. Load price data from a text file\n",
    "2. Loop over timesteps. Keep track of implemented control actions (charge and discharge), battery SOC, and net revenue.\n",
    "3. Make a plot of battery SOC and control actions that were actually implemented.\n",
    "\n",
    "Scan your pseudocode as a PDF and turn in via Gradescope."
   ]
  },
  {
   "cell_type": "markdown",
   "metadata": {
    "nbpages": {
     "level": 3,
     "link": "[1.2.3.2 Python Code](https://ndcbe.github.io/CBE60499/01.02-Pyomo-Mini-Project.html#1.2.3.2-Python-Code)",
     "section": "1.2.3.2 Python Code"
    }
   },
   "source": [
    "### 1.2.3.2 Python Code"
   ]
  },
  {
   "cell_type": "markdown",
   "metadata": {
    "nbpages": {
     "level": 3,
     "link": "[1.2.3.2 Python Code](https://ndcbe.github.io/CBE60499/01.02-Pyomo-Mini-Project.html#1.2.3.2-Python-Code)",
     "section": "1.2.3.2 Python Code"
    }
   },
   "source": [
    "Tip: You should use the same `create_model` function throughout the assignment. In your model, define `price` to be a mutable parameter. This means we can just update the Pyomo model in the function below. We do not need to recreate it."
   ]
  },
  {
   "cell_type": "code",
   "execution_count": 16,
   "metadata": {
    "nbpages": {
     "level": 3,
     "link": "[1.2.3.2 Python Code](https://ndcbe.github.io/CBE60499/01.02-Pyomo-Mini-Project.html#1.2.3.2-Python-Code)",
     "section": "1.2.3.2 Python Code"
    }
   },
   "outputs": [],
   "source": [
    "def update_model(model, new_price_data, new_E0):\n",
    "    \"\"\" Update the Pyomo model with new price data\n",
    "    \n",
    "    Arguments:\n",
    "        model: pyomo model\n",
    "        new_price_data: numpy array or list containing price data\n",
    "        new_E0: (float) value for initial battery charge\n",
    "    \"\"\"\n",
    "    \n",
    "    # Start Solution\n",
    "    for x in range(len(new_price_data)):\n",
    "        model.pi[x+1] = new_price_data[x]\n",
    "    model.E0 = new_E0"
   ]
  },
  {
   "cell_type": "code",
   "execution_count": 17,
   "metadata": {
    "nbpages": {
     "level": 3,
     "link": "[1.2.3.2 Python Code](https://ndcbe.github.io/CBE60499/01.02-Pyomo-Mini-Project.html#1.2.3.2-Python-Code)",
     "section": "1.2.3.2 Python Code"
    }
   },
   "outputs": [],
   "source": [
    "def receding_horizon_simulation(price_data, simulation_length, num_hours, include_pbc=True,verbose=True):  \n",
    "    '''\n",
    "    Perform receding horizon simulation\n",
    "    \n",
    "    Inputs:\n",
    "        price_data: numpy array price data for entire time period of interest\n",
    "        simulation_length: number of total hours to evaluate\n",
    "        num_hours: horizon length for each optimization problem\n",
    "        include_pbc: boolean, include periodic boundary condition\n",
    "        verbose: boolean, if true, print out message each hour\n",
    "    \n",
    "    Returns:\n",
    "        c_control: charging decision implemented\n",
    "        d_control: discharging decision implemented\n",
    "        E_control: state-of-charge profile\n",
    "        revenue_control: total revenue over simulation horizon\n",
    "    \n",
    "    '''\n",
    "    \n",
    "    # Check input data length\n",
    "    assert len(price_data) >= simulation_length + num_hours, \"Input price data is too short\"\n",
    "    \n",
    "    assert simulation_length > 0, \"Must evaluate more than 0 days\"\n",
    "    \n",
    "    assert num_hours > 0, \"Must consider planning horizon longer than 0 days\"\n",
    "\n",
    "    nS = simulation_length\n",
    "        \n",
    "    ## Preallocate vectors to store results\n",
    "    c_control = np.empty(nS)\n",
    "    d_control = np.empty(nS)\n",
    "    E_control = np.empty(nS)\n",
    "    revenue_control = np.empty(nS)\n",
    "\n",
    "    # Begin Solution\n",
    "    t0 = 0\n",
    "    solver = pyo.SolverFactory('ipopt')\n",
    "    # set horizon price array\n",
    "    horizon_prices = price_data[t0:t0+num_hours]\n",
    "    # convert to dict\n",
    "    horizon_dict = {(x+1):horizon_prices[x] for x in range(len(horizon_prices))}\n",
    "    # create model\n",
    "    m = build_model(horizon_dict, num_hours, include_pbc)\n",
    "    # loop of simulation_length solutions\n",
    "    for i in range(simulation_length):\n",
    "        # solve model for current horizon\n",
    "        solver.solve(m)\n",
    "        # record variable and objective values for first step of horizon\n",
    "        c_control[i] = pyo.value(m.c[1])\n",
    "        d_control[i] = pyo.value(m.d[1])\n",
    "        E_control[i] = pyo.value(m.E[1])\n",
    "        # The docstring gave the wrong definition of revenue_control, and would have it defined as in the comment line below\n",
    "        # revenue_control[i] = pyo.value(m.profitobj)\n",
    "        # I know that because it's inconsistent with the definition implied by the code given in the uncertainty section\n",
    "        # It should actually be assigned as follows\n",
    "        revenue_control[i] = horizon_prices[0]*(d_control[i]-c_control[i])\n",
    "        if verbose:\n",
    "            print(\"Hour {}: {} MW from grid; battery holding {} MWh\".format(i+1,c_control[i]-d_control[i], E_control[i]))\n",
    "        # increment horizon start\n",
    "        t0 = t0 + 1\n",
    "        # update horizon price array\n",
    "        horizon_prices = price_data[t0:t0+num_hours]\n",
    "        # update model\n",
    "        update_model(m, horizon_prices, E_control[i])\n",
    "        \n",
    "    \n",
    "    \n",
    "    # End Solution\n",
    "\n",
    "    return c_control, d_control, E_control, revenue_control"
   ]
  },
  {
   "cell_type": "markdown",
   "metadata": {
    "nbpages": {
     "level": 3,
     "link": "[1.2.3.3 Simulate Performance Over 3 Days](https://ndcbe.github.io/CBE60499/01.02-Pyomo-Mini-Project.html#1.2.3.3-Simulate-Performance-Over-3-Days)",
     "section": "1.2.3.3 Simulate Performance Over 3 Days"
    }
   },
   "source": [
    "### 1.2.3.3 Simulate Performance Over 3 Days\n",
    "\n",
    "Perform receding horizon control for the first 3 days in January 2015. Make a plot to show the implemented control action.\n",
    "\n",
    "Tips:\n",
    "* The implemented control action is a concationation of the first timestep for each optimization problem.\n",
    "* How can you resuse the plot function above?"
   ]
  },
  {
   "cell_type": "code",
   "execution_count": 18,
   "metadata": {
    "nbpages": {
     "level": 3,
     "link": "[1.2.3.3 Simulate Performance Over 3 Days](https://ndcbe.github.io/CBE60499/01.02-Pyomo-Mini-Project.html#1.2.3.3-Simulate-Performance-Over-3-Days)",
     "section": "1.2.3.3 Simulate Performance Over 3 Days"
    }
   },
   "outputs": [],
   "source": [
    "three_days = prepare_data_array(0,4)"
   ]
  },
  {
   "cell_type": "code",
   "execution_count": 19,
   "metadata": {
    "nbpages": {
     "level": 3,
     "link": "[1.2.3.3 Simulate Performance Over 3 Days](https://ndcbe.github.io/CBE60499/01.02-Pyomo-Mini-Project.html#1.2.3.3-Simulate-Performance-Over-3-Days)",
     "section": "1.2.3.3 Simulate Performance Over 3 Days"
    }
   },
   "outputs": [
    {
     "name": "stdout",
     "output_type": "stream",
     "text": [
      "Hour 1: 0.0 MW from grid; battery holding 7.257435359162938e-10 MWh\n",
      "Hour 2: 0.0 MW from grid; battery holding 3.50958896632434e-09 MWh\n",
      "Hour 3: 0.9999999866619921 MW from grid; battery holding 0.9380831530856943 MWh\n",
      "Hour 4: 1.0 MW from grid; battery holding 1.8761663221036358 MWh\n",
      "Hour 5: 0.27272724660552505 MW from grid; battery holding 2.132007167304637 MWh\n",
      "Hour 6: 0.0 MW from grid; battery holding 2.1320071669578735 MWh\n",
      "Hour 7: -0.9999999882229036 MW from grid; battery holding 1.0660035887726746 MWh\n",
      "Hour 8: -1.0 MW from grid; battery holding 0.0 MWh\n",
      "Hour 9: -4.694242601861028e-10 MW from grid; battery holding 0.0 MWh\n",
      "Hour 10: 0.0 MW from grid; battery holding 4.283065849314467e-10 MWh\n",
      "Hour 11: 0.2640142790951685 MW from grid; battery holding 0.2476673574744647 MWh\n",
      "Hour 12: 1.0 MW from grid; battery holding 1.1857505259742929 MWh\n",
      "Hour 13: 1.0 MW from grid; battery holding 2.123833696701688 MWh\n",
      "Hour 14: 1.0 MW from grid; battery holding 3.061916867625161 MWh\n",
      "Hour 15: 1.0 MW from grid; battery holding 4.0 MWh\n",
      "Hour 16: 3.1735998485520986e-08 MW from grid; battery holding 4.0 MWh\n",
      "Hour 17: 2.327045592093091e-08 MW from grid; battery holding 4.0 MWh\n",
      "Hour 18: -0.7523325566535054 MW from grid; battery holding 3.198010790922725 MWh\n",
      "Hour 19: -1.0 MW from grid; battery holding 2.1320071896498063 MWh\n",
      "Hour 20: -1.0 MW from grid; battery holding 1.0660035912431634 MWh\n",
      "Hour 21: -1.0 MW from grid; battery holding 0.0 MWh\n",
      "Hour 22: 0.0 MW from grid; battery holding 0.0 MWh\n",
      "Hour 23: -5.232679090452778e-10 MW from grid; battery holding 0.0 MWh\n",
      "Hour 24: 0.0 MW from grid; battery holding 9.857523548047091e-11 MWh\n",
      "Hour 25: 0.0 MW from grid; battery holding 1.3539562018703821e-09 MWh\n",
      "Hour 26: 0.2727273281005987 MW from grid; battery holding 0.2558409230220401 MWh\n",
      "Hour 27: 0.9999999366438314 MW from grid; battery holding 1.1939240256640813 MWh\n",
      "Hour 28: 1.0 MW from grid; battery holding 2.132007194778004 MWh\n",
      "Hour 29: 0.0 MW from grid; battery holding 2.132007198424529 MWh\n",
      "Hour 30: -1.0 MW from grid; battery holding 1.066003597495589 MWh\n",
      "Hour 31: 0.0 MW from grid; battery holding 1.0660035894597157 MWh\n",
      "Hour 32: -1.0 MW from grid; battery holding 0.0 MWh\n",
      "Hour 33: 0.0 MW from grid; battery holding 0.0 MWh\n",
      "Hour 34: 0.0 MW from grid; battery holding 1.0064730481850436e-09 MWh\n",
      "Hour 35: 0.2640142552335865 MW from grid; battery holding 0.24766733571994895 MWh\n",
      "Hour 36: 1.0 MW from grid; battery holding 1.1857505071967807 MWh\n",
      "Hour 37: 1.0 MW from grid; battery holding 2.1238336778953224 MWh\n",
      "Hour 38: 1.0 MW from grid; battery holding 3.0619168490586044 MWh\n",
      "Hour 39: 1.0 MW from grid; battery holding 4.0 MWh\n",
      "Hour 40: 3.172703285429605e-08 MW from grid; battery holding 4.0 MWh\n",
      "Hour 41: 0.0 MW from grid; battery holding 4.0 MWh\n",
      "Hour 42: -1.0 MW from grid; battery holding 2.9339963990197813 MWh\n",
      "Hour 43: -1.0 MW from grid; battery holding 1.8679927980534667 MWh\n",
      "Hour 44: -0.7523326409571095 MW from grid; battery holding 1.0660034991435163 MWh\n",
      "Hour 45: 0.0 MW from grid; battery holding 1.0660034990755913 MWh\n",
      "Hour 46: 0.0 MW from grid; battery holding 1.0660035001248225 MWh\n",
      "Hour 47: -0.9999999240194365 MW from grid; battery holding 0.0 MWh\n",
      "Hour 48: 0.0 MW from grid; battery holding 0.0 MWh\n",
      "Hour 49: 0.0 MW from grid; battery holding 3.070878804532511e-10 MWh\n",
      "Hour 50: 0.0 MW from grid; battery holding 3.2445206901901294e-09 MWh\n",
      "Hour 51: 0.0 MW from grid; battery holding 7.42925676536908e-09 MWh\n",
      "Hour 52: 5.295318869833126e-09 MW from grid; battery holding 2.241372123269654e-08 MWh\n",
      "Hour 53: 0.0 MW from grid; battery holding 2.498553315373901e-08 MWh\n",
      "Hour 54: -2.258960192542938e-08 MW from grid; battery holding 0.0 MWh\n",
      "Hour 55: 0.0 MW from grid; battery holding 0.0 MWh\n",
      "Hour 56: 0.0 MW from grid; battery holding 0.0 MWh\n",
      "Hour 57: 0.0 MW from grid; battery holding 0.0 MWh\n",
      "Hour 58: 0.0 MW from grid; battery holding 2.1509190884198457e-09 MWh\n",
      "Hour 59: 0.26401427626935686 MW from grid; battery holding 0.24766735656282224 MWh\n",
      "Hour 60: 1.0 MW from grid; battery holding 1.1857505243410869 MWh\n",
      "Hour 61: 1.0 MW from grid; battery holding 2.123833693826117 MWh\n",
      "Hour 62: 1.0 MW from grid; battery holding 3.061916864821215 MWh\n",
      "Hour 63: 1.0 MW from grid; battery holding 4.0 MWh\n",
      "Hour 64: 3.174146875276274e-08 MW from grid; battery holding 4.0 MWh\n",
      "Hour 65: 0.0 MW from grid; battery holding 4.0 MWh\n",
      "Hour 66: -1.0 MW from grid; battery holding 2.9339963990194016 MWh\n",
      "Hour 67: -1.0 MW from grid; battery holding 1.8679927978643274 MWh\n",
      "Hour 68: -0.7523325640816183 MW from grid; battery holding 1.0660035808875674 MWh\n",
      "Hour 69: -0.9999999988568556 MW from grid; battery holding 0.0 MWh\n",
      "Hour 70: 0.0 MW from grid; battery holding 0.0 MWh\n",
      "Hour 71: -3.480484402615045e-10 MW from grid; battery holding 0.0 MWh\n",
      "Hour 72: 0.0 MW from grid; battery holding 0.0 MWh\n"
     ]
    }
   ],
   "source": [
    "# Tip: do not overwrite these results. We will use them later.\n",
    "# If you reuse this code, change the variable names used to save the results.\n",
    "c_control_pbc, d_control_pbc, E_control_pbc, revenue_control_pbc = receding_horizon_simulation(three_days, 24*3, \n",
    "                                                                               24, include_pbc=True,\n",
    "                                                                              verbose=True)"
   ]
  },
  {
   "cell_type": "code",
   "execution_count": 20,
   "metadata": {
    "nbpages": {
     "level": 3,
     "link": "[1.2.3.3 Simulate Performance Over 3 Days](https://ndcbe.github.io/CBE60499/01.02-Pyomo-Mini-Project.html#1.2.3.3-Simulate-Performance-Over-3-Days)",
     "section": "1.2.3.3 Simulate Performance Over 3 Days"
    }
   },
   "outputs": [
    {
     "data": {
      "image/png": "[encoded data removed]",
      "text/plain": [
       "<Figure size 432x288 with 1 Axes>"
      ]
     },
     "metadata": {
      "needs_background": "light"
     },
     "output_type": "display_data"
    },
    {
     "data": {
      "image/png": "[encoded data removed]",
      "text/plain": [
       "<Figure size 432x288 with 1 Axes>"
      ]
     },
     "metadata": {
      "needs_background": "light"
     },
     "output_type": "display_data"
    }
   ],
   "source": [
    "plot_solution(c_control_pbc, d_control_pbc, E_control_pbc)"
   ]
  },
  {
   "cell_type": "markdown",
   "metadata": {
    "nbpages": {
     "level": 3,
     "link": "[1.2.3.4 Impact of Horizon Length](https://ndcbe.github.io/CBE60499/01.02-Pyomo-Mini-Project.html#1.2.3.4-Impact-of-Horizon-Length)",
     "section": "1.2.3.4 Impact of Horizon Length"
    }
   },
   "source": [
    "### 1.2.3.4 Impact of Horizon Length"
   ]
  },
  {
   "cell_type": "markdown",
   "metadata": {
    "nbpages": {
     "level": 3,
     "link": "[1.2.3.4 Impact of Horizon Length](https://ndcbe.github.io/CBE60499/01.02-Pyomo-Mini-Project.html#1.2.3.4-Impact-of-Horizon-Length)",
     "section": "1.2.3.4 Impact of Horizon Length"
    }
   },
   "source": [
    "Repeat the sensitivity analysis for horizon lengths of N=2 through N=48. For each simulation, compute the following:\n",
    "1. Revenue from first 30 days\n",
    "2. Total energy purchased from the market during the first 30 days\n",
    "3. Total energy sold to the market during the first 30 days\n",
    "4. Total computation time"
   ]
  },
  {
   "cell_type": "code",
   "execution_count": 21,
   "metadata": {
    "nbpages": {
     "level": 3,
     "link": "[1.2.3.4 Impact of Horizon Length](https://ndcbe.github.io/CBE60499/01.02-Pyomo-Mini-Project.html#1.2.3.4-Impact-of-Horizon-Length)",
     "section": "1.2.3.4 Impact of Horizon Length"
    }
   },
   "outputs": [
    {
     "name": "stdout",
     "output_type": "stream",
     "text": [
      "Elapsed Time 0.0007793000004312489 s\n"
     ]
    }
   ],
   "source": [
    "# Study this cell to see how to time calculations in Python\n",
    "import time\n",
    "\n",
    "time_start = time.perf_counter()\n",
    "first_month = prepare_data_array(0,34)\n",
    "time_elapsed = (time.perf_counter() - time_start)\n",
    "\n",
    "print(\"Elapsed Time\",time_elapsed,\"s\")"
   ]
  },
  {
   "cell_type": "code",
   "execution_count": 22,
   "metadata": {
    "nbpages": {
     "level": 3,
     "link": "[1.2.3.4 Impact of Horizon Length](https://ndcbe.github.io/CBE60499/01.02-Pyomo-Mini-Project.html#1.2.3.4-Impact-of-Horizon-Length)",
     "section": "1.2.3.4 Impact of Horizon Length"
    }
   },
   "outputs": [],
   "source": [
    "rev = []\n",
    "charge = []\n",
    "discharge = []\n",
    "timer = []\n",
    "\n",
    "# Tip: This will take a few minutes to finish. While developing your solutions, \n",
    "# only simulate the first few values of N. This will be helpful if you need to\n",
    "# restart your kernel and rerun the cells. Once you are happy with your code\n",
    "# for the entire assignment, you can set N to the values given here then\n",
    "# restart and run all.\n",
    "N = [2, 4, 6, 8, 12, 24, 36, 48]\n",
    "\n",
    "# Start Solution\n",
    "for hlen in N: # remove slice once finished initial testing\n",
    "    time_start = time.perf_counter()\n",
    "    c_control_pbc_N, d_control_pbc_N, E_control_pbc_N, revenue_control_pbc_N = receding_horizon_simulation(first_month, 24*30, \n",
    "                                                                                   hlen, include_pbc=True,\n",
    "                                                                                  verbose=False)\n",
    "    time_elapsed = (time.perf_counter() - time_start)\n",
    "    # append results\n",
    "    charge.append(sum(c_control_pbc_N))\n",
    "    discharge.append(sum(c_control_pbc_N))\n",
    "    timer.append(time_elapsed)\n",
    "    rev.append(np.dot(d_control_pbc_N-c_control_pbc_N, first_month[:24*30])) # assuming net revenue, which is profit\n",
    "    \n",
    "    \n",
    "\n",
    "# End Solution"
   ]
  },
  {
   "cell_type": "markdown",
   "metadata": {
    "nbpages": {
     "level": 3,
     "link": "[1.2.3.4 Impact of Horizon Length](https://ndcbe.github.io/CBE60499/01.02-Pyomo-Mini-Project.html#1.2.3.4-Impact-of-Horizon-Length)",
     "section": "1.2.3.4 Impact of Horizon Length"
    }
   },
   "source": [
    "Make four well labeled plots to show these trends."
   ]
  },
  {
   "cell_type": "code",
   "execution_count": 23,
   "metadata": {
    "nbpages": {
     "level": 3,
     "link": "[1.2.3.4 Impact of Horizon Length](https://ndcbe.github.io/CBE60499/01.02-Pyomo-Mini-Project.html#1.2.3.4-Impact-of-Horizon-Length)",
     "section": "1.2.3.4 Impact of Horizon Length"
    }
   },
   "outputs": [
    {
     "data": {
      "image/png": "[encoded data removed]",
      "text/plain": [
       "<Figure size 432x288 with 1 Axes>"
      ]
     },
     "metadata": {
      "needs_background": "light"
     },
     "output_type": "display_data"
    }
   ],
   "source": [
    "plt.plot(N,rev,'o-',color=\"purple\",linewidth=3)\n",
    "plt.xlabel('N',fontsize=18)\n",
    "plt.ylabel('Revenue, $',fontsize=18)\n",
    "plt.grid(True)\n",
    "plt.show()"
   ]
  },
  {
   "cell_type": "code",
   "execution_count": 24,
   "metadata": {
    "nbpages": {
     "level": 3,
     "link": "[1.2.3.4 Impact of Horizon Length](https://ndcbe.github.io/CBE60499/01.02-Pyomo-Mini-Project.html#1.2.3.4-Impact-of-Horizon-Length)",
     "section": "1.2.3.4 Impact of Horizon Length"
    }
   },
   "outputs": [
    {
     "data": {
      "image/png": "[encoded data removed]",
      "text/plain": [
       "<Figure size 432x288 with 1 Axes>"
      ]
     },
     "metadata": {
      "needs_background": "light"
     },
     "output_type": "display_data"
    }
   ],
   "source": [
    "plt.plot(N,charge,'ro-',linewidth=3)\n",
    "plt.xlabel('N',fontsize=18)\n",
    "plt.ylabel('Charging, [MWh]',fontsize=18)\n",
    "plt.grid(True)\n",
    "plt.show()"
   ]
  },
  {
   "cell_type": "code",
   "execution_count": 25,
   "metadata": {
    "nbpages": {
     "level": 3,
     "link": "[1.2.3.4 Impact of Horizon Length](https://ndcbe.github.io/CBE60499/01.02-Pyomo-Mini-Project.html#1.2.3.4-Impact-of-Horizon-Length)",
     "section": "1.2.3.4 Impact of Horizon Length"
    }
   },
   "outputs": [
    {
     "data": {
      "image/png": "[encoded data removed]",
      "text/plain": [
       "<Figure size 432x288 with 1 Axes>"
      ]
     },
     "metadata": {
      "needs_background": "light"
     },
     "output_type": "display_data"
    }
   ],
   "source": [
    "plt.plot(N,discharge,'go-',linewidth=3)\n",
    "plt.xlabel('N',fontsize=18)\n",
    "plt.ylabel('Discharging, [MWh]',fontsize=18)\n",
    "plt.grid(True)\n",
    "plt.show()"
   ]
  },
  {
   "cell_type": "code",
   "execution_count": 26,
   "metadata": {
    "nbpages": {
     "level": 3,
     "link": "[1.2.3.4 Impact of Horizon Length](https://ndcbe.github.io/CBE60499/01.02-Pyomo-Mini-Project.html#1.2.3.4-Impact-of-Horizon-Length)",
     "section": "1.2.3.4 Impact of Horizon Length"
    }
   },
   "outputs": [
    {
     "data": {
      "image/png": "[encoded data removed]",
      "text/plain": [
       "<Figure size 432x288 with 1 Axes>"
      ]
     },
     "metadata": {
      "needs_background": "light"
     },
     "output_type": "display_data"
    }
   ],
   "source": [
    "plt.plot(N,timer,'ko-',linewidth=3)\n",
    "plt.xlabel('N',fontsize=18)\n",
    "plt.ylabel('Computational Time, [s]',fontsize=18)\n",
    "plt.grid(True)\n",
    "plt.show()"
   ]
  },
  {
   "cell_type": "markdown",
   "metadata": {
    "nbpages": {
     "level": 3,
     "link": "[1.2.3.4 Impact of Horizon Length](https://ndcbe.github.io/CBE60499/01.02-Pyomo-Mini-Project.html#1.2.3.4-Impact-of-Horizon-Length)",
     "section": "1.2.3.4 Impact of Horizon Length"
    }
   },
   "source": [
    "**Discussion** How long of a simulation horizon do you recommend? Discuss the trade-off between revenue and computation time.\n",
    "\n",
    "I recommend a simulation horizon of 12 hours.  Computation time increases approximately linearly with horizon length, whereas profit approaches an upper limit, appearing flat after 12 hours.  There is not a lot of profit increase from N = 8 hours to N = 12 hours, but I assume that the ~10 second increase in computational time is cheap compared to the ~$100 increase in profit.  I'm not so sure about longer horizons because I cannot see an increase in profit on the plot past N=12 hours, while computational time steadily increases.  It is also good to note that there appears to be a basic computational time requirement that comes with solving the problem at all, and it is large compared to the additional computational time per hour of horizon length."
   ]
  },
  {
   "cell_type": "markdown",
   "metadata": {
    "nbpages": {
     "level": 3,
     "link": "[1.2.3.5 Impact of Periodic Boundary Condition](https://ndcbe.github.io/CBE60499/01.02-Pyomo-Mini-Project.html#1.2.3.5-Impact-of-Periodic-Boundary-Condition)",
     "section": "1.2.3.5 Impact of Periodic Boundary Condition"
    }
   },
   "source": [
    "### 1.2.3.5 Impact of Periodic Boundary Condition"
   ]
  },
  {
   "cell_type": "markdown",
   "metadata": {
    "nbpages": {
     "level": 3,
     "link": "[1.2.3.5 Impact of Periodic Boundary Condition](https://ndcbe.github.io/CBE60499/01.02-Pyomo-Mini-Project.html#1.2.3.5-Impact-of-Periodic-Boundary-Condition)",
     "section": "1.2.3.5 Impact of Periodic Boundary Condition"
    }
   },
   "source": [
    "We will now explore the impact of the periodic boundary constraint.\n",
    "\n",
    "First, simulate the performance over 3 days **without enforcing the periodic boundary constraint**. Plot the implemented control action and calculate the total revenue. Use $N=4$."
   ]
  },
  {
   "cell_type": "code",
   "execution_count": 27,
   "metadata": {
    "nbpages": {
     "level": 3,
     "link": "[1.2.3.5 Impact of Periodic Boundary Condition](https://ndcbe.github.io/CBE60499/01.02-Pyomo-Mini-Project.html#1.2.3.5-Impact-of-Periodic-Boundary-Condition)",
     "section": "1.2.3.5 Impact of Periodic Boundary Condition"
    }
   },
   "outputs": [
    {
     "name": "stdout",
     "output_type": "stream",
     "text": [
      "Hour 1: -6.661926972264925e-10 MW from grid; battery holding 0.0 MWh\n",
      "Hour 2: 0.0 MW from grid; battery holding 0.0 MWh\n",
      "Hour 3: 0.0 MW from grid; battery holding 3.914913834840594e-09 MWh\n",
      "Hour 4: 1.0 MW from grid; battery holding 0.9380831726863139 MWh\n",
      "Hour 5: 0.9999999918988141 MW from grid; battery holding 1.876166327181364 MWh\n",
      "Hour 6: 0.0 MW from grid; battery holding 1.8761663277875535 MWh\n",
      "Hour 7: -0.7600000264549603 MW from grid; battery holding 1.0660035685620703 MWh\n",
      "Hour 8: -0.999999987277885 MW from grid; battery holding 0.0 MWh\n",
      "Hour 9: -9.239351667379078e-10 MW from grid; battery holding 0.0 MWh\n",
      "Hour 10: -6.578132842611303e-10 MW from grid; battery holding 0.0 MWh\n",
      "Hour 11: -3.363655203467335e-10 MW from grid; battery holding 0.0 MWh\n",
      "Hour 12: 0.0 MW from grid; battery holding 0.0 MWh\n",
      "Hour 13: 0.13636361589547438 MW from grid; battery holding 0.12792042047582 MWh\n",
      "Hour 14: 1.0 MW from grid; battery holding 1.0660035907994614 MWh\n",
      "Hour 15: 1.0 MW from grid; battery holding 2.0040867615497935 MWh\n",
      "Hour 16: 1.0 MW from grid; battery holding 2.9421699331043762 MWh\n",
      "Hour 17: 0.27272722447776093 MW from grid; battery holding 3.1980107576900796 MWh\n",
      "Hour 18: 0.0 MW from grid; battery holding 3.1980107563736717 MWh\n",
      "Hour 19: -1.0 MW from grid; battery holding 2.1320071552785977 MWh\n",
      "Hour 20: -0.9999999849995275 MW from grid; battery holding 1.0660035804771075 MWh\n",
      "Hour 21: -0.9999999980008056 MW from grid; battery holding 0.0 MWh\n",
      "Hour 22: -5.487592821604454e-10 MW from grid; battery holding 0.0 MWh\n",
      "Hour 23: -9.634038444988661e-10 MW from grid; battery holding 0.0 MWh\n",
      "Hour 24: -6.306197208684106e-10 MW from grid; battery holding 0.0 MWh\n",
      "Hour 25: -8.447983739253552e-10 MW from grid; battery holding 0.0 MWh\n",
      "Hour 26: 0.0 MW from grid; battery holding 5.749080407347812e-10 MWh\n",
      "Hour 27: 0.13636361569054015 MW from grid; battery holding 0.1279204210897903 MWh\n",
      "Hour 28: 1.0 MW from grid; battery holding 1.066003590864932 MWh\n",
      "Hour 29: 1.0 MW from grid; battery holding 2.004086756291137 MWh\n",
      "Hour 30: -1.0 MW from grid; battery holding 0.938083156177278 MWh\n",
      "Hour 31: 0.0 MW from grid; battery holding 0.9380831569707564 MWh\n",
      "Hour 32: -0.8800000051042807 MW from grid; battery holding 0.0 MWh\n",
      "Hour 33: -9.308338077720655e-10 MW from grid; battery holding 0.0 MWh\n",
      "Hour 34: -3.2922340839970487e-10 MW from grid; battery holding 0.0 MWh\n",
      "Hour 35: -7.234410731537875e-10 MW from grid; battery holding 0.0 MWh\n",
      "Hour 36: 0.0 MW from grid; battery holding 0.0 MWh\n",
      "Hour 37: 0.13636358121739792 MW from grid; battery holding 0.12792038798846142 MWh\n",
      "Hour 38: 1.0 MW from grid; battery holding 1.0660035536344998 MWh\n",
      "Hour 39: 1.0 MW from grid; battery holding 2.004086723823563 MWh\n",
      "Hour 40: 1.0 MW from grid; battery holding 2.9421698953689233 MWh\n",
      "Hour 41: 0.0 MW from grid; battery holding 2.9421698963630702 MWh\n",
      "Hour 42: -1.0 MW from grid; battery holding 1.8761662953899492 MWh\n",
      "Hour 43: -1.0 MW from grid; battery holding 0.8101626945060681 MWh\n",
      "Hour 44: -1.4102500365475139e-08 MW from grid; battery holding 0.810162670521149 MWh\n",
      "Hour 45: 0.0 MW from grid; battery holding 0.8101626706148221 MWh\n",
      "Hour 46: 0.0 MW from grid; battery holding 0.8101626717392068 MWh\n",
      "Hour 47: -0.7599999533684424 MW from grid; battery holding 0.0 MWh\n",
      "Hour 48: -7.541781502336225e-10 MW from grid; battery holding 0.0 MWh\n",
      "Hour 49: -7.404168348297682e-10 MW from grid; battery holding 0.0 MWh\n",
      "Hour 50: 0.0 MW from grid; battery holding 0.0 MWh\n",
      "Hour 51: 0.0 MW from grid; battery holding 1.0778582435006038e-09 MWh\n",
      "Hour 52: 7.918208249866612e-09 MW from grid; battery holding 1.8526914936635398e-08 MWh\n",
      "Hour 53: 0.0 MW from grid; battery holding 2.145376472736768e-08 MWh\n",
      "Hour 54: -1.869054517883528e-08 MW from grid; battery holding 0.0 MWh\n",
      "Hour 55: 0.0 MW from grid; battery holding 0.0 MWh\n",
      "Hour 56: 0.0 MW from grid; battery holding 0.0 MWh\n",
      "Hour 57: -8.137616769533275e-10 MW from grid; battery holding 0.0 MWh\n",
      "Hour 58: -3.06312690411094e-10 MW from grid; battery holding 0.0 MWh\n",
      "Hour 59: 0.0 MW from grid; battery holding 0.0 MWh\n",
      "Hour 60: 0.0 MW from grid; battery holding 0.0 MWh\n",
      "Hour 61: 0.0 MW from grid; battery holding 5.942621519050646e-09 MWh\n",
      "Hour 62: 1.0 MW from grid; battery holding 0.9380831719399727 MWh\n",
      "Hour 63: 1.0 MW from grid; battery holding 1.876166341956895 MWh\n",
      "Hour 64: 1.0 MW from grid; battery holding 2.814249513473895 MWh\n",
      "Hour 65: 0.0 MW from grid; battery holding 2.8142495234866 MWh\n",
      "Hour 66: -1.0 MW from grid; battery holding 1.7482459228279832 MWh\n",
      "Hour 67: -1.0 MW from grid; battery holding 0.6822423217994384 MWh\n",
      "Hour 68: 0.0 MW from grid; battery holding 0.6822423181423173 MWh\n",
      "Hour 69: -0.6400000246305393 MW from grid; battery holding 0.0 MWh\n",
      "Hour 70: -6.07719320789031e-10 MW from grid; battery holding 0.0 MWh\n",
      "Hour 71: -9.899336778450476e-10 MW from grid; battery holding 0.0 MWh\n",
      "Hour 72: -5.976666072764235e-10 MW from grid; battery holding 0.0 MWh\n"
     ]
    }
   ],
   "source": [
    "c_control2, d_control2, E_control2, revenue_control2 = receding_horizon_simulation(three_days, 24*3, 4,\n",
    "                                                                                  include_pbc=False,verbose=True)"
   ]
  },
  {
   "cell_type": "code",
   "execution_count": 28,
   "metadata": {
    "nbpages": {
     "level": 3,
     "link": "[1.2.3.5 Impact of Periodic Boundary Condition](https://ndcbe.github.io/CBE60499/01.02-Pyomo-Mini-Project.html#1.2.3.5-Impact-of-Periodic-Boundary-Condition)",
     "section": "1.2.3.5 Impact of Periodic Boundary Condition"
    }
   },
   "outputs": [
    {
     "data": {
      "image/png": "[encoded data removed]",
      "text/plain": [
       "<Figure size 432x288 with 1 Axes>"
      ]
     },
     "metadata": {
      "needs_background": "light"
     },
     "output_type": "display_data"
    },
    {
     "data": {
      "image/png": "[encoded data removed]",
      "text/plain": [
       "<Figure size 432x288 with 1 Axes>"
      ]
     },
     "metadata": {
      "needs_background": "light"
     },
     "output_type": "display_data"
    }
   ],
   "source": [
    "plot_solution(c_control2, d_control2, E_control2)"
   ]
  },
  {
   "cell_type": "markdown",
   "metadata": {
    "nbpages": {
     "level": 3,
     "link": "[1.2.3.5 Impact of Periodic Boundary Condition](https://ndcbe.github.io/CBE60499/01.02-Pyomo-Mini-Project.html#1.2.3.5-Impact-of-Periodic-Boundary-Condition)",
     "section": "1.2.3.5 Impact of Periodic Boundary Condition"
    }
   },
   "source": [
    "Next, simulate **with the periodic boundary constraint** using $N=4$. Plot the results."
   ]
  },
  {
   "cell_type": "code",
   "execution_count": 29,
   "metadata": {
    "nbpages": {
     "level": 3,
     "link": "[1.2.3.5 Impact of Periodic Boundary Condition](https://ndcbe.github.io/CBE60499/01.02-Pyomo-Mini-Project.html#1.2.3.5-Impact-of-Periodic-Boundary-Condition)",
     "section": "1.2.3.5 Impact of Periodic Boundary Condition"
    }
   },
   "outputs": [
    {
     "data": {
      "image/png": "[encoded data removed]",
      "text/plain": [
       "<Figure size 432x288 with 1 Axes>"
      ]
     },
     "metadata": {
      "needs_background": "light"
     },
     "output_type": "display_data"
    },
    {
     "data": {
      "image/png": "[encoded data removed]",
      "text/plain": [
       "<Figure size 432x288 with 1 Axes>"
      ]
     },
     "metadata": {
      "needs_background": "light"
     },
     "output_type": "display_data"
    }
   ],
   "source": [
    "c_control3, d_control3, E_control3, revenue_control3 = receding_horizon_simulation(three_days, 24*3, 4,\n",
    "                                                                                  include_pbc=True,verbose=False)\n",
    "plot_solution(c_control3, d_control3, E_control3)"
   ]
  },
  {
   "cell_type": "markdown",
   "metadata": {
    "nbpages": {
     "level": 3,
     "link": "[1.2.3.5 Impact of Periodic Boundary Condition](https://ndcbe.github.io/CBE60499/01.02-Pyomo-Mini-Project.html#1.2.3.5-Impact-of-Periodic-Boundary-Condition)",
     "section": "1.2.3.5 Impact of Periodic Boundary Condition"
    }
   },
   "source": [
    "Now let's compare."
   ]
  },
  {
   "cell_type": "code",
   "execution_count": 30,
   "metadata": {
    "nbpages": {
     "level": 3,
     "link": "[1.2.3.5 Impact of Periodic Boundary Condition](https://ndcbe.github.io/CBE60499/01.02-Pyomo-Mini-Project.html#1.2.3.5-Impact-of-Periodic-Boundary-Condition)",
     "section": "1.2.3.5 Impact of Periodic Boundary Condition"
    }
   },
   "outputs": [
    {
     "name": "stdout",
     "output_type": "stream",
     "text": [
      "17 0.27272722447776093 1.0 0.727272775522239\n",
      "18 0.0 0.1276506393262444 0.1276506393262444\n",
      "41 0.0 1.0 1.0\n",
      "65 0.0 1.0 1.0\n",
      "\n",
      "Total 13.681818037098196 16.5367414950355 2.8549234579373035\n",
      "Done.\n"
     ]
    }
   ],
   "source": [
    "# Charge\n",
    "compare_solutions(c_control2, c_control3)"
   ]
  },
  {
   "cell_type": "code",
   "execution_count": 31,
   "metadata": {
    "nbpages": {
     "level": 3,
     "link": "[1.2.3.5 Impact of Periodic Boundary Condition](https://ndcbe.github.io/CBE60499/01.02-Pyomo-Mini-Project.html#1.2.3.5-Impact-of-Periodic-Boundary-Condition)",
     "section": "1.2.3.5 Impact of Periodic Boundary Condition"
    }
   },
   "outputs": [
    {
     "name": "stdout",
     "output_type": "stream",
     "text": [
      "7 0.7600000264549603 0.0 -0.7600000264549603\n",
      "9 9.239351667379078e-10 0.7600000122070083 0.7600000112830732\n",
      "19 1.0 0.8800000209270851 -0.11999997907291493\n",
      "20 0.9999999849995275 0.0 -0.9999999849995275\n",
      "21 0.9999999980008056 0.8800000229520119 -0.11999997504879378\n",
      "22 5.487592821604454e-10 1.0 0.9999999994512407\n",
      "23 9.634038444988661e-10 0.9923325257819202 0.9923325248185164\n",
      "30 1.0 0.8800000170675548 -0.11999998293244518\n",
      "32 0.8800000051042807 1.0 0.11999999489571933\n",
      "42 1.0 0.8799999793691473 -0.12000002063085269\n",
      "46 0.0 0.7600000090920632 0.7600000090920632\n",
      "47 0.7599999533684424 1.0 0.2400000466315576\n",
      "66 1.0 0.0 -1.0\n",
      "67 1.0 0.880000020903497 -0.11999997909650295\n",
      "69 0.6400000246305393 1.0 0.3599999753694607\n",
      "70 6.07719320789031e-10 1.0 0.9999999993922807\n",
      "71 9.899336778450476e-10 0.6400000091491912 0.6400000081592575\n",
      "\n",
      "Total 12.040000024994866 14.552332621146741 2.512332596151875\n",
      "Done.\n"
     ]
    }
   ],
   "source": [
    "# Discharge\n",
    "compare_solutions(d_control2, d_control3)"
   ]
  },
  {
   "cell_type": "code",
   "execution_count": 32,
   "metadata": {
    "nbpages": {
     "level": 3,
     "link": "[1.2.3.5 Impact of Periodic Boundary Condition](https://ndcbe.github.io/CBE60499/01.02-Pyomo-Mini-Project.html#1.2.3.5-Impact-of-Periodic-Boundary-Condition)",
     "section": "1.2.3.5 Impact of Periodic Boundary Condition"
    }
   },
   "outputs": [
    {
     "name": "stdout",
     "output_type": "stream",
     "text": [
      "7 1.0660035685620703 1.8761663353429956 0.8101627667809252\n",
      "8 0.0 0.810162734742196 0.810162734742196\n",
      "17 3.1980107576900796 3.8802531137541547 0.6822423560640751\n",
      "18 3.1980107563736717 4.0 0.8019892436263283\n",
      "19 2.1320071552785977 3.061916816676231 0.9299096613976334\n",
      "20 1.0660035804771075 3.061916811189158 1.9959132307120506\n",
      "21 0.0 2.1238336257475945 2.1238336257475945\n",
      "22 0.0 1.0578300264713258 1.0578300264713258\n",
      "30 0.938083156177278 1.0660035931169902 0.12792043693971222\n",
      "31 0.9380831569707564 1.066003593876037 0.12792043690528065\n",
      "41 2.9421698963630702 3.8802530759819356 0.9380831796188653\n",
      "42 1.8761662953899492 2.942169937010926 1.0660036416209768\n",
      "43 0.8101626945060681 1.8761663774734898 1.0660036829674215\n",
      "44 0.810162670521149 1.8761663769065644 1.0660037063854153\n",
      "45 0.8101626706148221 1.8761663769829862 1.0660037063681642\n",
      "46 0.8101626717392068 1.0660036362033445 0.25584096446413773\n",
      "65 2.8142495234866 3.75233268640087 0.9380831629142699\n",
      "66 1.7482459228279832 3.7523326864201647 2.0040867635921815\n",
      "67 0.6822423217994384 2.8142495031486705 2.1320071813492323\n",
      "68 0.6822423181423173 2.8142494994229796 2.1320071812806622\n",
      "69 0.0 1.7482459022064425 1.7482459022064425\n",
      "70 0.0 0.6822423018179768 0.6822423018179768\n",
      "\n",
      "Total 52.319456058427896 76.88195218476578 24.562496126337884\n",
      "Done.\n"
     ]
    }
   ],
   "source": [
    "# Energy\n",
    "compare_solutions(E_control2, E_control3)"
   ]
  },
  {
   "cell_type": "code",
   "execution_count": 33,
   "metadata": {},
   "outputs": [
    {
     "name": "stdout",
     "output_type": "stream",
     "text": [
      "7 29.383121022801674 0.0 -29.383121022801674\n",
      "9 3.24116456491658e-08 26.66080042822185 26.660800395810206\n",
      "17 -12.169634210646649 -44.622 -32.45236578935335\n",
      "18 0.0 -6.504693628147436 -6.504693628147436\n",
      "19 59.345 52.22360124191786 -7.121398758082137\n",
      "20 52.56399921151516 0.0 -52.56399921151516\n",
      "21 52.818999894404556 46.48072121230231 -6.338278682102242\n",
      "22 2.6788233117944305e-08 48.816 48.81599997321177\n",
      "23 4.4976508480429565e-08 46.32704396612895 46.32704392115244\n",
      "30 44.143 38.84584075341307 -5.297159246586929\n",
      "32 36.30088021055668 41.251 4.95011978944332\n",
      "41 0.0 -44.137 -44.137\n",
      "42 51.751 45.54087893233274 -6.210121067667259\n",
      "46 0.0 33.480280400532656 33.480280400532656\n",
      "47 35.55203781862237 46.779 11.226962181377637\n",
      "65 0.0 -42.995 -42.995\n",
      "66 53.432 0.0 -53.432\n",
      "67 54.838 48.25744114630597 -6.580558853694029\n",
      "69 31.397761208349625 49.059 17.661238791650373\n",
      "70 2.6742080992000516e-08 44.004 44.00399997325792\n",
      "71 4.1125804712394656e-08 26.588160380093996 26.58816033896819\n",
      "\n",
      "Total 194.6793963908414 161.3783031844964 -33.301093206345\n",
      "Done.\n"
     ]
    }
   ],
   "source": [
    "# Profit\n",
    "compare_solutions(revenue_control2, revenue_control3)"
   ]
  },
  {
   "cell_type": "markdown",
   "metadata": {
    "nbpages": {
     "level": 3,
     "link": "[1.2.3.5 Impact of Periodic Boundary Condition](https://ndcbe.github.io/CBE60499/01.02-Pyomo-Mini-Project.html#1.2.3.5-Impact-of-Periodic-Boundary-Condition)",
     "section": "1.2.3.5 Impact of Periodic Boundary Condition"
    }
   },
   "source": [
    "**Discussion** Compare the control actions and revenue with and without the periodic boundary constraint. How are they different (if at all)? Offer an explanation for any differences. (The purpose of this questions is to get you thinking about how to critically analyze the optimization results. This skill will be really important for the semester projects.)\n",
    "\n",
    "The battery is more active (charges and discharges more) in order to satisfy the periodic boundary constraint, and also makes less profit than without pbc, which makes sense because pbc forces the battery to completely empty at the end of the horizon whether that's beneficial or not."
   ]
  },
  {
   "cell_type": "markdown",
   "metadata": {
    "nbpages": {
     "level": 3,
     "link": "[1.2.3.5 Impact of Periodic Boundary Condition](https://ndcbe.github.io/CBE60499/01.02-Pyomo-Mini-Project.html#1.2.3.5-Impact-of-Periodic-Boundary-Condition)",
     "section": "1.2.3.5 Impact of Periodic Boundary Condition"
    }
   },
   "source": [
    "Next, repeat the horizon length sensitivity analysis without the peridoic boundary constraint."
   ]
  },
  {
   "cell_type": "code",
   "execution_count": 34,
   "metadata": {
    "nbpages": {
     "level": 3,
     "link": "[1.2.3.5 Impact of Periodic Boundary Condition](https://ndcbe.github.io/CBE60499/01.02-Pyomo-Mini-Project.html#1.2.3.5-Impact-of-Periodic-Boundary-Condition)",
     "section": "1.2.3.5 Impact of Periodic Boundary Condition"
    }
   },
   "outputs": [
    {
     "data": {
      "image/png": "[encoded data removed]",
      "text/plain": [
       "<Figure size 432x288 with 1 Axes>"
      ]
     },
     "metadata": {
      "needs_background": "light"
     },
     "output_type": "display_data"
    },
    {
     "data": {
      "image/png": "[encoded data removed]",
      "text/plain": [
       "<Figure size 432x288 with 1 Axes>"
      ]
     },
     "metadata": {
      "needs_background": "light"
     },
     "output_type": "display_data"
    },
    {
     "data": {
      "image/png": "[encoded data removed]",
      "text/plain": [
       "<Figure size 432x288 with 1 Axes>"
      ]
     },
     "metadata": {
      "needs_background": "light"
     },
     "output_type": "display_data"
    },
    {
     "data": {
      "image/png": "[encoded data removed]",
      "text/plain": [
       "<Figure size 432x288 with 1 Axes>"
      ]
     },
     "metadata": {
      "needs_background": "light"
     },
     "output_type": "display_data"
    }
   ],
   "source": [
    "# Begin Solution\n",
    "rev2 = []\n",
    "charge2 = []\n",
    "discharge2 = []\n",
    "timer2 = []\n",
    "\n",
    "\n",
    "N = [2, 4, 6, 8, 12, 24, 36, 48]\n",
    "\n",
    "\n",
    "for hlen in N: # remove slice once finished initial testing\n",
    "    time_start = time.perf_counter()\n",
    "    c_control_N, d_control_N, E_control_N, revenue_control_N = receding_horizon_simulation(first_month, 24*30, \n",
    "                                                                                   hlen, include_pbc=False,\n",
    "                                                                                  verbose=False)\n",
    "    time_elapsed = (time.perf_counter() - time_start)\n",
    "    # append results\n",
    "    charge2.append(sum(c_control_N))\n",
    "    discharge2.append(sum(c_control_N))\n",
    "    timer2.append(time_elapsed)\n",
    "    rev2.append(np.dot(d_control_N-c_control_N, first_month[:24*30])) # assuming net revenue, which is profit\n",
    "    \n",
    "plt.plot(N,rev2,'o-',color=\"purple\",linewidth=3)\n",
    "plt.xlabel('N',fontsize=18)\n",
    "plt.ylabel('Revenue, $',fontsize=18)\n",
    "plt.grid(True)\n",
    "plt.show()\n",
    "\n",
    "plt.plot(N,charge2,'ro-',linewidth=3)\n",
    "plt.xlabel('N',fontsize=18)\n",
    "plt.ylabel('Charging, [MWh]',fontsize=18)\n",
    "plt.grid(True)\n",
    "plt.show()\n",
    "\n",
    "plt.plot(N,discharge2,'go-',linewidth=3)\n",
    "plt.xlabel('N',fontsize=18)\n",
    "plt.ylabel('Discharging, [MWh]',fontsize=18)\n",
    "plt.grid(True)\n",
    "plt.show()\n",
    "\n",
    "plt.plot(N,timer2,'ko-',linewidth=3)\n",
    "plt.xlabel('N',fontsize=18)\n",
    "plt.ylabel('Computational Time, [s]',fontsize=18)\n",
    "plt.grid(True)\n",
    "plt.show()\n",
    "\n"
   ]
  },
  {
   "cell_type": "code",
   "execution_count": 35,
   "metadata": {},
   "outputs": [
    {
     "name": "stdout",
     "output_type": "stream",
     "text": [
      "1 193.96611232381935 667.3327191236971 473.36660679987773\n",
      "2 1400.5830353917218 1746.1764307512906 345.59339535956883\n",
      "3 2004.4374619567957 2105.040838447384 100.60337649058829\n",
      "4 2272.0638502382626 2284.5143850670433 12.450534828780746\n",
      "5 2337.10606505579 2336.7661350833637 -0.33992997242648926\n",
      "\n",
      "Total 15238.97162916117 16170.645611963555 931.6739828023856\n",
      "Done.\n"
     ]
    }
   ],
   "source": [
    "# Profit\n",
    "compare_solutions(rev, rev2)"
   ]
  },
  {
   "cell_type": "code",
   "execution_count": 36,
   "metadata": {},
   "outputs": [
    {
     "name": "stdout",
     "output_type": "stream",
     "text": [
      "1 48.27001880000171 50.67422879999867 2.404209999996965\n",
      "2 53.59555210000326 53.96410710000055 0.36855499999728636\n",
      "3 58.14127860000008 57.9671296000015 -0.1741489999985788\n",
      "4 63.08906279999792 63.830990599999495 0.7419278000015765\n",
      "5 72.38276000000042 72.48941280000145 0.10665280000102939\n",
      "6 101.18214250000165 101.68549930000154 0.5033567999998922\n",
      "7 132.5065577000023 132.46773190000022 -0.03882580000208691\n",
      "8 163.08569699999862 165.16419560000213 2.0784986000035133\n",
      "\n",
      "Total 692.253069500006 698.2432957000055 5.990226199999597\n",
      "Done.\n"
     ]
    }
   ],
   "source": [
    "# Time\n",
    "compare_solutions(timer, timer2)"
   ]
  },
  {
   "cell_type": "markdown",
   "metadata": {
    "nbpages": {
     "level": 3,
     "link": "[1.2.3.5 Impact of Periodic Boundary Condition](https://ndcbe.github.io/CBE60499/01.02-Pyomo-Mini-Project.html#1.2.3.5-Impact-of-Periodic-Boundary-Condition)",
     "section": "1.2.3.5 Impact of Periodic Boundary Condition"
    }
   },
   "source": [
    "**Discussion** Compare these result to the analysis with periodic boundary constraints. Based on these results, make a recommendation to a battery operator.\n",
    "\n",
    "These results show more profit for slightly less computational time.  I recommend optimizing without periodic boundary constraints."
   ]
  },
  {
   "cell_type": "markdown",
   "metadata": {
    "nbpages": {
     "level": 2,
     "link": "[1.2.4 Forecast Uncertainty (required for CBE 60499, optional for CBE 40499)](https://ndcbe.github.io/CBE60499/01.02-Pyomo-Mini-Project.html#1.2.4-Forecast-Uncertainty-(required-for-CBE-60499,-optional-for-CBE-40499))",
     "section": "1.2.4 Forecast Uncertainty (required for CBE 60499, optional for CBE 40499)"
    }
   },
   "source": [
    "## 1.2.4 Forecast Uncertainty (required for CBE 60499, optional for CBE 40499)\n",
    "\n",
    "So far, we have assumed the battery operator can perfectly forecast the market price. This is not realistic. What is the impact of uncertainty?\n",
    "\n",
    "Generate white noise with mean zero and standard deviation 5 \\$/MWh using `np.random.normal()` and add this to the historical price. We will treat this as a price forecast. Simulate the first three days with $N=24$. Calculate how much less revenue you make with price uncertainty compared to the perfect information case. *Hint:* Each time you run the simulation, you will get a different answer. Repeat the analysis 10 times and record the average."
   ]
  },
  {
   "cell_type": "markdown",
   "metadata": {
    "nbpages": {
     "level": 2,
     "link": "[1.2.4 Forecast Uncertainty (required for CBE 60499, optional for CBE 40499)](https://ndcbe.github.io/CBE60499/01.02-Pyomo-Mini-Project.html#1.2.4-Forecast-Uncertainty-(required-for-CBE-60499,-optional-for-CBE-40499))",
     "section": "1.2.4 Forecast Uncertainty (required for CBE 60499, optional for CBE 40499)"
    }
   },
   "source": [
    "**Are you enrolled in CBE 60499** (are you a graduate student)? Please answer yes/no:"
   ]
  },
  {
   "cell_type": "code",
   "execution_count": 37,
   "metadata": {
    "nbpages": {
     "level": 2,
     "link": "[1.2.4 Forecast Uncertainty (required for CBE 60499, optional for CBE 40499)](https://ndcbe.github.io/CBE60499/01.02-Pyomo-Mini-Project.html#1.2.4-Forecast-Uncertainty-(required-for-CBE-60499,-optional-for-CBE-40499))",
     "section": "1.2.4 Forecast Uncertainty (required for CBE 60499, optional for CBE 40499)"
    }
   },
   "outputs": [
    {
     "name": "stdout",
     "output_type": "stream",
     "text": [
      "Revenue with perfect price forecast = 263.82641004995526 = 263.8264100499552 $\n",
      "Average Revenue = 71.68876772907672 %\n"
     ]
    }
   ],
   "source": [
    "revenue_unc_predicted = []\n",
    "revenue_unc_actual = []\n",
    "\n",
    "# Perform simulation with perfect information\n",
    "c_control, d_control, E_control, revenue_control = receding_horizon_simulation(three_days, \n",
    "                                                                                       24*3, 24, include_pbc=True,\n",
    "                                                                                  verbose=False)\n",
    "# We can also calculate the revenue after the fact\n",
    "rev_check = 0\n",
    "for t in range(len(c_control)):\n",
    "    # Why is this slightly different? In the instructor/TA solutions for receding_horizon_simulation,\n",
    "    # we added a negative sign to d_control for plotting.----- But I applied the negative sign in the plot command\n",
    "    rev_check +=  three_days[t]*(d_control[t] - c_control[t])\n",
    "\n",
    "revenue_perfect_information = np.sum(revenue_control)\n",
    "print(\"Revenue with perfect price forecast =\",revenue_perfect_information,\"=\",rev_check,\"$\")\n",
    "\n",
    "# Tip: normalize the revenue from the uncertain simulations by `revenue_perfect_information`\n",
    "# This will make the interpretation much easier!\n",
    "\n",
    "n = len(three_days)\n",
    "nsim = 10\n",
    "\n",
    "for i in range(nsim):\n",
    "\n",
    "    # Add random noise to data\n",
    "    three_days_with_noise = three_days + 5*np.random.normal(size=n)\n",
    "\n",
    "    # Start Solution\n",
    "    c_control_noisy, d_control_noisy, E_control_noisy, revenue_control_noisy = receding_horizon_simulation(three_days_with_noise, \n",
    "                                                                                       24*3, 24, include_pbc=True,\n",
    "                                                                                  verbose=False)\n",
    "    revenue_unc_predicted.append(np.dot(d_control_noisy-c_control_noisy,three_days_with_noise[:24*3]))\n",
    "    revenue_unc_actual.append(np.dot(d_control_noisy-c_control_noisy,three_days[:24*3]))\n",
    "    # End solution\n",
    "    \n",
    "print(\"Average Revenue =\",np.mean(revenue_unc_actual)/revenue_perfect_information*100,\"%\")"
   ]
  },
  {
   "cell_type": "markdown",
   "metadata": {
    "nbpages": {
     "level": 2,
     "link": "[1.2.4 Forecast Uncertainty (required for CBE 60499, optional for CBE 40499)](https://ndcbe.github.io/CBE60499/01.02-Pyomo-Mini-Project.html#1.2.4-Forecast-Uncertainty-(required-for-CBE-60499,-optional-for-CBE-40499))",
     "section": "1.2.4 Forecast Uncertainty (required for CBE 60499, optional for CBE 40499)"
    }
   },
   "source": [
    "**Discussion** Compare the results with your earlier analysis. How much less revenue do you get with Gaussian noise with standard deviation 5 $/MWh.\n",
    "\n",
    "I get approximately 30\\% less revenue, in this instance about 28.3\\% less."
   ]
  },
  {
   "cell_type": "markdown",
   "metadata": {
    "nbpages": {
     "level": 2,
     "link": "[1.2.4 Forecast Uncertainty (required for CBE 60499, optional for CBE 40499)](https://ndcbe.github.io/CBE60499/01.02-Pyomo-Mini-Project.html#1.2.4-Forecast-Uncertainty-(required-for-CBE-60499,-optional-for-CBE-40499))",
     "section": "1.2.4 Forecast Uncertainty (required for CBE 60499, optional for CBE 40499)"
    }
   },
   "source": [
    "Next, make a plot showing the average revenue as a function of the standard deviation of the uncertainty. *Hint*: Normalize the revenue by dividing by the perfect information revenue (no uncertainty)."
   ]
  },
  {
   "cell_type": "code",
   "execution_count": 38,
   "metadata": {
    "nbpages": {
     "level": 2,
     "link": "[1.2.4 Forecast Uncertainty (required for CBE 60499, optional for CBE 40499)](https://ndcbe.github.io/CBE60499/01.02-Pyomo-Mini-Project.html#1.2.4-Forecast-Uncertainty-(required-for-CBE-60499,-optional-for-CBE-40499))",
     "section": "1.2.4 Forecast Uncertainty (required for CBE 60499, optional for CBE 40499)"
    }
   },
   "outputs": [
    {
     "data": {
      "image/png": "[encoded data removed]",
      "text/plain": [
       "<Figure size 432x288 with 1 Axes>"
      ]
     },
     "metadata": {
      "needs_background": "light"
     },
     "output_type": "display_data"
    }
   ],
   "source": [
    "# Start Solution\n",
    "meanrev = []\n",
    "\n",
    "n = len(three_days)\n",
    "nsim = 10\n",
    "\n",
    "# list of standard deviations of uncertainty\n",
    "slist = [1, 3, 5, 7, 9]\n",
    "\n",
    "for s in slist:\n",
    "    for i in range(nsim):\n",
    "        revenue_unc_predicted_s = []\n",
    "        revenue_unc_actual_s = []\n",
    "        # Add random noise to data\n",
    "        three_days_with_noise_s = three_days + s*np.random.normal(size=n)\n",
    "        # Start Solution\n",
    "        c_control_noisy_s, d_control_noisy_s, E_control_noisy_s, revenue_control_noisy_s = receding_horizon_simulation(three_days_with_noise_s, \n",
    "                                                                                           24*3, 24, include_pbc=True,\n",
    "                                                                                      verbose=False)\n",
    "        revenue_unc_predicted_s.append(np.dot(d_control_noisy_s-c_control_noisy_s,three_days_with_noise_s[:24*3]))\n",
    "        revenue_unc_actual_s.append(np.dot(d_control_noisy_s-c_control_noisy_s,three_days[:24*3]))\n",
    "    meanrev.append(np.mean(revenue_unc_actual_s)/revenue_perfect_information*100)\n",
    "\n",
    "plt.plot(slist,meanrev,'ko-',linewidth=3)\n",
    "plt.xlabel('s, [$/MWh]',fontsize=18)\n",
    "plt.ylabel('Average actual revenue, %',fontsize=18)\n",
    "plt.grid(True)\n",
    "plt.show()"
   ]
  },
  {
   "cell_type": "markdown",
   "metadata": {
    "nbpages": {
     "level": 2,
     "link": "[1.2.4 Forecast Uncertainty (required for CBE 60499, optional for CBE 40499)](https://ndcbe.github.io/CBE60499/01.02-Pyomo-Mini-Project.html#1.2.4-Forecast-Uncertainty-(required-for-CBE-60499,-optional-for-CBE-40499))",
     "section": "1.2.4 Forecast Uncertainty (required for CBE 60499, optional for CBE 40499)"
    }
   },
   "source": [
    "**Discussion** What is the impact with the larger uncertainty?\n",
    "\n",
    "Profit decreases with larger uncertainty."
   ]
  },
  {
   "cell_type": "markdown",
   "metadata": {
    "nbpages": {
     "level": 2,
     "link": "[1.2.4 Forecast Uncertainty (required for CBE 60499, optional for CBE 40499)](https://ndcbe.github.io/CBE60499/01.02-Pyomo-Mini-Project.html#1.2.4-Forecast-Uncertainty-(required-for-CBE-60499,-optional-for-CBE-40499))",
     "section": "1.2.4 Forecast Uncertainty (required for CBE 60499, optional for CBE 40499)"
    }
   },
   "source": [
    "**Discussion** Why does uncertainty in the price decrease the revenue (on average)?\n",
    "\n",
    "The uncertainty in the price decreases the revenue because the forcast best times and amounts to buy and sell are different from the actual best times to buy and sell."
   ]
  },
  {
   "cell_type": "markdown",
   "metadata": {},
   "source": [
    "<!--NAVIGATION-->\n",
    "< [1.1 60 Minutes to Pyomo: An Energy Storage Model Predictive Control Example](https://ndcbe.github.io/CBE60499/01.01-Pyomo-Nuts-and-Bolts.html) | [Contents](toc.html) | [2.0 Optimization Modeling with Applications](https://ndcbe.github.io/CBE60499/02.00-Optimization-Modeling.html) ><p><a href=\"https://colab.research.google.com/github/ndcbe/CBE60499/blob/master/docs/01.02-Pyomo-Mini-Project.ipynb\"> <img align=\"left\" src=\"https://colab.research.google.com/assets/colab-badge.svg\" alt=\"Open in Colab\" title=\"Open in Google Colaboratory\"></a><p><a href=\"https://ndcbe.github.io/CBE60499/01.02-Pyomo-Mini-Project.ipynb\"> <img align=\"left\" src=\"https://img.shields.io/badge/Github-Download-blue.svg\" alt=\"Download\" title=\"Download Notebook\"></a>"
   ]
  }
 ],
 "metadata": {
  "kernelspec": {
   "display_name": "Python 3",
   "language": "python",
   "name": "python3"
  },
  "language_info": {
   "codemirror_mode": {
    "name": "ipython",
    "version": 3
   },
   "file_extension": ".py",
   "mimetype": "text/x-python",
   "name": "python",
   "nbconvert_exporter": "python",
   "pygments_lexer": "ipython3",
   "version": "3.8.8"
  }
 },
 "nbformat": 4,
 "nbformat_minor": 2
}
