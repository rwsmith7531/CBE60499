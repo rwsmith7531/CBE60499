{
 "cells": [
  {
   "cell_type": "markdown",
   "metadata": {},
   "source": [
    "<!--NOTEBOOK_HEADER-->\n",
    "*This notebook contains material from [CBE60499](https://ndcbe.github.io/CBE60499);\n",
    "content is available [on Github](git@github.com:ndcbe/CBE60499.git).*\n"
   ]
  },
  {
   "cell_type": "markdown",
   "metadata": {},
   "source": [
    "<!--NAVIGATION-->\n",
    "< [2.5 Stochastic Programming](https://ndcbe.github.io/CBE60499/02.05-SP.html) | [Contents](toc.html) | [2.7 Pyomo Homework 2](https://ndcbe.github.io/CBE60499/02.07-Pyomo2.html) ><p><a href=\"https://colab.research.google.com/github/ndcbe/CBE60499/blob/master/docs/02.06-Pyomo1.ipynb\"> <img align=\"left\" src=\"https://colab.research.google.com/assets/colab-badge.svg\" alt=\"Open in Colab\" title=\"Open in Google Colaboratory\"></a><p><a href=\"https://ndcbe.github.io/CBE60499/02.06-Pyomo1.ipynb\"> <img align=\"left\" src=\"https://img.shields.io/badge/Github-Download-blue.svg\" alt=\"Download\" title=\"Download Notebook\"></a>"
   ]
  },
  {
   "cell_type": "code",
   "execution_count": 1,
   "metadata": {},
   "outputs": [],
   "source": [
    "# IMPORT DATA FILES USED BY THIS NOTEBOOK\n",
    "import os,  requests\n",
    "\n",
    "file_links = [(\"data/knapsack_data.csv\", \"https://ndcbe.github.io/CBE60499/data/knapsack_data.csv\")]\n",
    "\n",
    "# This cell has been added by nbpages. Run this cell to download data files required for this notebook.\n",
    "\n",
    "for filepath, fileurl in file_links:\n",
    "    stem, filename = os.path.split(filepath)\n",
    "    if stem:\n",
    "        if not os.path.exists(stem):\n",
    "            os.mkdir(stem)\n",
    "    if not os.path.isfile(filepath):\n",
    "        with open(filepath, 'wb') as f:\n",
    "            response = requests.get(fileurl)\n",
    "            f.write(response.content)\n"
   ]
  },
  {
   "cell_type": "markdown",
   "metadata": {
    "nbpages": {
     "level": 1,
     "link": "[2.6 Pyomo Homework 1](https://ndcbe.github.io/CBE60499/02.06-Pyomo1.html#2.6-Pyomo-Homework-1)",
     "section": "2.6 Pyomo Homework 1"
    }
   },
   "source": [
    "# 2.6 Pyomo Homework 1\n",
    "\n",
    "**Due Date:** 2/16/2021"
   ]
  },
  {
   "cell_type": "code",
   "execution_count": 2,
   "metadata": {
    "nbpages": {
     "level": 1,
     "link": "[2.6 Pyomo Homework 1](https://ndcbe.github.io/CBE60499/02.06-Pyomo1.html#2.6-Pyomo-Homework-1)",
     "section": "2.6 Pyomo Homework 1"
    }
   },
   "outputs": [],
   "source": [
    "# This code cell installs packages on Colab\n",
    "\n",
    "import sys\n",
    "if \"google.colab\" in sys.modules:\n",
    "    !wget \"https://raw.githubusercontent.com/ndcbe/CBE60499/main/notebooks/helper.py\"\n",
    "    import helper\n",
    "    helper.install_idaes()\n",
    "    helper.install_ipopt()\n",
    "    helper.install_glpk()\n",
    "    helper.download_data(['knapsack_data.xlsx','knapsack_data.csv'])"
   ]
  },
  {
   "cell_type": "code",
   "execution_count": 3,
   "metadata": {
    "nbpages": {
     "level": 1,
     "link": "[2.6 Pyomo Homework 1](https://ndcbe.github.io/CBE60499/02.06-Pyomo1.html#2.6-Pyomo-Homework-1)",
     "section": "2.6 Pyomo Homework 1"
    }
   },
   "outputs": [],
   "source": [
    "## IMPORT LIBRARIES\n",
    "from pyomo.environ import *\n",
    "import pandas as pd"
   ]
  },
  {
   "cell_type": "markdown",
   "metadata": {
    "nbpages": {
     "level": 1,
     "link": "[2.6 Pyomo Homework 1](https://ndcbe.github.io/CBE60499/02.06-Pyomo1.html#2.6-Pyomo-Homework-1)",
     "section": "2.6 Pyomo Homework 1"
    }
   },
   "source": [
    "Special thanks to the Pyomo team for create these excercises as part of their excellent PyomoFest workshop."
   ]
  },
  {
   "cell_type": "markdown",
   "metadata": {
    "nbpages": {
     "level": 2,
     "link": "[2.6.1 Pyomo Fundamentals](https://ndcbe.github.io/CBE60499/02.06-Pyomo1.html#2.6.1-Pyomo-Fundamentals)",
     "section": "2.6.1 Pyomo Fundamentals"
    }
   },
   "source": [
    "## 2.6.1 Pyomo Fundamentals"
   ]
  },
  {
   "cell_type": "markdown",
   "metadata": {
    "nbpages": {
     "level": 3,
     "link": "[2.6.1.1 Knapsack example](https://ndcbe.github.io/CBE60499/02.06-Pyomo1.html#2.6.1.1-Knapsack-example)",
     "section": "2.6.1.1 Knapsack example"
    }
   },
   "source": [
    "### 2.6.1.1 Knapsack example\n",
    "\n",
    "Solve the knapsack problem given below using GLPK and answer the following questions:\n",
    "\n",
    "1. Which items are acquired in the optimal solution?\n",
    "\n",
    "2. What is the value of the selected items?"
   ]
  },
  {
   "cell_type": "code",
   "execution_count": 4,
   "metadata": {
    "nbpages": {
     "level": 3,
     "link": "[2.6.1.1 Knapsack example](https://ndcbe.github.io/CBE60499/02.06-Pyomo1.html#2.6.1.1-Knapsack-example)",
     "section": "2.6.1.1 Knapsack example"
    }
   },
   "outputs": [
    {
     "name": "stdout",
     "output_type": "stream",
     "text": [
      "Model unknown\n",
      "\n",
      "  Variables:\n",
      "    x : Size=4, Index=x_index\n",
      "        Key         : Lower : Value : Upper : Fixed : Stale : Domain\n",
      "             hammer :     0 :   1.0 :     1 : False : False : Binary\n",
      "        screwdriver :     0 :   1.0 :     1 : False : False : Binary\n",
      "              towel :     0 :   1.0 :     1 : False : False : Binary\n",
      "             wrench :     0 :   0.0 :     1 : False : False : Binary\n",
      "\n",
      "  Objectives:\n",
      "    obj : Size=1, Index=None, Active=True\n",
      "        Key  : Active : Value\n",
      "        None :   True :  25.0\n",
      "\n",
      "  Constraints:\n",
      "    weight_con : Size=1\n",
      "        Key  : Lower : Body : Upper\n",
      "        None :  None : 12.0 :  14.0\n"
     ]
    }
   ],
   "source": [
    "A = ['hammer', 'wrench', 'screwdriver', 'towel']\n",
    "b = {'hammer':8, 'wrench':3, 'screwdriver':6, 'towel':11}\n",
    "w = {'hammer':5, 'wrench':7, 'screwdriver':4, 'towel':3}\n",
    "W_max = 14\n",
    "\n",
    "model = ConcreteModel()\n",
    "model.x = Var( A, within=Binary )\n",
    "\n",
    "model.obj = Objective(\n",
    "    expr = sum( b[i]*model.x[i] for i in A ), \n",
    "    sense = maximize )\n",
    "\n",
    "model.weight_con = Constraint(\n",
    "    expr = sum( w[i]*model.x[i] for i in A ) <= W_max )\n",
    "\n",
    "# YOUR SOLUTION HERE -- solved\n",
    "opt = SolverFactory('glpk')\n",
    "opt.solve(model)\n",
    "model.display()\n",
    "\n",
    "\n"
   ]
  },
  {
   "cell_type": "markdown",
   "metadata": {
    "nbpages": {
     "level": 3,
     "link": "[2.6.1.1 Knapsack example](https://ndcbe.github.io/CBE60499/02.06-Pyomo1.html#2.6.1.1-Knapsack-example)",
     "section": "2.6.1.1 Knapsack example"
    }
   },
   "source": [
    "**Question Answers**\n",
    "\n",
    "1. A hammer, screwdriver, and a towel are acquired\n",
    "\n",
    "2. The optimal total value of the selected items is 25"
   ]
  },
  {
   "cell_type": "markdown",
   "metadata": {
    "nbpages": {
     "level": 3,
     "link": "[2.6.1.2 Knapsack example with improve printing](https://ndcbe.github.io/CBE60499/02.06-Pyomo1.html#2.6.1.2-Knapsack-example-with-improve-printing)",
     "section": "2.6.1.2 Knapsack example with improve printing"
    }
   },
   "source": [
    "### 2.6.1.2 Knapsack example with improve printing\n",
    "\n",
    "Complete the missing lines in the code below to produce formatted output: print the total weight, the value of the items selected (the objective), and the items acquired in the optimal solution. Note, the Pyomo value function should be used to get the floating point value of Pyomo modeling components (e.g., print(value(model.x[i]))."
   ]
  },
  {
   "cell_type": "code",
   "execution_count": 5,
   "metadata": {
    "nbpages": {
     "level": 3,
     "link": "[2.6.1.2 Knapsack example with improve printing](https://ndcbe.github.io/CBE60499/02.06-Pyomo1.html#2.6.1.2-Knapsack-example-with-improve-printing)",
     "section": "2.6.1.2 Knapsack example with improve printing"
    }
   },
   "outputs": [
    {
     "name": "stdout",
     "output_type": "stream",
     "text": [
      "Total weight = 12.0\n",
      "Optimal total value of items selected = 25.0\n",
      "In the optimal solution, a hammer, a screwdriver, and a towel are selected.\n",
      "0.0\n",
      "-------------------------\n"
     ]
    }
   ],
   "source": [
    "A = ['hammer', 'wrench', 'screwdriver', 'towel']\n",
    "b = {'hammer':8, 'wrench':3, 'screwdriver':6, 'towel':11}\n",
    "w = {'hammer':5, 'wrench':7, 'screwdriver':4, 'towel':3}\n",
    "W_max = 14\n",
    "\n",
    "model = ConcreteModel()\n",
    "model.x = Var( A, within=Binary )\n",
    "\n",
    "model.obj = Objective(\n",
    "    expr = sum( b[i]*model.x[i] for i in A ), \n",
    "    sense = maximize )\n",
    "\n",
    "model.weight_con = Constraint(\n",
    "    expr = sum( w[i]*model.x[i] for i in A ) <= W_max )\n",
    "\n",
    "opt = SolverFactory('glpk')\n",
    "opt_success = opt.solve(model)\n",
    "\n",
    "total_weight = sum( w[i]*value(model.x[i]) for i in A )\n",
    "# YOUR SOLUTION HERE\n",
    "A_sel = A.copy()\n",
    "for i in A:\n",
    "    if value(model.x[i]) == 0:\n",
    "        A_sel.remove(i)\n",
    "        \n",
    "selstr = \"In the optimal solution,\"\n",
    "for i in range(len(A_sel)):\n",
    "    if i != 0 and len(A_sel)>2:\n",
    "        selstr += \",\"\n",
    "    selstr += \" \"\n",
    "    if i == len(A_sel)-1:\n",
    "        selstr += \"and \"\n",
    "    selstr += \"a \" + A_sel[i]\n",
    "if len(A_sel) == 0:\n",
    "    selstr += \" nothing\"\n",
    "if len(A_sel) > 1:\n",
    "    selstr += \" are selected.\"\n",
    "else:\n",
    "    selstr += \" is selected.\"\n",
    "    \n",
    "print('Total weight = {tweight}'.format(tweight=total_weight))\n",
    "print('Optimal total value of items selected = {objval}'.format(objval=value(model.obj)))\n",
    "print(selstr)\n",
    "\n",
    "print(value(model.x['wrench']))\n",
    "\n",
    "print('-------------------------')"
   ]
  },
  {
   "cell_type": "markdown",
   "metadata": {
    "nbpages": {
     "level": 3,
     "link": "[2.6.1.3 Changing data](https://ndcbe.github.io/CBE60499/02.06-Pyomo1.html#2.6.1.3-Changing-data)",
     "section": "2.6.1.3 Changing data"
    }
   },
   "source": [
    "### 2.6.1.3 Changing data\n",
    "\n",
    "Using your code from **Question 1.2**, if we were to increase the value of the wrench, at what point would it become selected as part of the optimal solution?"
   ]
  },
  {
   "cell_type": "code",
   "execution_count": 6,
   "metadata": {
    "nbpages": {
     "level": 3,
     "link": "[2.6.1.3 Changing data](https://ndcbe.github.io/CBE60499/02.06-Pyomo1.html#2.6.1.3-Changing-data)",
     "section": "2.6.1.3 Changing data"
    }
   },
   "outputs": [
    {
     "name": "stdout",
     "output_type": "stream",
     "text": [
      "The wrench would become part of the solution when its value >= 8\n",
      "Total weight = 14.0\n",
      "Optimal total value of items selected = 25.0\n",
      "In the optimal solution, a wrench, a screwdriver, and a towel are selected.\n",
      "1.0\n",
      "-------------------------\n"
     ]
    }
   ],
   "source": [
    "# YOUR SOLUTION HERE\n",
    "while  'wrench' not in A_sel and b['wrench'] < 30:\n",
    "    b['wrench'] += 1\n",
    "    model = ConcreteModel()\n",
    "    model.x = Var( A, within=Binary )\n",
    "    model.obj = Objective(\n",
    "        expr = sum( b[i]*model.x[i] for i in A ), \n",
    "        sense = maximize )\n",
    "    model.weight_con = Constraint(\n",
    "        expr = sum( w[i]*model.x[i] for i in A ) <= W_max )\n",
    "    opt_success = opt.solve(model)\n",
    "    total_weight = sum( w[i]*value(model.x[i]) for i in A )\n",
    "    A_sel = A.copy()\n",
    "    for i in A:\n",
    "        if value(model.x[i]) == 0:\n",
    "            A_sel.remove(i)\n",
    "print('The wrench would become part of the solution when its value >= {}'.format(b['wrench']))\n",
    "selstr = \"In the optimal solution,\"\n",
    "for i in range(len(A_sel)):\n",
    "    if i != 0 and len(A_sel)>2:\n",
    "        selstr += \",\"\n",
    "    selstr += \" \"\n",
    "    if i == len(A_sel)-1:\n",
    "        selstr += \"and \"\n",
    "    selstr += \"a \" + A_sel[i]\n",
    "if len(A_sel) == 0:\n",
    "    selstr += \" nothing\"\n",
    "if len(A_sel) > 1:\n",
    "    selstr += \" are selected.\"\n",
    "else:\n",
    "    selstr += \" is selected.\"\n",
    "    \n",
    "print('Total weight = {tweight}'.format(tweight=total_weight))\n",
    "print('Optimal total value of items selected = {objval}'.format(objval=value(model.obj)))\n",
    "print(selstr)\n",
    "\n",
    "print(value(model.x['wrench']))\n",
    "\n",
    "print('-------------------------')\n",
    "\n"
   ]
  },
  {
   "cell_type": "markdown",
   "metadata": {
    "nbpages": {
     "level": 3,
     "link": "[2.6.1.3 Changing data](https://ndcbe.github.io/CBE60499/02.06-Pyomo1.html#2.6.1.3-Changing-data)",
     "section": "2.6.1.3 Changing data"
    }
   },
   "source": [
    "**Question Answer**\n",
    "\n",
    "The wrench would become part of the optimal solution when its value is greater than or equal to 8."
   ]
  },
  {
   "cell_type": "markdown",
   "metadata": {
    "nbpages": {
     "level": 3,
     "link": "[2.6.1.4 Loading data from Excel](https://ndcbe.github.io/CBE60499/02.06-Pyomo1.html#2.6.1.4-Loading-data-from-Excel)",
     "section": "2.6.1.4 Loading data from Excel"
    }
   },
   "source": [
    "### 2.6.1.4 Loading data from Excel\n",
    "\n",
    "In the code above, the data is hardcoded at the top of the file. Instead of hardcoding the data, use Python to load the data from a difference source. You may use Pandas to load data from 'knapsack_data.xlsx' into a dataframe. You will then need to write code to obtain a dictionary from the dataframe."
   ]
  },
  {
   "cell_type": "code",
   "execution_count": 7,
   "metadata": {
    "nbpages": {
     "level": 3,
     "link": "[2.6.1.4 Loading data from Excel](https://ndcbe.github.io/CBE60499/02.06-Pyomo1.html#2.6.1.4-Loading-data-from-Excel)",
     "section": "2.6.1.4 Loading data from Excel"
    }
   },
   "outputs": [
    {
     "name": "stdout",
     "output_type": "stream",
     "text": [
      "Total Weight: 12.0\n",
      "Total Benefit: 25.0\n",
      "        Item     Selected\n",
      "=========================\n",
      "      hammer          Yes\n",
      "      wrench           No\n",
      " screwdriver          Yes\n",
      "       towel          Yes\n",
      "-------------------------\n"
     ]
    }
   ],
   "source": [
    "df_items = pd.read_excel('./data/knapsack_data.xlsx', sheet_name='data', header=0, index_col=0)\n",
    "W_max = 14\n",
    "\n",
    "A = df_items.index.tolist()\n",
    "# YOUR SOLUTION HERE\n",
    "b = {}\n",
    "w = {}\n",
    "s_benefit = df_items['Benefit']\n",
    "s_weight = df_items['Weight']\n",
    "for i in A:\n",
    "    b[i] = s_benefit[i]\n",
    "    w[i] = s_weight[i]\n",
    "\n",
    "\n",
    "model = ConcreteModel()\n",
    "model.x = Var( A, within=Binary )\n",
    "\n",
    "model.obj = Objective(\n",
    "    expr = sum( b[i]*model.x[i] for i in A ), \n",
    "    sense = maximize )\n",
    "\n",
    "model.weight_con = Constraint(\n",
    "    expr = sum( w[i]*model.x[i] for i in A ) <= W_max )\n",
    "\n",
    "opt = SolverFactory('glpk')\n",
    "opt_success = opt.solve(model)\n",
    "\n",
    "total_weight = sum( w[i]*value(model.x[i]) for i in A )\n",
    "print('Total Weight:', total_weight)\n",
    "print('Total Benefit:', value(model.obj))\n",
    "\n",
    "print('%12s %12s' % ('Item', 'Selected'))\n",
    "print('=========================')\n",
    "for i in A:\n",
    "    acquired = 'No'\n",
    "    if value(model.x[i]) >= 0.5:\n",
    "        acquired = 'Yes'\n",
    "    print('%12s %12s' % (i, acquired))\n",
    "print('-------------------------')"
   ]
  },
  {
   "cell_type": "markdown",
   "metadata": {
    "nbpages": {
     "level": 3,
     "link": "[2.6.1.5 NLP vs. MIP](https://ndcbe.github.io/CBE60499/02.06-Pyomo1.html#2.6.1.5-NLP-vs.-MIP)",
     "section": "2.6.1.5 NLP vs. MIP"
    }
   },
   "source": [
    "### 2.6.1.5 NLP vs. MIP\n",
    "\n",
    "Solve the knapsack problem with IPOPT instead of glpk. Print the solution values for model.x. What happened? Why?\n",
    "\n",
    "*Hint*: Switch `glpk` to `ipopt` in the call to `SolverFactory`."
   ]
  },
  {
   "cell_type": "code",
   "execution_count": 8,
   "metadata": {
    "nbpages": {
     "level": 3,
     "link": "[2.6.1.5 NLP vs. MIP](https://ndcbe.github.io/CBE60499/02.06-Pyomo1.html#2.6.1.5-NLP-vs.-MIP)",
     "section": "2.6.1.5 NLP vs. MIP"
    }
   },
   "outputs": [
    {
     "name": "stdout",
     "output_type": "stream",
     "text": [
      "1 Set Declarations\n",
      "    x_index : Size=1, Index=None, Ordered=Insertion\n",
      "        Key  : Dimen : Domain : Size : Members\n",
      "        None :     1 :    Any :    4 : {'hammer', 'wrench', 'screwdriver', 'towel'}\n",
      "\n",
      "1 Var Declarations\n",
      "    x : Size=4, Index=x_index\n",
      "        Key         : Lower : Value              : Upper : Fixed : Stale : Domain\n",
      "             hammer :     0 :                1.0 :     1 : False : False : Binary\n",
      "        screwdriver :     0 :                1.0 :     1 : False : False : Binary\n",
      "              towel :     0 :                1.0 :     1 : False : False : Binary\n",
      "             wrench :     0 : 0.2857142884855869 :     1 : False : False : Binary\n",
      "\n",
      "1 Objective Declarations\n",
      "    obj : Size=1, Index=None, Active=True\n",
      "        Key  : Active : Sense    : Expression\n",
      "        None :   True : maximize : 8*x[hammer] + 3*x[wrench] + 6*x[screwdriver] + 11*x[towel]\n",
      "\n",
      "1 Constraint Declarations\n",
      "    weight_con : Size=1, Index=None, Active=True\n",
      "        Key  : Lower : Body                                                      : Upper : Active\n",
      "        None :  -Inf : 5*x[hammer] + 7*x[wrench] + 4*x[screwdriver] + 3*x[towel] :  14.0 :   True\n",
      "\n",
      "4 Declarations: x_index x obj weight_con\n"
     ]
    }
   ],
   "source": [
    "from pyomo.environ import *\n",
    "\n",
    "A = ['hammer', 'wrench', 'screwdriver', 'towel']\n",
    "b = {'hammer':8, 'wrench':3, 'screwdriver':6, 'towel':11}\n",
    "w = {'hammer':5, 'wrench':7, 'screwdriver':4, 'towel':3}\n",
    "W_max = 14\n",
    "\n",
    "model = ConcreteModel()\n",
    "model.x = Var( A, within=Binary )\n",
    "\n",
    "model.obj = Objective(\n",
    "    expr = sum( b[i]*model.x[i] for i in A ), \n",
    "    sense = maximize )\n",
    "\n",
    "model.weight_con = Constraint(\n",
    "    expr = sum( w[i]*model.x[i] for i in A ) <= W_max )\n",
    "\n",
    "# YOUR SOLUTION HERE\n",
    "opt = SolverFactory('ipopt')\n",
    "opt_success = opt.solve(model)\n",
    "\n",
    "model.pprint()"
   ]
  },
  {
   "cell_type": "markdown",
   "metadata": {
    "nbpages": {
     "level": 3,
     "link": "[2.6.1.5 NLP vs. MIP](https://ndcbe.github.io/CBE60499/02.06-Pyomo1.html#2.6.1.5-NLP-vs.-MIP)",
     "section": "2.6.1.5 NLP vs. MIP"
    }
   },
   "source": [
    "**Question Answers**\n",
    "\n",
    "There is now a fractional number of wrenches"
   ]
  },
  {
   "cell_type": "markdown",
   "metadata": {
    "nbpages": {
     "level": 2,
     "link": "[2.6.2 More Pyomo Fundamentals](https://ndcbe.github.io/CBE60499/02.06-Pyomo1.html#2.6.2-More-Pyomo-Fundamentals)",
     "section": "2.6.2 More Pyomo Fundamentals"
    }
   },
   "source": [
    "## 2.6.2 More Pyomo Fundamentals"
   ]
  },
  {
   "cell_type": "markdown",
   "metadata": {
    "nbpages": {
     "level": 3,
     "link": "[2.6.2.1 Knapsack problem with rules](https://ndcbe.github.io/CBE60499/02.06-Pyomo1.html#2.6.2.1-Knapsack-problem-with-rules)",
     "section": "2.6.2.1 Knapsack problem with rules"
    }
   },
   "source": [
    "### 2.6.2.1 Knapsack problem with rules\n",
    "\n",
    "Rules are important for defining in-dexed constraints, however, they can also be used for single (i.e. scalar) constraints. Reimplement the knapsack model from **Question 1.1** using rules for the objective and the constraints."
   ]
  },
  {
   "cell_type": "code",
   "execution_count": 9,
   "metadata": {
    "nbpages": {
     "level": 3,
     "link": "[2.6.2.1 Knapsack problem with rules](https://ndcbe.github.io/CBE60499/02.06-Pyomo1.html#2.6.2.1-Knapsack-problem-with-rules)",
     "section": "2.6.2.1 Knapsack problem with rules"
    }
   },
   "outputs": [
    {
     "name": "stdout",
     "output_type": "stream",
     "text": [
      "Model unknown\n",
      "\n",
      "  Variables:\n",
      "    x : Size=4, Index=x_index\n",
      "        Key         : Lower : Value : Upper : Fixed : Stale : Domain\n",
      "             hammer :     0 :   1.0 :     1 : False : False : Binary\n",
      "        screwdriver :     0 :   1.0 :     1 : False : False : Binary\n",
      "              towel :     0 :   1.0 :     1 : False : False : Binary\n",
      "             wrench :     0 :   0.0 :     1 : False : False : Binary\n",
      "\n",
      "  Objectives:\n",
      "    obj : Size=1, Index=None, Active=True\n",
      "        Key  : Active : Value\n",
      "        None :   True :  25.0\n",
      "\n",
      "  Constraints:\n",
      "    weight_con : Size=1\n",
      "        Key  : Lower : Body : Upper\n",
      "        None :  None : 12.0 :  14.0\n"
     ]
    }
   ],
   "source": [
    "# YOUR SOLUTION HERE\n",
    "A = ['hammer', 'wrench', 'screwdriver', 'towel']\n",
    "b = {'hammer':8, 'wrench':3, 'screwdriver':6, 'towel':11}\n",
    "w = {'hammer':5, 'wrench':7, 'screwdriver':4, 'towel':3}\n",
    "W_max = 14\n",
    "\n",
    "model = ConcreteModel()\n",
    "model.x = Var( A, within=Binary )\n",
    "\n",
    "def objrule(model):\n",
    "    return sum(b[i]*model.x[i] for i in A)\n",
    "\n",
    "model.obj = Objective(\n",
    "    rule=objrule, \n",
    "    sense = maximize )\n",
    "\n",
    "def conrule(model):\n",
    "    return sum( w[i]*model.x[i] for i in A ) <= W_max\n",
    "\n",
    "model.weight_con = Constraint(rule=conrule)\n",
    "\n",
    "# YOUR SOLUTION HERE -- solved\n",
    "opt = SolverFactory('glpk')\n",
    "opt.solve(model)\n",
    "model.display()"
   ]
  },
  {
   "cell_type": "markdown",
   "metadata": {
    "nbpages": {
     "level": 3,
     "link": "[2.6.2.2 Integer formulation of the knapsack problem](https://ndcbe.github.io/CBE60499/02.06-Pyomo1.html#2.6.2.2-Integer-formulation-of-the-knapsack-problem)",
     "section": "2.6.2.2 Integer formulation of the knapsack problem"
    }
   },
   "source": [
    "### 2.6.2.2 Integer formulation of the knapsack problem\n",
    "\n",
    "Consider again the knapsack problem. Assume now that we can acquire multiple items of the same type. In this new formulation, $x_i$ is now an integer variable instead of a binary variable. One way to formulate this problem is as follows:\n",
    "\n",
    "\n",
    "$\\max_{q,x} \\sum_{i\\in{A}}v_ix_i$\n",
    "\n",
    "s.t. $\\sum_{i\\in{A}}w_ix_i\\leq W_{max}$\n",
    "\n",
    "$x_i=\\sum_{j=0}^Njq_{i,j}, \\forall i \\in{A}$\n",
    "\n",
    "$0\\leq x\\leq N$\n",
    "\n",
    "$q_{i,j} \\in {0,1}, \\forall i \\in A, j \\in {0...N}$\n",
    "\n",
    "Starting with your code from **Question 2.1**, implement this new formulation and solve. Is the solution surprising?"
   ]
  },
  {
   "cell_type": "code",
   "execution_count": 10,
   "metadata": {
    "nbpages": {
     "level": 3,
     "link": "[2.6.2.2 Integer formulation of the knapsack problem](https://ndcbe.github.io/CBE60499/02.06-Pyomo1.html#2.6.2.2-Integer-formulation-of-the-knapsack-problem)",
     "section": "2.6.2.2 Integer formulation of the knapsack problem"
    }
   },
   "outputs": [
    {
     "name": "stdout",
     "output_type": "stream",
     "text": [
      "Model unknown\n",
      "\n",
      "  Variables:\n",
      "    x : Size=4, Index=x_index\n",
      "        Key         : Lower : Value : Upper : Fixed : Stale : Domain\n",
      "             hammer :     0 :   0.0 :  None : False : False : NonNegativeIntegers\n",
      "        screwdriver :     0 :   0.0 :  None : False : False : NonNegativeIntegers\n",
      "              towel :     0 :   4.0 :  None : False : False : NonNegativeIntegers\n",
      "             wrench :     0 :   0.0 :  None : False : False : NonNegativeIntegers\n",
      "\n",
      "  Objectives:\n",
      "    obj : Size=1, Index=None, Active=True\n",
      "        Key  : Active : Value\n",
      "        None :   True :  44.0\n",
      "\n",
      "  Constraints:\n",
      "    weight_con : Size=1\n",
      "        Key  : Lower : Body : Upper\n",
      "        None :  None : 12.0 :  14.0\n"
     ]
    }
   ],
   "source": [
    "# YOUR SOLUTION HERE\n",
    "A = ['hammer', 'wrench', 'screwdriver', 'towel']\n",
    "b = {'hammer':8, 'wrench':3, 'screwdriver':6, 'towel':11}\n",
    "w = {'hammer':5, 'wrench':7, 'screwdriver':4, 'towel':3}\n",
    "W_max = 14\n",
    "\n",
    "model = ConcreteModel()\n",
    "model.x = Var( A, within=NonNegativeIntegers )\n",
    "\n",
    "model.obj = Objective(\n",
    "    expr = sum( b[i]*model.x[i] for i in A ), \n",
    "    sense = maximize )\n",
    "\n",
    "model.weight_con = Constraint(\n",
    "    expr = sum( w[i]*model.x[i] for i in A ) <= W_max )\n",
    "\n",
    "# YOUR SOLUTION HERE -- solved\n",
    "opt = SolverFactory('glpk')\n",
    "opt.solve(model)\n",
    "model.display()"
   ]
  },
  {
   "cell_type": "markdown",
   "metadata": {
    "nbpages": {
     "level": 3,
     "link": "[2.6.2.2 Integer formulation of the knapsack problem](https://ndcbe.github.io/CBE60499/02.06-Pyomo1.html#2.6.2.2-Integer-formulation-of-the-knapsack-problem)",
     "section": "2.6.2.2 Integer formulation of the knapsack problem"
    }
   },
   "source": [
    "**Question Answer**\n",
    "\n",
    "The solution is unsurprising because towel has the greatest benefit/weight ratio, so of course the optimizer would add as many towels as possible"
   ]
  },
  {
   "cell_type": "code",
   "execution_count": null,
   "metadata": {
    "nbpages": {
     "level": 3,
     "link": "[2.6.2.2 Integer formulation of the knapsack problem](https://ndcbe.github.io/CBE60499/02.06-Pyomo1.html#2.6.2.2-Integer-formulation-of-the-knapsack-problem)",
     "section": "2.6.2.2 Integer formulation of the knapsack problem"
    }
   },
   "outputs": [],
   "source": []
  },
  {
   "cell_type": "markdown",
   "metadata": {},
   "source": [
    "<!--NAVIGATION-->\n",
    "< [2.5 Stochastic Programming](https://ndcbe.github.io/CBE60499/02.05-SP.html) | [Contents](toc.html) | [2.7 Pyomo Homework 2](https://ndcbe.github.io/CBE60499/02.07-Pyomo2.html) ><p><a href=\"https://colab.research.google.com/github/ndcbe/CBE60499/blob/master/docs/02.06-Pyomo1.ipynb\"> <img align=\"left\" src=\"https://colab.research.google.com/assets/colab-badge.svg\" alt=\"Open in Colab\" title=\"Open in Google Colaboratory\"></a><p><a href=\"https://ndcbe.github.io/CBE60499/02.06-Pyomo1.ipynb\"> <img align=\"left\" src=\"https://img.shields.io/badge/Github-Download-blue.svg\" alt=\"Download\" title=\"Download Notebook\"></a>"
   ]
  }
 ],
 "metadata": {
  "kernelspec": {
   "display_name": "Python 3",
   "language": "python",
   "name": "python3"
  },
  "language_info": {
   "codemirror_mode": {
    "name": "ipython",
    "version": 3
   },
   "file_extension": ".py",
   "mimetype": "text/x-python",
   "name": "python",
   "nbconvert_exporter": "python",
   "pygments_lexer": "ipython3",
   "version": "3.7.9"
  }
 },
 "nbformat": 4,
 "nbformat_minor": 2
}
